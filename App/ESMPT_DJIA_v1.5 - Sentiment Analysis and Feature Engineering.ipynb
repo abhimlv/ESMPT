{
  "cells": [
    {
      "cell_type": "markdown",
      "metadata": {},
      "source": [
        "### Import Libraries"
      ]
    },
    {
      "cell_type": "code",
      "execution_count": null,
      "metadata": {
        "id": "JfjsC12MRvxg"
      },
      "outputs": [],
      "source": [
        "import pandas as pd\n",
        "import numpy as np\n",
        "import matplotlib.pyplot as plt\n",
        "\n",
        "from transformers import AutoTokenizer, AutoModelForSequenceClassification\n",
        "from torch.nn.functional import softmax\n",
        "from tqdm import tqdm\n",
        "\n",
        "import torch\n",
        "import nltk\n",
        "\n",
        "from nltk.sentiment import SentimentIntensityAnalyzer\n",
        "from nltk.corpus import stopwords\n",
        "from nltk.stem import WordNetLemmatizer\n"
      ]
    },
    {
      "cell_type": "code",
      "execution_count": null,
      "metadata": {
        "id": "2XaWQO4NKH64"
      },
      "outputs": [
        {
          "data": {
            "text/html": [
              "<div>\n",
              "<style scoped>\n",
              "    .dataframe tbody tr th:only-of-type {\n",
              "        vertical-align: middle;\n",
              "    }\n",
              "\n",
              "    .dataframe tbody tr th {\n",
              "        vertical-align: top;\n",
              "    }\n",
              "\n",
              "    .dataframe thead th {\n",
              "        text-align: right;\n",
              "    }\n",
              "</style>\n",
              "<table border=\"1\" class=\"dataframe\">\n",
              "  <thead>\n",
              "    <tr style=\"text-align: right;\">\n",
              "      <th></th>\n",
              "      <th>Date</th>\n",
              "      <th>Open</th>\n",
              "      <th>High</th>\n",
              "      <th>Low</th>\n",
              "      <th>Close</th>\n",
              "      <th>Volume</th>\n",
              "      <th>Adj Close</th>\n",
              "    </tr>\n",
              "  </thead>\n",
              "  <tbody>\n",
              "    <tr>\n",
              "      <th>0</th>\n",
              "      <td>2016-07-01</td>\n",
              "      <td>17924.240234</td>\n",
              "      <td>18002.380859</td>\n",
              "      <td>17916.910156</td>\n",
              "      <td>17949.369141</td>\n",
              "      <td>82160000</td>\n",
              "      <td>17949.369141</td>\n",
              "    </tr>\n",
              "    <tr>\n",
              "      <th>1</th>\n",
              "      <td>2016-06-30</td>\n",
              "      <td>17712.759766</td>\n",
              "      <td>17930.609375</td>\n",
              "      <td>17711.800781</td>\n",
              "      <td>17929.990234</td>\n",
              "      <td>133030000</td>\n",
              "      <td>17929.990234</td>\n",
              "    </tr>\n",
              "    <tr>\n",
              "      <th>2</th>\n",
              "      <td>2016-06-29</td>\n",
              "      <td>17456.019531</td>\n",
              "      <td>17704.509766</td>\n",
              "      <td>17456.019531</td>\n",
              "      <td>17694.679688</td>\n",
              "      <td>106380000</td>\n",
              "      <td>17694.679688</td>\n",
              "    </tr>\n",
              "    <tr>\n",
              "      <th>3</th>\n",
              "      <td>2016-06-28</td>\n",
              "      <td>17190.509766</td>\n",
              "      <td>17409.720703</td>\n",
              "      <td>17190.509766</td>\n",
              "      <td>17409.720703</td>\n",
              "      <td>112190000</td>\n",
              "      <td>17409.720703</td>\n",
              "    </tr>\n",
              "    <tr>\n",
              "      <th>4</th>\n",
              "      <td>2016-06-27</td>\n",
              "      <td>17355.210938</td>\n",
              "      <td>17355.210938</td>\n",
              "      <td>17063.080078</td>\n",
              "      <td>17140.240234</td>\n",
              "      <td>138740000</td>\n",
              "      <td>17140.240234</td>\n",
              "    </tr>\n",
              "  </tbody>\n",
              "</table>\n",
              "</div>"
            ],
            "text/plain": [
              "         Date          Open          High           Low         Close  \\\n",
              "0  2016-07-01  17924.240234  18002.380859  17916.910156  17949.369141   \n",
              "1  2016-06-30  17712.759766  17930.609375  17711.800781  17929.990234   \n",
              "2  2016-06-29  17456.019531  17704.509766  17456.019531  17694.679688   \n",
              "3  2016-06-28  17190.509766  17409.720703  17190.509766  17409.720703   \n",
              "4  2016-06-27  17355.210938  17355.210938  17063.080078  17140.240234   \n",
              "\n",
              "      Volume     Adj Close  \n",
              "0   82160000  17949.369141  \n",
              "1  133030000  17929.990234  \n",
              "2  106380000  17694.679688  \n",
              "3  112190000  17409.720703  \n",
              "4  138740000  17140.240234  "
            ]
          },
          "execution_count": 3,
          "metadata": {},
          "output_type": "execute_result"
        }
      ],
      "source": [
        "file_path = 'B:/DCU/Practicum/Proj/Dataset/main/raw/upload_DJIA_table.csv'\n",
        "stock_data = pd.read_csv(file_path)\n",
        "stock_data.head()"
      ]
    },
    {
      "cell_type": "code",
      "execution_count": null,
      "metadata": {
        "id": "GEz7n-3RKp-w"
      },
      "outputs": [
        {
          "data": {
            "text/html": [
              "<div>\n",
              "<style scoped>\n",
              "    .dataframe tbody tr th:only-of-type {\n",
              "        vertical-align: middle;\n",
              "    }\n",
              "\n",
              "    .dataframe tbody tr th {\n",
              "        vertical-align: top;\n",
              "    }\n",
              "\n",
              "    .dataframe thead th {\n",
              "        text-align: right;\n",
              "    }\n",
              "</style>\n",
              "<table border=\"1\" class=\"dataframe\">\n",
              "  <thead>\n",
              "    <tr style=\"text-align: right;\">\n",
              "      <th></th>\n",
              "      <th>Date</th>\n",
              "      <th>News</th>\n",
              "    </tr>\n",
              "  </thead>\n",
              "  <tbody>\n",
              "    <tr>\n",
              "      <th>0</th>\n",
              "      <td>2016-07-01</td>\n",
              "      <td>A 117-year-old woman in Mexico City finally re...</td>\n",
              "    </tr>\n",
              "    <tr>\n",
              "      <th>1</th>\n",
              "      <td>2016-07-01</td>\n",
              "      <td>IMF chief backs Athens as permanent Olympic host</td>\n",
              "    </tr>\n",
              "    <tr>\n",
              "      <th>2</th>\n",
              "      <td>2016-07-01</td>\n",
              "      <td>The president of France says if Brexit won, so...</td>\n",
              "    </tr>\n",
              "    <tr>\n",
              "      <th>3</th>\n",
              "      <td>2016-07-01</td>\n",
              "      <td>British Man Who Must Give Police 24 Hours' Not...</td>\n",
              "    </tr>\n",
              "    <tr>\n",
              "      <th>4</th>\n",
              "      <td>2016-07-01</td>\n",
              "      <td>100+ Nobel laureates urge Greenpeace to stop o...</td>\n",
              "    </tr>\n",
              "  </tbody>\n",
              "</table>\n",
              "</div>"
            ],
            "text/plain": [
              "         Date                                               News\n",
              "0  2016-07-01  A 117-year-old woman in Mexico City finally re...\n",
              "1  2016-07-01   IMF chief backs Athens as permanent Olympic host\n",
              "2  2016-07-01  The president of France says if Brexit won, so...\n",
              "3  2016-07-01  British Man Who Must Give Police 24 Hours' Not...\n",
              "4  2016-07-01  100+ Nobel laureates urge Greenpeace to stop o..."
            ]
          },
          "execution_count": 4,
          "metadata": {},
          "output_type": "execute_result"
        }
      ],
      "source": [
        "file_path1 = 'B:/DCU/Practicum/Proj/Dataset/main/raw/RedditNews.csv'\n",
        "reddit_data = pd.read_csv(file_path1)\n",
        "reddit_data.head()"
      ]
    },
    {
      "cell_type": "code",
      "execution_count": null,
      "metadata": {
        "id": "S2ingV3MLPQG"
      },
      "outputs": [
        {
          "data": {
            "text/html": [
              "<div>\n",
              "<style scoped>\n",
              "    .dataframe tbody tr th:only-of-type {\n",
              "        vertical-align: middle;\n",
              "    }\n",
              "\n",
              "    .dataframe tbody tr th {\n",
              "        vertical-align: top;\n",
              "    }\n",
              "\n",
              "    .dataframe thead th {\n",
              "        text-align: right;\n",
              "    }\n",
              "</style>\n",
              "<table border=\"1\" class=\"dataframe\">\n",
              "  <thead>\n",
              "    <tr style=\"text-align: right;\">\n",
              "      <th></th>\n",
              "      <th>Date</th>\n",
              "      <th>Label</th>\n",
              "      <th>Top1</th>\n",
              "      <th>Top2</th>\n",
              "      <th>Top3</th>\n",
              "      <th>Top4</th>\n",
              "      <th>Top5</th>\n",
              "      <th>Top6</th>\n",
              "      <th>Top7</th>\n",
              "      <th>Top8</th>\n",
              "      <th>...</th>\n",
              "      <th>Top16</th>\n",
              "      <th>Top17</th>\n",
              "      <th>Top18</th>\n",
              "      <th>Top19</th>\n",
              "      <th>Top20</th>\n",
              "      <th>Top21</th>\n",
              "      <th>Top22</th>\n",
              "      <th>Top23</th>\n",
              "      <th>Top24</th>\n",
              "      <th>Top25</th>\n",
              "    </tr>\n",
              "  </thead>\n",
              "  <tbody>\n",
              "    <tr>\n",
              "      <th>0</th>\n",
              "      <td>2008-08-08</td>\n",
              "      <td>0</td>\n",
              "      <td>b\"Georgia 'downs two Russian warplanes' as cou...</td>\n",
              "      <td>b'BREAKING: Musharraf to be impeached.'</td>\n",
              "      <td>b'Russia Today: Columns of troops roll into So...</td>\n",
              "      <td>b'Russian tanks are moving towards the capital...</td>\n",
              "      <td>b\"Afghan children raped with 'impunity,' U.N. ...</td>\n",
              "      <td>b'150 Russian tanks have entered South Ossetia...</td>\n",
              "      <td>b\"Breaking: Georgia invades South Ossetia, Rus...</td>\n",
              "      <td>b\"The 'enemy combatent' trials are nothing but...</td>\n",
              "      <td>...</td>\n",
              "      <td>b'Georgia Invades South Ossetia - if Russia ge...</td>\n",
              "      <td>b'Al-Qaeda Faces Islamist Backlash'</td>\n",
              "      <td>b'Condoleezza Rice: \"The US would not act to p...</td>\n",
              "      <td>b'This is a busy day:  The European Union has ...</td>\n",
              "      <td>b\"Georgia will withdraw 1,000 soldiers from Ir...</td>\n",
              "      <td>b'Why the Pentagon Thinks Attacking Iran is a ...</td>\n",
              "      <td>b'Caucasus in crisis: Georgia invades South Os...</td>\n",
              "      <td>b'Indian shoe manufactory  - And again in a se...</td>\n",
              "      <td>b'Visitors Suffering from Mental Illnesses Ban...</td>\n",
              "      <td>b\"No Help for Mexico's Kidnapping Surge\"</td>\n",
              "    </tr>\n",
              "    <tr>\n",
              "      <th>1</th>\n",
              "      <td>2008-08-11</td>\n",
              "      <td>1</td>\n",
              "      <td>b'Why wont America and Nato help us? If they w...</td>\n",
              "      <td>b'Bush puts foot down on Georgian conflict'</td>\n",
              "      <td>b\"Jewish Georgian minister: Thanks to Israeli ...</td>\n",
              "      <td>b'Georgian army flees in disarray as Russians ...</td>\n",
              "      <td>b\"Olympic opening ceremony fireworks 'faked'\"</td>\n",
              "      <td>b'What were the Mossad with fraudulent New Zea...</td>\n",
              "      <td>b'Russia angered by Israeli military sale to G...</td>\n",
              "      <td>b'An American citizen living in S.Ossetia blam...</td>\n",
              "      <td>...</td>\n",
              "      <td>b'Israel and the US behind the Georgian aggres...</td>\n",
              "      <td>b'\"Do not believe TV, neither Russian nor Geor...</td>\n",
              "      <td>b'Riots are still going on in Montreal (Canada...</td>\n",
              "      <td>b'China to overtake US as largest manufacturer'</td>\n",
              "      <td>b'War in South Ossetia [PICS]'</td>\n",
              "      <td>b'Israeli Physicians Group Condemns State Tort...</td>\n",
              "      <td>b' Russia has just beaten the United States ov...</td>\n",
              "      <td>b'Perhaps *the* question about the Georgia - R...</td>\n",
              "      <td>b'Russia is so much better at war'</td>\n",
              "      <td>b\"So this is what it's come to: trading sex fo...</td>\n",
              "    </tr>\n",
              "    <tr>\n",
              "      <th>2</th>\n",
              "      <td>2008-08-12</td>\n",
              "      <td>0</td>\n",
              "      <td>b'Remember that adorable 9-year-old who sang a...</td>\n",
              "      <td>b\"Russia 'ends Georgia operation'\"</td>\n",
              "      <td>b'\"If we had no sexual harassment we would hav...</td>\n",
              "      <td>b\"Al-Qa'eda is losing support in Iraq because ...</td>\n",
              "      <td>b'Ceasefire in Georgia: Putin Outmaneuvers the...</td>\n",
              "      <td>b'Why Microsoft and Intel tried to kill the XO...</td>\n",
              "      <td>b'Stratfor: The Russo-Georgian War and the Bal...</td>\n",
              "      <td>b\"I'm Trying to Get a Sense of This Whole Geor...</td>\n",
              "      <td>...</td>\n",
              "      <td>b'U.S. troops still in Georgia (did you know t...</td>\n",
              "      <td>b'Why Russias response to Georgia was right'</td>\n",
              "      <td>b'Gorbachev accuses U.S. of making a \"serious ...</td>\n",
              "      <td>b'Russia, Georgia, and NATO: Cold War Two'</td>\n",
              "      <td>b'Remember that adorable 62-year-old who led y...</td>\n",
              "      <td>b'War in Georgia: The Israeli connection'</td>\n",
              "      <td>b'All signs point to the US encouraging Georgi...</td>\n",
              "      <td>b'Christopher King argues that the US and NATO...</td>\n",
              "      <td>b'America: The New Mexico?'</td>\n",
              "      <td>b\"BBC NEWS | Asia-Pacific | Extinction 'by man...</td>\n",
              "    </tr>\n",
              "    <tr>\n",
              "      <th>3</th>\n",
              "      <td>2008-08-13</td>\n",
              "      <td>0</td>\n",
              "      <td>b' U.S. refuses Israel weapons to attack Iran:...</td>\n",
              "      <td>b\"When the president ordered to attack Tskhinv...</td>\n",
              "      <td>b' Israel clears troops who killed Reuters cam...</td>\n",
              "      <td>b'Britain\\'s policy of being tough on drugs is...</td>\n",
              "      <td>b'Body of 14 year old found in trunk; Latest (...</td>\n",
              "      <td>b'China has moved 10 *million* quake survivors...</td>\n",
              "      <td>b\"Bush announces Operation Get All Up In Russi...</td>\n",
              "      <td>b'Russian forces sink Georgian ships '</td>\n",
              "      <td>...</td>\n",
              "      <td>b'Elephants extinct by 2020?'</td>\n",
              "      <td>b'US humanitarian missions soon in Georgia - i...</td>\n",
              "      <td>b\"Georgia's DDOS came from US sources\"</td>\n",
              "      <td>b'Russian convoy heads into Georgia, violating...</td>\n",
              "      <td>b'Israeli defence minister: US against strike ...</td>\n",
              "      <td>b'Gorbachev: We Had No Choice'</td>\n",
              "      <td>b'Witness: Russian forces head towards Tbilisi...</td>\n",
              "      <td>b' Quarter of Russians blame U.S. for conflict...</td>\n",
              "      <td>b'Georgian president  says US military will ta...</td>\n",
              "      <td>b'2006: Nobel laureate Aleksander Solzhenitsyn...</td>\n",
              "    </tr>\n",
              "    <tr>\n",
              "      <th>4</th>\n",
              "      <td>2008-08-14</td>\n",
              "      <td>1</td>\n",
              "      <td>b'All the experts admit that we should legalis...</td>\n",
              "      <td>b'War in South Osetia - 89 pictures made by a ...</td>\n",
              "      <td>b'Swedish wrestler Ara Abrahamian throws away ...</td>\n",
              "      <td>b'Russia exaggerated the death toll in South O...</td>\n",
              "      <td>b'Missile That Killed 9 Inside Pakistan May Ha...</td>\n",
              "      <td>b\"Rushdie Condemns Random House's Refusal to P...</td>\n",
              "      <td>b'Poland and US agree to missle defense deal. ...</td>\n",
              "      <td>b'Will the Russians conquer Tblisi? Bet on it,...</td>\n",
              "      <td>...</td>\n",
              "      <td>b'Bank analyst forecast Georgian crisis 2 days...</td>\n",
              "      <td>b\"Georgia confict could set back Russia's US r...</td>\n",
              "      <td>b'War in the Caucasus is as much the product o...</td>\n",
              "      <td>b'\"Non-media\" photos of South Ossetia/Georgia ...</td>\n",
              "      <td>b'Georgian TV reporter shot by Russian sniper ...</td>\n",
              "      <td>b'Saudi Arabia: Mother moves to block child ma...</td>\n",
              "      <td>b'Taliban wages war on humanitarian aid workers'</td>\n",
              "      <td>b'Russia: World  \"can forget about\" Georgia\\'s...</td>\n",
              "      <td>b'Darfur rebels accuse Sudan of mounting major...</td>\n",
              "      <td>b'Philippines : Peace Advocate say Muslims nee...</td>\n",
              "    </tr>\n",
              "  </tbody>\n",
              "</table>\n",
              "<p>5 rows × 27 columns</p>\n",
              "</div>"
            ],
            "text/plain": [
              "         Date  Label                                               Top1  \\\n",
              "0  2008-08-08      0  b\"Georgia 'downs two Russian warplanes' as cou...   \n",
              "1  2008-08-11      1  b'Why wont America and Nato help us? If they w...   \n",
              "2  2008-08-12      0  b'Remember that adorable 9-year-old who sang a...   \n",
              "3  2008-08-13      0  b' U.S. refuses Israel weapons to attack Iran:...   \n",
              "4  2008-08-14      1  b'All the experts admit that we should legalis...   \n",
              "\n",
              "                                                Top2  \\\n",
              "0            b'BREAKING: Musharraf to be impeached.'   \n",
              "1        b'Bush puts foot down on Georgian conflict'   \n",
              "2                 b\"Russia 'ends Georgia operation'\"   \n",
              "3  b\"When the president ordered to attack Tskhinv...   \n",
              "4  b'War in South Osetia - 89 pictures made by a ...   \n",
              "\n",
              "                                                Top3  \\\n",
              "0  b'Russia Today: Columns of troops roll into So...   \n",
              "1  b\"Jewish Georgian minister: Thanks to Israeli ...   \n",
              "2  b'\"If we had no sexual harassment we would hav...   \n",
              "3  b' Israel clears troops who killed Reuters cam...   \n",
              "4  b'Swedish wrestler Ara Abrahamian throws away ...   \n",
              "\n",
              "                                                Top4  \\\n",
              "0  b'Russian tanks are moving towards the capital...   \n",
              "1  b'Georgian army flees in disarray as Russians ...   \n",
              "2  b\"Al-Qa'eda is losing support in Iraq because ...   \n",
              "3  b'Britain\\'s policy of being tough on drugs is...   \n",
              "4  b'Russia exaggerated the death toll in South O...   \n",
              "\n",
              "                                                Top5  \\\n",
              "0  b\"Afghan children raped with 'impunity,' U.N. ...   \n",
              "1      b\"Olympic opening ceremony fireworks 'faked'\"   \n",
              "2  b'Ceasefire in Georgia: Putin Outmaneuvers the...   \n",
              "3  b'Body of 14 year old found in trunk; Latest (...   \n",
              "4  b'Missile That Killed 9 Inside Pakistan May Ha...   \n",
              "\n",
              "                                                Top6  \\\n",
              "0  b'150 Russian tanks have entered South Ossetia...   \n",
              "1  b'What were the Mossad with fraudulent New Zea...   \n",
              "2  b'Why Microsoft and Intel tried to kill the XO...   \n",
              "3  b'China has moved 10 *million* quake survivors...   \n",
              "4  b\"Rushdie Condemns Random House's Refusal to P...   \n",
              "\n",
              "                                                Top7  \\\n",
              "0  b\"Breaking: Georgia invades South Ossetia, Rus...   \n",
              "1  b'Russia angered by Israeli military sale to G...   \n",
              "2  b'Stratfor: The Russo-Georgian War and the Bal...   \n",
              "3  b\"Bush announces Operation Get All Up In Russi...   \n",
              "4  b'Poland and US agree to missle defense deal. ...   \n",
              "\n",
              "                                                Top8  ...  \\\n",
              "0  b\"The 'enemy combatent' trials are nothing but...  ...   \n",
              "1  b'An American citizen living in S.Ossetia blam...  ...   \n",
              "2  b\"I'm Trying to Get a Sense of This Whole Geor...  ...   \n",
              "3             b'Russian forces sink Georgian ships '  ...   \n",
              "4  b'Will the Russians conquer Tblisi? Bet on it,...  ...   \n",
              "\n",
              "                                               Top16  \\\n",
              "0  b'Georgia Invades South Ossetia - if Russia ge...   \n",
              "1  b'Israel and the US behind the Georgian aggres...   \n",
              "2  b'U.S. troops still in Georgia (did you know t...   \n",
              "3                      b'Elephants extinct by 2020?'   \n",
              "4  b'Bank analyst forecast Georgian crisis 2 days...   \n",
              "\n",
              "                                               Top17  \\\n",
              "0                b'Al-Qaeda Faces Islamist Backlash'   \n",
              "1  b'\"Do not believe TV, neither Russian nor Geor...   \n",
              "2       b'Why Russias response to Georgia was right'   \n",
              "3  b'US humanitarian missions soon in Georgia - i...   \n",
              "4  b\"Georgia confict could set back Russia's US r...   \n",
              "\n",
              "                                               Top18  \\\n",
              "0  b'Condoleezza Rice: \"The US would not act to p...   \n",
              "1  b'Riots are still going on in Montreal (Canada...   \n",
              "2  b'Gorbachev accuses U.S. of making a \"serious ...   \n",
              "3             b\"Georgia's DDOS came from US sources\"   \n",
              "4  b'War in the Caucasus is as much the product o...   \n",
              "\n",
              "                                               Top19  \\\n",
              "0  b'This is a busy day:  The European Union has ...   \n",
              "1    b'China to overtake US as largest manufacturer'   \n",
              "2         b'Russia, Georgia, and NATO: Cold War Two'   \n",
              "3  b'Russian convoy heads into Georgia, violating...   \n",
              "4  b'\"Non-media\" photos of South Ossetia/Georgia ...   \n",
              "\n",
              "                                               Top20  \\\n",
              "0  b\"Georgia will withdraw 1,000 soldiers from Ir...   \n",
              "1                     b'War in South Ossetia [PICS]'   \n",
              "2  b'Remember that adorable 62-year-old who led y...   \n",
              "3  b'Israeli defence minister: US against strike ...   \n",
              "4  b'Georgian TV reporter shot by Russian sniper ...   \n",
              "\n",
              "                                               Top21  \\\n",
              "0  b'Why the Pentagon Thinks Attacking Iran is a ...   \n",
              "1  b'Israeli Physicians Group Condemns State Tort...   \n",
              "2          b'War in Georgia: The Israeli connection'   \n",
              "3                     b'Gorbachev: We Had No Choice'   \n",
              "4  b'Saudi Arabia: Mother moves to block child ma...   \n",
              "\n",
              "                                               Top22  \\\n",
              "0  b'Caucasus in crisis: Georgia invades South Os...   \n",
              "1  b' Russia has just beaten the United States ov...   \n",
              "2  b'All signs point to the US encouraging Georgi...   \n",
              "3  b'Witness: Russian forces head towards Tbilisi...   \n",
              "4   b'Taliban wages war on humanitarian aid workers'   \n",
              "\n",
              "                                               Top23  \\\n",
              "0  b'Indian shoe manufactory  - And again in a se...   \n",
              "1  b'Perhaps *the* question about the Georgia - R...   \n",
              "2  b'Christopher King argues that the US and NATO...   \n",
              "3  b' Quarter of Russians blame U.S. for conflict...   \n",
              "4  b'Russia: World  \"can forget about\" Georgia\\'s...   \n",
              "\n",
              "                                               Top24  \\\n",
              "0  b'Visitors Suffering from Mental Illnesses Ban...   \n",
              "1                 b'Russia is so much better at war'   \n",
              "2                        b'America: The New Mexico?'   \n",
              "3  b'Georgian president  says US military will ta...   \n",
              "4  b'Darfur rebels accuse Sudan of mounting major...   \n",
              "\n",
              "                                               Top25  \n",
              "0           b\"No Help for Mexico's Kidnapping Surge\"  \n",
              "1  b\"So this is what it's come to: trading sex fo...  \n",
              "2  b\"BBC NEWS | Asia-Pacific | Extinction 'by man...  \n",
              "3  b'2006: Nobel laureate Aleksander Solzhenitsyn...  \n",
              "4  b'Philippines : Peace Advocate say Muslims nee...  \n",
              "\n",
              "[5 rows x 27 columns]"
            ]
          },
          "execution_count": 5,
          "metadata": {},
          "output_type": "execute_result"
        }
      ],
      "source": [
        "file_path2 = 'B:/DCU/Practicum/Proj/Dataset/main/raw/Combined_News_DJIA.csv'\n",
        "news_data = pd.read_csv(file_path2)\n",
        "news_data.head()"
      ]
    },
    {
      "cell_type": "code",
      "execution_count": 6,
      "metadata": {
        "colab": {
          "base_uri": "https://localhost:8080/",
          "height": 930
        },
        "id": "oEXVqo-4K6Pt",
        "outputId": "2e761797-8b86-4616-a4ee-238bb73709b8"
      },
      "outputs": [
        {
          "data": {
            "text/plain": [
              "Date     0\n",
              "Label    0\n",
              "Top1     0\n",
              "Top2     0\n",
              "Top3     0\n",
              "Top4     0\n",
              "Top5     0\n",
              "Top6     0\n",
              "Top7     0\n",
              "Top8     0\n",
              "Top9     0\n",
              "Top10    0\n",
              "Top11    0\n",
              "Top12    0\n",
              "Top13    0\n",
              "Top14    0\n",
              "Top15    0\n",
              "Top16    0\n",
              "Top17    0\n",
              "Top18    0\n",
              "Top19    0\n",
              "Top20    0\n",
              "Top21    0\n",
              "Top22    0\n",
              "Top23    1\n",
              "Top24    3\n",
              "Top25    3\n",
              "dtype: int64"
            ]
          },
          "execution_count": 6,
          "metadata": {},
          "output_type": "execute_result"
        }
      ],
      "source": [
        "stock_data.isnull().sum()\n",
        "reddit_data.isnull().sum()\n",
        "news_data.isnull().sum()"
      ]
    },
    {
      "cell_type": "code",
      "execution_count": 7,
      "metadata": {
        "colab": {
          "base_uri": "https://localhost:8080/"
        },
        "id": "oikSQs-pLEwc",
        "outputId": "aad741e5-db85-475a-ea59-bfe23790f194"
      },
      "outputs": [
        {
          "name": "stdout",
          "output_type": "stream",
          "text": [
            "<class 'pandas.core.frame.DataFrame'>\n",
            "RangeIndex: 1989 entries, 0 to 1988\n",
            "Data columns (total 7 columns):\n",
            " #   Column     Non-Null Count  Dtype  \n",
            "---  ------     --------------  -----  \n",
            " 0   Date       1989 non-null   object \n",
            " 1   Open       1989 non-null   float64\n",
            " 2   High       1989 non-null   float64\n",
            " 3   Low        1989 non-null   float64\n",
            " 4   Close      1989 non-null   float64\n",
            " 5   Volume     1989 non-null   int64  \n",
            " 6   Adj Close  1989 non-null   float64\n",
            "dtypes: float64(5), int64(1), object(1)\n",
            "memory usage: 108.9+ KB\n",
            "<class 'pandas.core.frame.DataFrame'>\n",
            "RangeIndex: 73608 entries, 0 to 73607\n",
            "Data columns (total 2 columns):\n",
            " #   Column  Non-Null Count  Dtype \n",
            "---  ------  --------------  ----- \n",
            " 0   Date    73608 non-null  object\n",
            " 1   News    73608 non-null  object\n",
            "dtypes: object(2)\n",
            "memory usage: 1.1+ MB\n",
            "<class 'pandas.core.frame.DataFrame'>\n",
            "RangeIndex: 1989 entries, 0 to 1988\n",
            "Data columns (total 27 columns):\n",
            " #   Column  Non-Null Count  Dtype \n",
            "---  ------  --------------  ----- \n",
            " 0   Date    1989 non-null   object\n",
            " 1   Label   1989 non-null   int64 \n",
            " 2   Top1    1989 non-null   object\n",
            " 3   Top2    1989 non-null   object\n",
            " 4   Top3    1989 non-null   object\n",
            " 5   Top4    1989 non-null   object\n",
            " 6   Top5    1989 non-null   object\n",
            " 7   Top6    1989 non-null   object\n",
            " 8   Top7    1989 non-null   object\n",
            " 9   Top8    1989 non-null   object\n",
            " 10  Top9    1989 non-null   object\n",
            " 11  Top10   1989 non-null   object\n",
            " 12  Top11   1989 non-null   object\n",
            " 13  Top12   1989 non-null   object\n",
            " 14  Top13   1989 non-null   object\n",
            " 15  Top14   1989 non-null   object\n",
            " 16  Top15   1989 non-null   object\n",
            " 17  Top16   1989 non-null   object\n",
            " 18  Top17   1989 non-null   object\n",
            " 19  Top18   1989 non-null   object\n",
            " 20  Top19   1989 non-null   object\n",
            " 21  Top20   1989 non-null   object\n",
            " 22  Top21   1989 non-null   object\n",
            " 23  Top22   1989 non-null   object\n",
            " 24  Top23   1988 non-null   object\n",
            " 25  Top24   1986 non-null   object\n",
            " 26  Top25   1986 non-null   object\n",
            "dtypes: int64(1), object(26)\n",
            "memory usage: 419.7+ KB\n"
          ]
        }
      ],
      "source": [
        "stock_data.info()\n",
        "reddit_data.info()\n",
        "news_data.info()"
      ]
    },
    {
      "cell_type": "code",
      "execution_count": 8,
      "metadata": {
        "id": "6sYbJNxmM0NU"
      },
      "outputs": [],
      "source": [
        "# filled missing values by a blank space for text pre-processing\n",
        "news_data.fillna('', inplace=True)\n",
        "reddit_data.fillna('', inplace=True)"
      ]
    },
    {
      "cell_type": "code",
      "execution_count": 9,
      "metadata": {
        "colab": {
          "base_uri": "https://localhost:8080/",
          "height": 930
        },
        "id": "aHafS7KAM1Jc",
        "outputId": "977eca5a-a472-4ff6-c686-3d05e30eefae"
      },
      "outputs": [
        {
          "data": {
            "text/plain": [
              "Date    0\n",
              "News    0\n",
              "dtype: int64"
            ]
          },
          "execution_count": 9,
          "metadata": {},
          "output_type": "execute_result"
        }
      ],
      "source": [
        "news_data.isnull().sum()\n",
        "reddit_data.isnull().sum()"
      ]
    },
    {
      "cell_type": "code",
      "execution_count": 10,
      "metadata": {},
      "outputs": [
        {
          "name": "stdout",
          "output_type": "stream",
          "text": [
            "object\n",
            "object\n",
            "object\n"
          ]
        }
      ],
      "source": [
        "print(stock_data['Date'].dtype)\n",
        "print(reddit_data['Date'].dtype)\n",
        "print(news_data['Date'].dtype)"
      ]
    },
    {
      "cell_type": "code",
      "execution_count": 11,
      "metadata": {},
      "outputs": [
        {
          "name": "stdout",
          "output_type": "stream",
          "text": [
            "datetime64[ns]\n",
            "datetime64[ns]\n",
            "datetime64[ns]\n"
          ]
        }
      ],
      "source": [
        "# changing to datetime format\n",
        "stock_data['Date'] = pd.to_datetime(stock_data['Date'])\n",
        "reddit_data['Date'] = pd.to_datetime(reddit_data['Date'])\n",
        "news_data['Date'] = pd.to_datetime(news_data['Date'])\n",
        "\n",
        "print(stock_data['Date'].dtype)\n",
        "print(reddit_data['Date'].dtype)\n",
        "print(news_data['Date'].dtype)"
      ]
    },
    {
      "cell_type": "code",
      "execution_count": 12,
      "metadata": {
        "id": "lWhblBobNB4b"
      },
      "outputs": [],
      "source": [
        "# sorted data to follow ascending order as the other dataframes do\n",
        "news_data = news_data.sort_values(by='Date', ascending=True).reset_index(drop=True)\n",
        "reddit_data = reddit_data.sort_values(by='Date', ascending=True).reset_index(drop=True)"
      ]
    },
    {
      "cell_type": "code",
      "execution_count": 13,
      "metadata": {
        "colab": {
          "base_uri": "https://localhost:8080/",
          "height": 706
        },
        "id": "edeWdpHgNXIS",
        "outputId": "855bcafd-7aef-4109-83dc-5515a160ff21"
      },
      "outputs": [
        {
          "data": {
            "text/html": [
              "<div>\n",
              "<style scoped>\n",
              "    .dataframe tbody tr th:only-of-type {\n",
              "        vertical-align: middle;\n",
              "    }\n",
              "\n",
              "    .dataframe tbody tr th {\n",
              "        vertical-align: top;\n",
              "    }\n",
              "\n",
              "    .dataframe thead th {\n",
              "        text-align: right;\n",
              "    }\n",
              "</style>\n",
              "<table border=\"1\" class=\"dataframe\">\n",
              "  <thead>\n",
              "    <tr style=\"text-align: right;\">\n",
              "      <th></th>\n",
              "      <th>Date</th>\n",
              "      <th>Label</th>\n",
              "      <th>Top1</th>\n",
              "      <th>Top2</th>\n",
              "      <th>Top3</th>\n",
              "      <th>Top4</th>\n",
              "      <th>Top5</th>\n",
              "      <th>Top6</th>\n",
              "      <th>Top7</th>\n",
              "      <th>Top8</th>\n",
              "      <th>...</th>\n",
              "      <th>Top16</th>\n",
              "      <th>Top17</th>\n",
              "      <th>Top18</th>\n",
              "      <th>Top19</th>\n",
              "      <th>Top20</th>\n",
              "      <th>Top21</th>\n",
              "      <th>Top22</th>\n",
              "      <th>Top23</th>\n",
              "      <th>Top24</th>\n",
              "      <th>Top25</th>\n",
              "    </tr>\n",
              "  </thead>\n",
              "  <tbody>\n",
              "    <tr>\n",
              "      <th>0</th>\n",
              "      <td>2008-08-08</td>\n",
              "      <td>0</td>\n",
              "      <td>b\"Georgia 'downs two Russian warplanes' as cou...</td>\n",
              "      <td>b'BREAKING: Musharraf to be impeached.'</td>\n",
              "      <td>b'Russia Today: Columns of troops roll into So...</td>\n",
              "      <td>b'Russian tanks are moving towards the capital...</td>\n",
              "      <td>b\"Afghan children raped with 'impunity,' U.N. ...</td>\n",
              "      <td>b'150 Russian tanks have entered South Ossetia...</td>\n",
              "      <td>b\"Breaking: Georgia invades South Ossetia, Rus...</td>\n",
              "      <td>b\"The 'enemy combatent' trials are nothing but...</td>\n",
              "      <td>...</td>\n",
              "      <td>b'Georgia Invades South Ossetia - if Russia ge...</td>\n",
              "      <td>b'Al-Qaeda Faces Islamist Backlash'</td>\n",
              "      <td>b'Condoleezza Rice: \"The US would not act to p...</td>\n",
              "      <td>b'This is a busy day:  The European Union has ...</td>\n",
              "      <td>b\"Georgia will withdraw 1,000 soldiers from Ir...</td>\n",
              "      <td>b'Why the Pentagon Thinks Attacking Iran is a ...</td>\n",
              "      <td>b'Caucasus in crisis: Georgia invades South Os...</td>\n",
              "      <td>b'Indian shoe manufactory  - And again in a se...</td>\n",
              "      <td>b'Visitors Suffering from Mental Illnesses Ban...</td>\n",
              "      <td>b\"No Help for Mexico's Kidnapping Surge\"</td>\n",
              "    </tr>\n",
              "    <tr>\n",
              "      <th>1</th>\n",
              "      <td>2008-08-11</td>\n",
              "      <td>1</td>\n",
              "      <td>b'Why wont America and Nato help us? If they w...</td>\n",
              "      <td>b'Bush puts foot down on Georgian conflict'</td>\n",
              "      <td>b\"Jewish Georgian minister: Thanks to Israeli ...</td>\n",
              "      <td>b'Georgian army flees in disarray as Russians ...</td>\n",
              "      <td>b\"Olympic opening ceremony fireworks 'faked'\"</td>\n",
              "      <td>b'What were the Mossad with fraudulent New Zea...</td>\n",
              "      <td>b'Russia angered by Israeli military sale to G...</td>\n",
              "      <td>b'An American citizen living in S.Ossetia blam...</td>\n",
              "      <td>...</td>\n",
              "      <td>b'Israel and the US behind the Georgian aggres...</td>\n",
              "      <td>b'\"Do not believe TV, neither Russian nor Geor...</td>\n",
              "      <td>b'Riots are still going on in Montreal (Canada...</td>\n",
              "      <td>b'China to overtake US as largest manufacturer'</td>\n",
              "      <td>b'War in South Ossetia [PICS]'</td>\n",
              "      <td>b'Israeli Physicians Group Condemns State Tort...</td>\n",
              "      <td>b' Russia has just beaten the United States ov...</td>\n",
              "      <td>b'Perhaps *the* question about the Georgia - R...</td>\n",
              "      <td>b'Russia is so much better at war'</td>\n",
              "      <td>b\"So this is what it's come to: trading sex fo...</td>\n",
              "    </tr>\n",
              "    <tr>\n",
              "      <th>2</th>\n",
              "      <td>2008-08-12</td>\n",
              "      <td>0</td>\n",
              "      <td>b'Remember that adorable 9-year-old who sang a...</td>\n",
              "      <td>b\"Russia 'ends Georgia operation'\"</td>\n",
              "      <td>b'\"If we had no sexual harassment we would hav...</td>\n",
              "      <td>b\"Al-Qa'eda is losing support in Iraq because ...</td>\n",
              "      <td>b'Ceasefire in Georgia: Putin Outmaneuvers the...</td>\n",
              "      <td>b'Why Microsoft and Intel tried to kill the XO...</td>\n",
              "      <td>b'Stratfor: The Russo-Georgian War and the Bal...</td>\n",
              "      <td>b\"I'm Trying to Get a Sense of This Whole Geor...</td>\n",
              "      <td>...</td>\n",
              "      <td>b'U.S. troops still in Georgia (did you know t...</td>\n",
              "      <td>b'Why Russias response to Georgia was right'</td>\n",
              "      <td>b'Gorbachev accuses U.S. of making a \"serious ...</td>\n",
              "      <td>b'Russia, Georgia, and NATO: Cold War Two'</td>\n",
              "      <td>b'Remember that adorable 62-year-old who led y...</td>\n",
              "      <td>b'War in Georgia: The Israeli connection'</td>\n",
              "      <td>b'All signs point to the US encouraging Georgi...</td>\n",
              "      <td>b'Christopher King argues that the US and NATO...</td>\n",
              "      <td>b'America: The New Mexico?'</td>\n",
              "      <td>b\"BBC NEWS | Asia-Pacific | Extinction 'by man...</td>\n",
              "    </tr>\n",
              "    <tr>\n",
              "      <th>3</th>\n",
              "      <td>2008-08-13</td>\n",
              "      <td>0</td>\n",
              "      <td>b' U.S. refuses Israel weapons to attack Iran:...</td>\n",
              "      <td>b\"When the president ordered to attack Tskhinv...</td>\n",
              "      <td>b' Israel clears troops who killed Reuters cam...</td>\n",
              "      <td>b'Britain\\'s policy of being tough on drugs is...</td>\n",
              "      <td>b'Body of 14 year old found in trunk; Latest (...</td>\n",
              "      <td>b'China has moved 10 *million* quake survivors...</td>\n",
              "      <td>b\"Bush announces Operation Get All Up In Russi...</td>\n",
              "      <td>b'Russian forces sink Georgian ships '</td>\n",
              "      <td>...</td>\n",
              "      <td>b'Elephants extinct by 2020?'</td>\n",
              "      <td>b'US humanitarian missions soon in Georgia - i...</td>\n",
              "      <td>b\"Georgia's DDOS came from US sources\"</td>\n",
              "      <td>b'Russian convoy heads into Georgia, violating...</td>\n",
              "      <td>b'Israeli defence minister: US against strike ...</td>\n",
              "      <td>b'Gorbachev: We Had No Choice'</td>\n",
              "      <td>b'Witness: Russian forces head towards Tbilisi...</td>\n",
              "      <td>b' Quarter of Russians blame U.S. for conflict...</td>\n",
              "      <td>b'Georgian president  says US military will ta...</td>\n",
              "      <td>b'2006: Nobel laureate Aleksander Solzhenitsyn...</td>\n",
              "    </tr>\n",
              "    <tr>\n",
              "      <th>4</th>\n",
              "      <td>2008-08-14</td>\n",
              "      <td>1</td>\n",
              "      <td>b'All the experts admit that we should legalis...</td>\n",
              "      <td>b'War in South Osetia - 89 pictures made by a ...</td>\n",
              "      <td>b'Swedish wrestler Ara Abrahamian throws away ...</td>\n",
              "      <td>b'Russia exaggerated the death toll in South O...</td>\n",
              "      <td>b'Missile That Killed 9 Inside Pakistan May Ha...</td>\n",
              "      <td>b\"Rushdie Condemns Random House's Refusal to P...</td>\n",
              "      <td>b'Poland and US agree to missle defense deal. ...</td>\n",
              "      <td>b'Will the Russians conquer Tblisi? Bet on it,...</td>\n",
              "      <td>...</td>\n",
              "      <td>b'Bank analyst forecast Georgian crisis 2 days...</td>\n",
              "      <td>b\"Georgia confict could set back Russia's US r...</td>\n",
              "      <td>b'War in the Caucasus is as much the product o...</td>\n",
              "      <td>b'\"Non-media\" photos of South Ossetia/Georgia ...</td>\n",
              "      <td>b'Georgian TV reporter shot by Russian sniper ...</td>\n",
              "      <td>b'Saudi Arabia: Mother moves to block child ma...</td>\n",
              "      <td>b'Taliban wages war on humanitarian aid workers'</td>\n",
              "      <td>b'Russia: World  \"can forget about\" Georgia\\'s...</td>\n",
              "      <td>b'Darfur rebels accuse Sudan of mounting major...</td>\n",
              "      <td>b'Philippines : Peace Advocate say Muslims nee...</td>\n",
              "    </tr>\n",
              "  </tbody>\n",
              "</table>\n",
              "<p>5 rows × 27 columns</p>\n",
              "</div>"
            ],
            "text/plain": [
              "        Date  Label                                               Top1  \\\n",
              "0 2008-08-08      0  b\"Georgia 'downs two Russian warplanes' as cou...   \n",
              "1 2008-08-11      1  b'Why wont America and Nato help us? If they w...   \n",
              "2 2008-08-12      0  b'Remember that adorable 9-year-old who sang a...   \n",
              "3 2008-08-13      0  b' U.S. refuses Israel weapons to attack Iran:...   \n",
              "4 2008-08-14      1  b'All the experts admit that we should legalis...   \n",
              "\n",
              "                                                Top2  \\\n",
              "0            b'BREAKING: Musharraf to be impeached.'   \n",
              "1        b'Bush puts foot down on Georgian conflict'   \n",
              "2                 b\"Russia 'ends Georgia operation'\"   \n",
              "3  b\"When the president ordered to attack Tskhinv...   \n",
              "4  b'War in South Osetia - 89 pictures made by a ...   \n",
              "\n",
              "                                                Top3  \\\n",
              "0  b'Russia Today: Columns of troops roll into So...   \n",
              "1  b\"Jewish Georgian minister: Thanks to Israeli ...   \n",
              "2  b'\"If we had no sexual harassment we would hav...   \n",
              "3  b' Israel clears troops who killed Reuters cam...   \n",
              "4  b'Swedish wrestler Ara Abrahamian throws away ...   \n",
              "\n",
              "                                                Top4  \\\n",
              "0  b'Russian tanks are moving towards the capital...   \n",
              "1  b'Georgian army flees in disarray as Russians ...   \n",
              "2  b\"Al-Qa'eda is losing support in Iraq because ...   \n",
              "3  b'Britain\\'s policy of being tough on drugs is...   \n",
              "4  b'Russia exaggerated the death toll in South O...   \n",
              "\n",
              "                                                Top5  \\\n",
              "0  b\"Afghan children raped with 'impunity,' U.N. ...   \n",
              "1      b\"Olympic opening ceremony fireworks 'faked'\"   \n",
              "2  b'Ceasefire in Georgia: Putin Outmaneuvers the...   \n",
              "3  b'Body of 14 year old found in trunk; Latest (...   \n",
              "4  b'Missile That Killed 9 Inside Pakistan May Ha...   \n",
              "\n",
              "                                                Top6  \\\n",
              "0  b'150 Russian tanks have entered South Ossetia...   \n",
              "1  b'What were the Mossad with fraudulent New Zea...   \n",
              "2  b'Why Microsoft and Intel tried to kill the XO...   \n",
              "3  b'China has moved 10 *million* quake survivors...   \n",
              "4  b\"Rushdie Condemns Random House's Refusal to P...   \n",
              "\n",
              "                                                Top7  \\\n",
              "0  b\"Breaking: Georgia invades South Ossetia, Rus...   \n",
              "1  b'Russia angered by Israeli military sale to G...   \n",
              "2  b'Stratfor: The Russo-Georgian War and the Bal...   \n",
              "3  b\"Bush announces Operation Get All Up In Russi...   \n",
              "4  b'Poland and US agree to missle defense deal. ...   \n",
              "\n",
              "                                                Top8  ...  \\\n",
              "0  b\"The 'enemy combatent' trials are nothing but...  ...   \n",
              "1  b'An American citizen living in S.Ossetia blam...  ...   \n",
              "2  b\"I'm Trying to Get a Sense of This Whole Geor...  ...   \n",
              "3             b'Russian forces sink Georgian ships '  ...   \n",
              "4  b'Will the Russians conquer Tblisi? Bet on it,...  ...   \n",
              "\n",
              "                                               Top16  \\\n",
              "0  b'Georgia Invades South Ossetia - if Russia ge...   \n",
              "1  b'Israel and the US behind the Georgian aggres...   \n",
              "2  b'U.S. troops still in Georgia (did you know t...   \n",
              "3                      b'Elephants extinct by 2020?'   \n",
              "4  b'Bank analyst forecast Georgian crisis 2 days...   \n",
              "\n",
              "                                               Top17  \\\n",
              "0                b'Al-Qaeda Faces Islamist Backlash'   \n",
              "1  b'\"Do not believe TV, neither Russian nor Geor...   \n",
              "2       b'Why Russias response to Georgia was right'   \n",
              "3  b'US humanitarian missions soon in Georgia - i...   \n",
              "4  b\"Georgia confict could set back Russia's US r...   \n",
              "\n",
              "                                               Top18  \\\n",
              "0  b'Condoleezza Rice: \"The US would not act to p...   \n",
              "1  b'Riots are still going on in Montreal (Canada...   \n",
              "2  b'Gorbachev accuses U.S. of making a \"serious ...   \n",
              "3             b\"Georgia's DDOS came from US sources\"   \n",
              "4  b'War in the Caucasus is as much the product o...   \n",
              "\n",
              "                                               Top19  \\\n",
              "0  b'This is a busy day:  The European Union has ...   \n",
              "1    b'China to overtake US as largest manufacturer'   \n",
              "2         b'Russia, Georgia, and NATO: Cold War Two'   \n",
              "3  b'Russian convoy heads into Georgia, violating...   \n",
              "4  b'\"Non-media\" photos of South Ossetia/Georgia ...   \n",
              "\n",
              "                                               Top20  \\\n",
              "0  b\"Georgia will withdraw 1,000 soldiers from Ir...   \n",
              "1                     b'War in South Ossetia [PICS]'   \n",
              "2  b'Remember that adorable 62-year-old who led y...   \n",
              "3  b'Israeli defence minister: US against strike ...   \n",
              "4  b'Georgian TV reporter shot by Russian sniper ...   \n",
              "\n",
              "                                               Top21  \\\n",
              "0  b'Why the Pentagon Thinks Attacking Iran is a ...   \n",
              "1  b'Israeli Physicians Group Condemns State Tort...   \n",
              "2          b'War in Georgia: The Israeli connection'   \n",
              "3                     b'Gorbachev: We Had No Choice'   \n",
              "4  b'Saudi Arabia: Mother moves to block child ma...   \n",
              "\n",
              "                                               Top22  \\\n",
              "0  b'Caucasus in crisis: Georgia invades South Os...   \n",
              "1  b' Russia has just beaten the United States ov...   \n",
              "2  b'All signs point to the US encouraging Georgi...   \n",
              "3  b'Witness: Russian forces head towards Tbilisi...   \n",
              "4   b'Taliban wages war on humanitarian aid workers'   \n",
              "\n",
              "                                               Top23  \\\n",
              "0  b'Indian shoe manufactory  - And again in a se...   \n",
              "1  b'Perhaps *the* question about the Georgia - R...   \n",
              "2  b'Christopher King argues that the US and NATO...   \n",
              "3  b' Quarter of Russians blame U.S. for conflict...   \n",
              "4  b'Russia: World  \"can forget about\" Georgia\\'s...   \n",
              "\n",
              "                                               Top24  \\\n",
              "0  b'Visitors Suffering from Mental Illnesses Ban...   \n",
              "1                 b'Russia is so much better at war'   \n",
              "2                        b'America: The New Mexico?'   \n",
              "3  b'Georgian president  says US military will ta...   \n",
              "4  b'Darfur rebels accuse Sudan of mounting major...   \n",
              "\n",
              "                                               Top25  \n",
              "0           b\"No Help for Mexico's Kidnapping Surge\"  \n",
              "1  b\"So this is what it's come to: trading sex fo...  \n",
              "2  b\"BBC NEWS | Asia-Pacific | Extinction 'by man...  \n",
              "3  b'2006: Nobel laureate Aleksander Solzhenitsyn...  \n",
              "4  b'Philippines : Peace Advocate say Muslims nee...  \n",
              "\n",
              "[5 rows x 27 columns]"
            ]
          },
          "execution_count": 13,
          "metadata": {},
          "output_type": "execute_result"
        }
      ],
      "source": [
        "news_data.head()"
      ]
    },
    {
      "cell_type": "code",
      "execution_count": 14,
      "metadata": {},
      "outputs": [
        {
          "data": {
            "text/html": [
              "<div>\n",
              "<style scoped>\n",
              "    .dataframe tbody tr th:only-of-type {\n",
              "        vertical-align: middle;\n",
              "    }\n",
              "\n",
              "    .dataframe tbody tr th {\n",
              "        vertical-align: top;\n",
              "    }\n",
              "\n",
              "    .dataframe thead th {\n",
              "        text-align: right;\n",
              "    }\n",
              "</style>\n",
              "<table border=\"1\" class=\"dataframe\">\n",
              "  <thead>\n",
              "    <tr style=\"text-align: right;\">\n",
              "      <th></th>\n",
              "      <th>Date</th>\n",
              "      <th>News</th>\n",
              "    </tr>\n",
              "  </thead>\n",
              "  <tbody>\n",
              "    <tr>\n",
              "      <th>0</th>\n",
              "      <td>2008-06-08</td>\n",
              "      <td>b'Marriage, they said, was reduced to the stat...</td>\n",
              "    </tr>\n",
              "    <tr>\n",
              "      <th>1</th>\n",
              "      <td>2008-06-08</td>\n",
              "      <td>b'Nim Chimpsky: The tragedy of the chimp who t...</td>\n",
              "    </tr>\n",
              "    <tr>\n",
              "      <th>2</th>\n",
              "      <td>2008-06-08</td>\n",
              "      <td>b\"Canada: Beware slippery slope' to censorship...</td>\n",
              "    </tr>\n",
              "    <tr>\n",
              "      <th>3</th>\n",
              "      <td>2008-06-08</td>\n",
              "      <td>b'EU Vice-President Luisa Morgantini and the I...</td>\n",
              "    </tr>\n",
              "    <tr>\n",
              "      <th>4</th>\n",
              "      <td>2008-06-08</td>\n",
              "      <td>b\"Israeli minister: Israel will attack Iran if...</td>\n",
              "    </tr>\n",
              "  </tbody>\n",
              "</table>\n",
              "</div>"
            ],
            "text/plain": [
              "        Date                                               News\n",
              "0 2008-06-08  b'Marriage, they said, was reduced to the stat...\n",
              "1 2008-06-08  b'Nim Chimpsky: The tragedy of the chimp who t...\n",
              "2 2008-06-08  b\"Canada: Beware slippery slope' to censorship...\n",
              "3 2008-06-08  b'EU Vice-President Luisa Morgantini and the I...\n",
              "4 2008-06-08  b\"Israeli minister: Israel will attack Iran if..."
            ]
          },
          "execution_count": 14,
          "metadata": {},
          "output_type": "execute_result"
        }
      ],
      "source": [
        "reddit_data.head()"
      ]
    },
    {
      "cell_type": "code",
      "execution_count": 15,
      "metadata": {
        "colab": {
          "base_uri": "https://localhost:8080/"
        },
        "id": "Eku41lduNtbk",
        "outputId": "798428a7-209e-4dc1-93f6-aace4206179c"
      },
      "outputs": [
        {
          "name": "stdout",
          "output_type": "stream",
          "text": [
            "2008-08-08 00:00:00 2016-07-01 00:00:00\n",
            "2008-06-08 00:00:00 2016-07-01 00:00:00\n",
            "2008-08-08 00:00:00 2016-07-01 00:00:00\n"
          ]
        }
      ],
      "source": [
        "print(stock_data['Date'].min(), stock_data['Date'].max())\n",
        "print(reddit_data['Date'].min(), reddit_data['Date'].max())\n",
        "print(news_data['Date'].min(), news_data['Date'].max())"
      ]
    },
    {
      "cell_type": "code",
      "execution_count": 16,
      "metadata": {
        "id": "WdGkhP81OYcE"
      },
      "outputs": [],
      "source": [
        "# removed every sentence starting with letter 'b'\n",
        "for i in range(1, 26):\n",
        "    news_data[f'Top{i}'] = news_data[f'Top{i}'].apply(lambda x: x.replace(\"b'\", \"\").replace(\"'\", \"\").replace('b\"','').replace('\"', '') if isinstance(x, str) else x)\n",
        "\n",
        "\n",
        "reddit_data[f'News'] = reddit_data[f'News'].apply(lambda x: x.replace(\"b'\", \"\").replace(\"'\", \"\").replace('b\"','').replace('\"', '') if isinstance(x, str) else x)"
      ]
    },
    {
      "cell_type": "code",
      "execution_count": 17,
      "metadata": {},
      "outputs": [
        {
          "data": {
            "text/html": [
              "<div>\n",
              "<style scoped>\n",
              "    .dataframe tbody tr th:only-of-type {\n",
              "        vertical-align: middle;\n",
              "    }\n",
              "\n",
              "    .dataframe tbody tr th {\n",
              "        vertical-align: top;\n",
              "    }\n",
              "\n",
              "    .dataframe thead th {\n",
              "        text-align: right;\n",
              "    }\n",
              "</style>\n",
              "<table border=\"1\" class=\"dataframe\">\n",
              "  <thead>\n",
              "    <tr style=\"text-align: right;\">\n",
              "      <th></th>\n",
              "      <th>Date</th>\n",
              "      <th>Label</th>\n",
              "      <th>Top1</th>\n",
              "      <th>Top2</th>\n",
              "      <th>Top3</th>\n",
              "      <th>Top4</th>\n",
              "      <th>Top5</th>\n",
              "      <th>Top6</th>\n",
              "      <th>Top7</th>\n",
              "      <th>Top8</th>\n",
              "      <th>...</th>\n",
              "      <th>Top16</th>\n",
              "      <th>Top17</th>\n",
              "      <th>Top18</th>\n",
              "      <th>Top19</th>\n",
              "      <th>Top20</th>\n",
              "      <th>Top21</th>\n",
              "      <th>Top22</th>\n",
              "      <th>Top23</th>\n",
              "      <th>Top24</th>\n",
              "      <th>Top25</th>\n",
              "    </tr>\n",
              "  </thead>\n",
              "  <tbody>\n",
              "    <tr>\n",
              "      <th>0</th>\n",
              "      <td>2008-08-08</td>\n",
              "      <td>0</td>\n",
              "      <td>Georgia downs two Russian warplanes as countri...</td>\n",
              "      <td>BREAKING: Musharraf to be impeached.</td>\n",
              "      <td>Russia Today: Columns of troops roll into Sout...</td>\n",
              "      <td>Russian tanks are moving towards the capital o...</td>\n",
              "      <td>Afghan children raped with impunity, U.N. offi...</td>\n",
              "      <td>150 Russian tanks have entered South Ossetia w...</td>\n",
              "      <td>Breaking: Georgia invades South Ossetia, Russi...</td>\n",
              "      <td>The enemy combatent trials are nothing but a s...</td>\n",
              "      <td>...</td>\n",
              "      <td>Georgia Invades South Ossetia - if Russia gets...</td>\n",
              "      <td>Al-Qaeda Faces Islamist Backlash</td>\n",
              "      <td>Condoleezza Rice: The US would not act to prev...</td>\n",
              "      <td>This is a busy day:  The European Union has ap...</td>\n",
              "      <td>Georgia will withdraw 1,000 soldiers from Iraq...</td>\n",
              "      <td>Why the Pentagon Thinks Attacking Iran is a Ba...</td>\n",
              "      <td>Caucasus in crisis: Georgia invades South Ossetia</td>\n",
              "      <td>Indian shoe manufactory  - And again in a seri...</td>\n",
              "      <td>Visitors Suffering from Mental Illnesses Banne...</td>\n",
              "      <td>No Help for Mexicos Kidnapping Surge</td>\n",
              "    </tr>\n",
              "    <tr>\n",
              "      <th>1</th>\n",
              "      <td>2008-08-11</td>\n",
              "      <td>1</td>\n",
              "      <td>Why wont America and Nato help us? If they won...</td>\n",
              "      <td>Bush puts foot down on Georgian conflict</td>\n",
              "      <td>Jewish Georgian minister: Thanks to Israeli tr...</td>\n",
              "      <td>Georgian army flees in disarray as Russians ad...</td>\n",
              "      <td>Olympic opening ceremony fireworks faked</td>\n",
              "      <td>What were the Mossad with fraudulent New Zeala...</td>\n",
              "      <td>Russia angered by Israeli military sale to Geo...</td>\n",
              "      <td>An American citizen living in S.Ossetia blames...</td>\n",
              "      <td>...</td>\n",
              "      <td>Israel and the US behind the Georgian aggression?</td>\n",
              "      <td>Do not believe TV, neither Russian nor Georgia...</td>\n",
              "      <td>Riots are still going on in Montreal (Canada) ...</td>\n",
              "      <td>China to overtake US as largest manufacturer</td>\n",
              "      <td>War in South Ossetia [PICS]</td>\n",
              "      <td>Israeli Physicians Group Condemns State Torture</td>\n",
              "      <td>Russia has just beaten the United States over...</td>\n",
              "      <td>Perhaps *the* question about the Georgia - Rus...</td>\n",
              "      <td>Russia is so much better at war</td>\n",
              "      <td>So this is what its come to: trading sex for f...</td>\n",
              "    </tr>\n",
              "    <tr>\n",
              "      <th>2</th>\n",
              "      <td>2008-08-12</td>\n",
              "      <td>0</td>\n",
              "      <td>Remember that adorable 9-year-old who sang at ...</td>\n",
              "      <td>Russia ends Georgia operation</td>\n",
              "      <td>If we had no sexual harassment we would have n...</td>\n",
              "      <td>Al-Qaeda is losing support in Iraq because of ...</td>\n",
              "      <td>Ceasefire in Georgia: Putin Outmaneuvers the West</td>\n",
              "      <td>Why Microsoft and Intel tried to kill the XO $...</td>\n",
              "      <td>Stratfor: The Russo-Georgian War and the Balan...</td>\n",
              "      <td>Im Trying to Get a Sense of This Whole Georgia...</td>\n",
              "      <td>...</td>\n",
              "      <td>U.S. troops still in Georgia (did you know the...</td>\n",
              "      <td>Why Russias response to Georgia was right</td>\n",
              "      <td>Gorbachev accuses U.S. of making a serious blu...</td>\n",
              "      <td>Russia, Georgia, and NATO: Cold War Two</td>\n",
              "      <td>Remember that adorable 62-year-old who led you...</td>\n",
              "      <td>War in Georgia: The Israeli connection</td>\n",
              "      <td>All signs point to the US encouraging Georgia ...</td>\n",
              "      <td>Christopher King argues that the US and NATO a...</td>\n",
              "      <td>America: The New Mexico?</td>\n",
              "      <td>BBC NEWS | Asia-Pacific | Extinction by man no...</td>\n",
              "    </tr>\n",
              "    <tr>\n",
              "      <th>3</th>\n",
              "      <td>2008-08-13</td>\n",
              "      <td>0</td>\n",
              "      <td>U.S. refuses Israel weapons to attack Iran: r...</td>\n",
              "      <td>When the president ordered to attack Tskhinval...</td>\n",
              "      <td>Israel clears troops who killed Reuters camer...</td>\n",
              "      <td>Britain\\s policy of being tough on drugs is po...</td>\n",
              "      <td>Body of 14 year old found in trunk; Latest (ra...</td>\n",
              "      <td>China has moved 10 *million* quake survivors i...</td>\n",
              "      <td>Bush announces Operation Get All Up In Russias...</td>\n",
              "      <td>Russian forces sink Georgian ships</td>\n",
              "      <td>...</td>\n",
              "      <td>Elephants extinct by 2020?</td>\n",
              "      <td>US humanitarian missions soon in Georgia - if ...</td>\n",
              "      <td>Georgias DDOS came from US sources</td>\n",
              "      <td>Russian convoy heads into Georgia, violating t...</td>\n",
              "      <td>Israeli defence minister: US against strike on...</td>\n",
              "      <td>Gorbachev: We Had No Choice</td>\n",
              "      <td>Witness: Russian forces head towards Tbilisi i...</td>\n",
              "      <td>Quarter of Russians blame U.S. for conflict: ...</td>\n",
              "      <td>Georgian president  says US military will take...</td>\n",
              "      <td>2006: Nobel laureate Aleksander Solzhenitsyn a...</td>\n",
              "    </tr>\n",
              "    <tr>\n",
              "      <th>4</th>\n",
              "      <td>2008-08-14</td>\n",
              "      <td>1</td>\n",
              "      <td>All the experts admit that we should legalise ...</td>\n",
              "      <td>War in South Osetia - 89 pictures made by a Ru...</td>\n",
              "      <td>Swedish wrestler Ara Abrahamian throws away me...</td>\n",
              "      <td>Russia exaggerated the death toll in South Oss...</td>\n",
              "      <td>Missile That Killed 9 Inside Pakistan May Have...</td>\n",
              "      <td>Rushdie Condemns Random Houses Refusal to Publ...</td>\n",
              "      <td>Poland and US agree to missle defense deal. In...</td>\n",
              "      <td>Will the Russians conquer Tblisi? Bet on it, n...</td>\n",
              "      <td>...</td>\n",
              "      <td>Bank analyst forecast Georgian crisis 2 days e...</td>\n",
              "      <td>Georgia confict could set back Russias US rela...</td>\n",
              "      <td>War in the Caucasus is as much the product of ...</td>\n",
              "      <td>Non-media photos of South Ossetia/Georgia conf...</td>\n",
              "      <td>Georgian TV reporter shot by Russian sniper du...</td>\n",
              "      <td>Saudi Arabia: Mother moves to block child marr...</td>\n",
              "      <td>Taliban wages war on humanitarian aid workers</td>\n",
              "      <td>Russia: World  can forget about Georgia\\s terr...</td>\n",
              "      <td>Darfur rebels accuse Sudan of mounting major a...</td>\n",
              "      <td>Philippines : Peace Advocate say Muslims need ...</td>\n",
              "    </tr>\n",
              "  </tbody>\n",
              "</table>\n",
              "<p>5 rows × 27 columns</p>\n",
              "</div>"
            ],
            "text/plain": [
              "        Date  Label                                               Top1  \\\n",
              "0 2008-08-08      0  Georgia downs two Russian warplanes as countri...   \n",
              "1 2008-08-11      1  Why wont America and Nato help us? If they won...   \n",
              "2 2008-08-12      0  Remember that adorable 9-year-old who sang at ...   \n",
              "3 2008-08-13      0   U.S. refuses Israel weapons to attack Iran: r...   \n",
              "4 2008-08-14      1  All the experts admit that we should legalise ...   \n",
              "\n",
              "                                                Top2  \\\n",
              "0               BREAKING: Musharraf to be impeached.   \n",
              "1           Bush puts foot down on Georgian conflict   \n",
              "2                      Russia ends Georgia operation   \n",
              "3  When the president ordered to attack Tskhinval...   \n",
              "4  War in South Osetia - 89 pictures made by a Ru...   \n",
              "\n",
              "                                                Top3  \\\n",
              "0  Russia Today: Columns of troops roll into Sout...   \n",
              "1  Jewish Georgian minister: Thanks to Israeli tr...   \n",
              "2  If we had no sexual harassment we would have n...   \n",
              "3   Israel clears troops who killed Reuters camer...   \n",
              "4  Swedish wrestler Ara Abrahamian throws away me...   \n",
              "\n",
              "                                                Top4  \\\n",
              "0  Russian tanks are moving towards the capital o...   \n",
              "1  Georgian army flees in disarray as Russians ad...   \n",
              "2  Al-Qaeda is losing support in Iraq because of ...   \n",
              "3  Britain\\s policy of being tough on drugs is po...   \n",
              "4  Russia exaggerated the death toll in South Oss...   \n",
              "\n",
              "                                                Top5  \\\n",
              "0  Afghan children raped with impunity, U.N. offi...   \n",
              "1           Olympic opening ceremony fireworks faked   \n",
              "2  Ceasefire in Georgia: Putin Outmaneuvers the West   \n",
              "3  Body of 14 year old found in trunk; Latest (ra...   \n",
              "4  Missile That Killed 9 Inside Pakistan May Have...   \n",
              "\n",
              "                                                Top6  \\\n",
              "0  150 Russian tanks have entered South Ossetia w...   \n",
              "1  What were the Mossad with fraudulent New Zeala...   \n",
              "2  Why Microsoft and Intel tried to kill the XO $...   \n",
              "3  China has moved 10 *million* quake survivors i...   \n",
              "4  Rushdie Condemns Random Houses Refusal to Publ...   \n",
              "\n",
              "                                                Top7  \\\n",
              "0  Breaking: Georgia invades South Ossetia, Russi...   \n",
              "1  Russia angered by Israeli military sale to Geo...   \n",
              "2  Stratfor: The Russo-Georgian War and the Balan...   \n",
              "3  Bush announces Operation Get All Up In Russias...   \n",
              "4  Poland and US agree to missle defense deal. In...   \n",
              "\n",
              "                                                Top8  ...  \\\n",
              "0  The enemy combatent trials are nothing but a s...  ...   \n",
              "1  An American citizen living in S.Ossetia blames...  ...   \n",
              "2  Im Trying to Get a Sense of This Whole Georgia...  ...   \n",
              "3                Russian forces sink Georgian ships   ...   \n",
              "4  Will the Russians conquer Tblisi? Bet on it, n...  ...   \n",
              "\n",
              "                                               Top16  \\\n",
              "0  Georgia Invades South Ossetia - if Russia gets...   \n",
              "1  Israel and the US behind the Georgian aggression?   \n",
              "2  U.S. troops still in Georgia (did you know the...   \n",
              "3                         Elephants extinct by 2020?   \n",
              "4  Bank analyst forecast Georgian crisis 2 days e...   \n",
              "\n",
              "                                               Top17  \\\n",
              "0                   Al-Qaeda Faces Islamist Backlash   \n",
              "1  Do not believe TV, neither Russian nor Georgia...   \n",
              "2          Why Russias response to Georgia was right   \n",
              "3  US humanitarian missions soon in Georgia - if ...   \n",
              "4  Georgia confict could set back Russias US rela...   \n",
              "\n",
              "                                               Top18  \\\n",
              "0  Condoleezza Rice: The US would not act to prev...   \n",
              "1  Riots are still going on in Montreal (Canada) ...   \n",
              "2  Gorbachev accuses U.S. of making a serious blu...   \n",
              "3                 Georgias DDOS came from US sources   \n",
              "4  War in the Caucasus is as much the product of ...   \n",
              "\n",
              "                                               Top19  \\\n",
              "0  This is a busy day:  The European Union has ap...   \n",
              "1       China to overtake US as largest manufacturer   \n",
              "2            Russia, Georgia, and NATO: Cold War Two   \n",
              "3  Russian convoy heads into Georgia, violating t...   \n",
              "4  Non-media photos of South Ossetia/Georgia conf...   \n",
              "\n",
              "                                               Top20  \\\n",
              "0  Georgia will withdraw 1,000 soldiers from Iraq...   \n",
              "1                        War in South Ossetia [PICS]   \n",
              "2  Remember that adorable 62-year-old who led you...   \n",
              "3  Israeli defence minister: US against strike on...   \n",
              "4  Georgian TV reporter shot by Russian sniper du...   \n",
              "\n",
              "                                               Top21  \\\n",
              "0  Why the Pentagon Thinks Attacking Iran is a Ba...   \n",
              "1    Israeli Physicians Group Condemns State Torture   \n",
              "2             War in Georgia: The Israeli connection   \n",
              "3                        Gorbachev: We Had No Choice   \n",
              "4  Saudi Arabia: Mother moves to block child marr...   \n",
              "\n",
              "                                               Top22  \\\n",
              "0  Caucasus in crisis: Georgia invades South Ossetia   \n",
              "1   Russia has just beaten the United States over...   \n",
              "2  All signs point to the US encouraging Georgia ...   \n",
              "3  Witness: Russian forces head towards Tbilisi i...   \n",
              "4      Taliban wages war on humanitarian aid workers   \n",
              "\n",
              "                                               Top23  \\\n",
              "0  Indian shoe manufactory  - And again in a seri...   \n",
              "1  Perhaps *the* question about the Georgia - Rus...   \n",
              "2  Christopher King argues that the US and NATO a...   \n",
              "3   Quarter of Russians blame U.S. for conflict: ...   \n",
              "4  Russia: World  can forget about Georgia\\s terr...   \n",
              "\n",
              "                                               Top24  \\\n",
              "0  Visitors Suffering from Mental Illnesses Banne...   \n",
              "1                    Russia is so much better at war   \n",
              "2                           America: The New Mexico?   \n",
              "3  Georgian president  says US military will take...   \n",
              "4  Darfur rebels accuse Sudan of mounting major a...   \n",
              "\n",
              "                                               Top25  \n",
              "0               No Help for Mexicos Kidnapping Surge  \n",
              "1  So this is what its come to: trading sex for f...  \n",
              "2  BBC NEWS | Asia-Pacific | Extinction by man no...  \n",
              "3  2006: Nobel laureate Aleksander Solzhenitsyn a...  \n",
              "4  Philippines : Peace Advocate say Muslims need ...  \n",
              "\n",
              "[5 rows x 27 columns]"
            ]
          },
          "execution_count": 17,
          "metadata": {},
          "output_type": "execute_result"
        }
      ],
      "source": [
        "news_data.head()"
      ]
    },
    {
      "cell_type": "code",
      "execution_count": 18,
      "metadata": {},
      "outputs": [
        {
          "data": {
            "text/html": [
              "<div>\n",
              "<style scoped>\n",
              "    .dataframe tbody tr th:only-of-type {\n",
              "        vertical-align: middle;\n",
              "    }\n",
              "\n",
              "    .dataframe tbody tr th {\n",
              "        vertical-align: top;\n",
              "    }\n",
              "\n",
              "    .dataframe thead th {\n",
              "        text-align: right;\n",
              "    }\n",
              "</style>\n",
              "<table border=\"1\" class=\"dataframe\">\n",
              "  <thead>\n",
              "    <tr style=\"text-align: right;\">\n",
              "      <th></th>\n",
              "      <th>Date</th>\n",
              "      <th>News</th>\n",
              "    </tr>\n",
              "  </thead>\n",
              "  <tbody>\n",
              "    <tr>\n",
              "      <th>0</th>\n",
              "      <td>2008-06-08</td>\n",
              "      <td>Marriage, they said, was reduced to the status...</td>\n",
              "    </tr>\n",
              "    <tr>\n",
              "      <th>1</th>\n",
              "      <td>2008-06-08</td>\n",
              "      <td>Nim Chimpsky: The tragedy of the chimp who tho...</td>\n",
              "    </tr>\n",
              "    <tr>\n",
              "      <th>2</th>\n",
              "      <td>2008-06-08</td>\n",
              "      <td>Canada: Beware slippery slope to censorship, h...</td>\n",
              "    </tr>\n",
              "    <tr>\n",
              "      <th>3</th>\n",
              "      <td>2008-06-08</td>\n",
              "      <td>EU Vice-President Luisa Morgantini and the Iri...</td>\n",
              "    </tr>\n",
              "    <tr>\n",
              "      <th>4</th>\n",
              "      <td>2008-06-08</td>\n",
              "      <td>Israeli minister: Israel will attack Iran if i...</td>\n",
              "    </tr>\n",
              "  </tbody>\n",
              "</table>\n",
              "</div>"
            ],
            "text/plain": [
              "        Date                                               News\n",
              "0 2008-06-08  Marriage, they said, was reduced to the status...\n",
              "1 2008-06-08  Nim Chimpsky: The tragedy of the chimp who tho...\n",
              "2 2008-06-08  Canada: Beware slippery slope to censorship, h...\n",
              "3 2008-06-08  EU Vice-President Luisa Morgantini and the Iri...\n",
              "4 2008-06-08  Israeli minister: Israel will attack Iran if i..."
            ]
          },
          "execution_count": 18,
          "metadata": {},
          "output_type": "execute_result"
        }
      ],
      "source": [
        "reddit_data.head()"
      ]
    },
    {
      "cell_type": "code",
      "execution_count": 19,
      "metadata": {
        "colab": {
          "base_uri": "https://localhost:8080/"
        },
        "id": "gcxcqiObOgct",
        "outputId": "a03f2e38-8854-428c-8f18-549b7eadf2af"
      },
      "outputs": [],
      "source": [
        "# removed spaces\n",
        "news_data = news_data.map(lambda x: x.strip() if isinstance(x, str) else x)\n",
        "reddit_data = reddit_data.map(lambda x: x.strip() if isinstance(x, str) else x)"
      ]
    },
    {
      "cell_type": "code",
      "execution_count": 20,
      "metadata": {},
      "outputs": [],
      "source": [
        "reddit_data['News'] = reddit_data['News'].str.strip()\n",
        "\n",
        "for i in range(1, 26):\n",
        "    news_data[f'Top{i}'] = news_data[f'Top{i}'].str.strip()"
      ]
    },
    {
      "cell_type": "code",
      "execution_count": 21,
      "metadata": {
        "id": "qxsOhDlWPg_A"
      },
      "outputs": [],
      "source": [
        "# lowercasing text data\n",
        "for i in range(1, 26):\n",
        "    news_data[f'Top{i}'] = news_data[f'Top{i}'].str.lower()\n",
        "\n",
        "for i in range(1, 26):\n",
        "    reddit_data[f'News'] = reddit_data[f'News'].str.lower()"
      ]
    },
    {
      "cell_type": "code",
      "execution_count": 22,
      "metadata": {},
      "outputs": [],
      "source": [
        "# combining all the Top1 to Top25 news headlines of each day into one single string as FinBERT works best on one single large text/sentece\n",
        "news_data['combined_news'] = news_data[[f'Top{i}' for i in range(1,26)]].apply(lambda row: ' '.join(row.values.astype(str)), axis=1)"
      ]
    },
    {
      "cell_type": "code",
      "execution_count": 23,
      "metadata": {},
      "outputs": [],
      "source": [
        "reddit_grouped = reddit_data.groupby('Date')['News'].apply(lambda x: ' '.join(x)).reset_index()\n",
        "\n",
        "reddit_grouped.rename(columns={'News': 'Combined_Reddit_News'}, inplace=True)"
      ]
    },
    {
      "cell_type": "code",
      "execution_count": 24,
      "metadata": {},
      "outputs": [
        {
          "data": {
            "text/html": [
              "<div>\n",
              "<style scoped>\n",
              "    .dataframe tbody tr th:only-of-type {\n",
              "        vertical-align: middle;\n",
              "    }\n",
              "\n",
              "    .dataframe tbody tr th {\n",
              "        vertical-align: top;\n",
              "    }\n",
              "\n",
              "    .dataframe thead th {\n",
              "        text-align: right;\n",
              "    }\n",
              "</style>\n",
              "<table border=\"1\" class=\"dataframe\">\n",
              "  <thead>\n",
              "    <tr style=\"text-align: right;\">\n",
              "      <th></th>\n",
              "      <th>Date</th>\n",
              "      <th>Combined_Reddit_News</th>\n",
              "    </tr>\n",
              "  </thead>\n",
              "  <tbody>\n",
              "    <tr>\n",
              "      <th>2938</th>\n",
              "      <td>2016-06-27</td>\n",
              "      <td>angela merkel said the u.k. must file exit pap...</td>\n",
              "    </tr>\n",
              "    <tr>\n",
              "      <th>2939</th>\n",
              "      <td>2016-06-28</td>\n",
              "      <td>hong kong democracy activists call for return ...</td>\n",
              "    </tr>\n",
              "    <tr>\n",
              "      <th>2940</th>\n",
              "      <td>2016-06-29</td>\n",
              "      <td>a chatbot programmed by a british teenager has...</td>\n",
              "    </tr>\n",
              "    <tr>\n",
              "      <th>2941</th>\n",
              "      <td>2016-06-30</td>\n",
              "      <td>us airstrikes kill at least 250 isis fighters ...</td>\n",
              "    </tr>\n",
              "    <tr>\n",
              "      <th>2942</th>\n",
              "      <td>2016-07-01</td>\n",
              "      <td>china kills millions of innocent meditators fo...</td>\n",
              "    </tr>\n",
              "  </tbody>\n",
              "</table>\n",
              "</div>"
            ],
            "text/plain": [
              "           Date                               Combined_Reddit_News\n",
              "2938 2016-06-27  angela merkel said the u.k. must file exit pap...\n",
              "2939 2016-06-28  hong kong democracy activists call for return ...\n",
              "2940 2016-06-29  a chatbot programmed by a british teenager has...\n",
              "2941 2016-06-30  us airstrikes kill at least 250 isis fighters ...\n",
              "2942 2016-07-01  china kills millions of innocent meditators fo..."
            ]
          },
          "execution_count": 24,
          "metadata": {},
          "output_type": "execute_result"
        }
      ],
      "source": [
        "reddit_grouped.tail()"
      ]
    },
    {
      "cell_type": "code",
      "execution_count": 25,
      "metadata": {},
      "outputs": [
        {
          "data": {
            "text/html": [
              "<div>\n",
              "<style scoped>\n",
              "    .dataframe tbody tr th:only-of-type {\n",
              "        vertical-align: middle;\n",
              "    }\n",
              "\n",
              "    .dataframe tbody tr th {\n",
              "        vertical-align: top;\n",
              "    }\n",
              "\n",
              "    .dataframe thead th {\n",
              "        text-align: right;\n",
              "    }\n",
              "</style>\n",
              "<table border=\"1\" class=\"dataframe\">\n",
              "  <thead>\n",
              "    <tr style=\"text-align: right;\">\n",
              "      <th></th>\n",
              "      <th>Date</th>\n",
              "      <th>Label</th>\n",
              "      <th>Top1</th>\n",
              "      <th>Top2</th>\n",
              "      <th>Top3</th>\n",
              "      <th>Top4</th>\n",
              "      <th>Top5</th>\n",
              "      <th>Top6</th>\n",
              "      <th>Top7</th>\n",
              "      <th>Top8</th>\n",
              "      <th>...</th>\n",
              "      <th>Top17</th>\n",
              "      <th>Top18</th>\n",
              "      <th>Top19</th>\n",
              "      <th>Top20</th>\n",
              "      <th>Top21</th>\n",
              "      <th>Top22</th>\n",
              "      <th>Top23</th>\n",
              "      <th>Top24</th>\n",
              "      <th>Top25</th>\n",
              "      <th>combined_news</th>\n",
              "    </tr>\n",
              "  </thead>\n",
              "  <tbody>\n",
              "    <tr>\n",
              "      <th>1984</th>\n",
              "      <td>2016-06-27</td>\n",
              "      <td>0</td>\n",
              "      <td>barclays and rbs shares suspended from trading...</td>\n",
              "      <td>pope says church should ask forgiveness from g...</td>\n",
              "      <td>poland shocked by xenophobic abuse of poles in uk</td>\n",
              "      <td>there will be no second referendum, cabinet ag...</td>\n",
              "      <td>scotland welcome to join eu, merkel ally says</td>\n",
              "      <td>sterling dips below fridays 31-year low amid b...</td>\n",
              "      <td>no negative news about south african president...</td>\n",
              "      <td>surge in hate crimes in the u.k. following u.k...</td>\n",
              "      <td>...</td>\n",
              "      <td>boris johnson says the uk will continue to int...</td>\n",
              "      <td>richard branson is calling on the uk governmen...</td>\n",
              "      <td>turkey sorry for downing russian jet</td>\n",
              "      <td>edward snowden lawyer vows new push for pardon...</td>\n",
              "      <td>brexit opinion poll reveals majority dont want...</td>\n",
              "      <td>conservative mp leave campaigner: the leave ca...</td>\n",
              "      <td>economists predict uk recession, further weake...</td>\n",
              "      <td>new eu superstate plan by france, germany: cre...</td>\n",
              "      <td>pakistani clerics declare transgender marriage...</td>\n",
              "      <td>barclays and rbs shares suspended from trading...</td>\n",
              "    </tr>\n",
              "    <tr>\n",
              "      <th>1985</th>\n",
              "      <td>2016-06-28</td>\n",
              "      <td>1</td>\n",
              "      <td>2,500 scientists to australia: if you want to ...</td>\n",
              "      <td>the personal details of 112,000 french police ...</td>\n",
              "      <td>s&amp;amp;p cuts united kingdom sovereign credit r...</td>\n",
              "      <td>huge helium deposit found in africa</td>\n",
              "      <td>ceo of the south african state broadcaster qui...</td>\n",
              "      <td>brexit cost investors $2 trillion, the worst o...</td>\n",
              "      <td>hong kong democracy activists call for return ...</td>\n",
              "      <td>brexit: iceland president says uk can join tri...</td>\n",
              "      <td>...</td>\n",
              "      <td>there is increasing evidence that australia is...</td>\n",
              "      <td>richard branson, the founder of virgin group, ...</td>\n",
              "      <td>37,000-yr-old skull from borneo reveals surpri...</td>\n",
              "      <td>palestinians stone western wall worshipers; po...</td>\n",
              "      <td>jean-claude juncker asks farage: why are you h...</td>\n",
              "      <td>romanians for remainians offering a new home t...</td>\n",
              "      <td>brexit: gibraltar in talks with scotland to st...</td>\n",
              "      <td>8 suicide bombers strike lebanon</td>\n",
              "      <td>mexicos security forces routinely use sexual t...</td>\n",
              "      <td>2,500 scientists to australia: if you want to ...</td>\n",
              "    </tr>\n",
              "    <tr>\n",
              "      <th>1986</th>\n",
              "      <td>2016-06-29</td>\n",
              "      <td>1</td>\n",
              "      <td>explosion at airport in istanbul</td>\n",
              "      <td>yemeni former president: terrorism is the offs...</td>\n",
              "      <td>uk must accept freedom of movement to access e...</td>\n",
              "      <td>devastated: scientists too late to captive bre...</td>\n",
              "      <td>british labor party leader jeremy corbyn loses...</td>\n",
              "      <td>a muslim shop in the uk was just firebombed wh...</td>\n",
              "      <td>mexican authorities sexually torture women in ...</td>\n",
              "      <td>uk shares and pound continue to recover</td>\n",
              "      <td>...</td>\n",
              "      <td>the land under beijing is sinking by as much a...</td>\n",
              "      <td>car bomb and anti-islamic attack on mosque in ...</td>\n",
              "      <td>emaciated lions in taiz zoo are trapped in blo...</td>\n",
              "      <td>rupert murdoch describes brexit as wonderful. ...</td>\n",
              "      <td>more than 40 killed in yemen suicide attacks</td>\n",
              "      <td>google found disastrous symantec and norton vu...</td>\n",
              "      <td>extremist violence on the rise in germany: dom...</td>\n",
              "      <td>bbc news: labour mps pass corbyn no-confidence...</td>\n",
              "      <td>tiny new zealand town with too many jobs launc...</td>\n",
              "      <td>explosion at airport in istanbul yemeni former...</td>\n",
              "    </tr>\n",
              "    <tr>\n",
              "      <th>1987</th>\n",
              "      <td>2016-06-30</td>\n",
              "      <td>1</td>\n",
              "      <td>jamaica proposes marijuana dispensers for tour...</td>\n",
              "      <td>stephen hawking says pollution and stupidity s...</td>\n",
              "      <td>boris johnson says he will not run for tory pa...</td>\n",
              "      <td>six gay men in ivory coast were abused and for...</td>\n",
              "      <td>switzerland denies citizenship to muslim immig...</td>\n",
              "      <td>palestinian terrorist stabs israeli teen girl ...</td>\n",
              "      <td>puerto rico will default on $1 billion of debt...</td>\n",
              "      <td>republic of ireland fans to be awarded medal f...</td>\n",
              "      <td>...</td>\n",
              "      <td>mounting evidence suggests hobbits were wiped ...</td>\n",
              "      <td>the men who carried out tuesdays terror attack...</td>\n",
              "      <td>calls to suspend saudi arabia from un human ri...</td>\n",
              "      <td>more than 100 nobel laureates call out greenpe...</td>\n",
              "      <td>british pedophile sentenced to 85 years in us ...</td>\n",
              "      <td>us permitted 1,200 offshore fracks in gulf of ...</td>\n",
              "      <td>we will be swimming in ridicule - french beach...</td>\n",
              "      <td>uefa says no minutes of silence for istanbul v...</td>\n",
              "      <td>law enforcement sources: gun used in paris ter...</td>\n",
              "      <td>jamaica proposes marijuana dispensers for tour...</td>\n",
              "    </tr>\n",
              "    <tr>\n",
              "      <th>1988</th>\n",
              "      <td>2016-07-01</td>\n",
              "      <td>1</td>\n",
              "      <td>a 117-year-old woman in mexico city finally re...</td>\n",
              "      <td>imf chief backs athens as permanent olympic host</td>\n",
              "      <td>the president of france says if brexit won, so...</td>\n",
              "      <td>british man who must give police 24 hours noti...</td>\n",
              "      <td>100+ nobel laureates urge greenpeace to stop o...</td>\n",
              "      <td>brazil: huge spike in number of police killing...</td>\n",
              "      <td>austrias highest court annuls presidential ele...</td>\n",
              "      <td>facebook wins privacy case, can track any belg...</td>\n",
              "      <td>...</td>\n",
              "      <td>s&amp;amp;p revises european union credit rating t...</td>\n",
              "      <td>india gets $1 billion loan from world bank for...</td>\n",
              "      <td>u.s. sailors detained by iran spoke too much u...</td>\n",
              "      <td>mass fish kill in vietnam solved as taiwan ste...</td>\n",
              "      <td>philippines president rodrigo duterte urges pe...</td>\n",
              "      <td>spain arrests three pakistanis accused of prom...</td>\n",
              "      <td>venezuela, where anger over food shortages is ...</td>\n",
              "      <td>a hindu temple worker has been killed by three...</td>\n",
              "      <td>ozone layer hole seems to be healing - us &amp;amp...</td>\n",
              "      <td>a 117-year-old woman in mexico city finally re...</td>\n",
              "    </tr>\n",
              "  </tbody>\n",
              "</table>\n",
              "<p>5 rows × 28 columns</p>\n",
              "</div>"
            ],
            "text/plain": [
              "           Date  Label                                               Top1  \\\n",
              "1984 2016-06-27      0  barclays and rbs shares suspended from trading...   \n",
              "1985 2016-06-28      1  2,500 scientists to australia: if you want to ...   \n",
              "1986 2016-06-29      1                   explosion at airport in istanbul   \n",
              "1987 2016-06-30      1  jamaica proposes marijuana dispensers for tour...   \n",
              "1988 2016-07-01      1  a 117-year-old woman in mexico city finally re...   \n",
              "\n",
              "                                                   Top2  \\\n",
              "1984  pope says church should ask forgiveness from g...   \n",
              "1985  the personal details of 112,000 french police ...   \n",
              "1986  yemeni former president: terrorism is the offs...   \n",
              "1987  stephen hawking says pollution and stupidity s...   \n",
              "1988   imf chief backs athens as permanent olympic host   \n",
              "\n",
              "                                                   Top3  \\\n",
              "1984  poland shocked by xenophobic abuse of poles in uk   \n",
              "1985  s&amp;p cuts united kingdom sovereign credit r...   \n",
              "1986  uk must accept freedom of movement to access e...   \n",
              "1987  boris johnson says he will not run for tory pa...   \n",
              "1988  the president of france says if brexit won, so...   \n",
              "\n",
              "                                                   Top4  \\\n",
              "1984  there will be no second referendum, cabinet ag...   \n",
              "1985                huge helium deposit found in africa   \n",
              "1986  devastated: scientists too late to captive bre...   \n",
              "1987  six gay men in ivory coast were abused and for...   \n",
              "1988  british man who must give police 24 hours noti...   \n",
              "\n",
              "                                                   Top5  \\\n",
              "1984      scotland welcome to join eu, merkel ally says   \n",
              "1985  ceo of the south african state broadcaster qui...   \n",
              "1986  british labor party leader jeremy corbyn loses...   \n",
              "1987  switzerland denies citizenship to muslim immig...   \n",
              "1988  100+ nobel laureates urge greenpeace to stop o...   \n",
              "\n",
              "                                                   Top6  \\\n",
              "1984  sterling dips below fridays 31-year low amid b...   \n",
              "1985  brexit cost investors $2 trillion, the worst o...   \n",
              "1986  a muslim shop in the uk was just firebombed wh...   \n",
              "1987  palestinian terrorist stabs israeli teen girl ...   \n",
              "1988  brazil: huge spike in number of police killing...   \n",
              "\n",
              "                                                   Top7  \\\n",
              "1984  no negative news about south african president...   \n",
              "1985  hong kong democracy activists call for return ...   \n",
              "1986  mexican authorities sexually torture women in ...   \n",
              "1987  puerto rico will default on $1 billion of debt...   \n",
              "1988  austrias highest court annuls presidential ele...   \n",
              "\n",
              "                                                   Top8  ...  \\\n",
              "1984  surge in hate crimes in the u.k. following u.k...  ...   \n",
              "1985  brexit: iceland president says uk can join tri...  ...   \n",
              "1986            uk shares and pound continue to recover  ...   \n",
              "1987  republic of ireland fans to be awarded medal f...  ...   \n",
              "1988  facebook wins privacy case, can track any belg...  ...   \n",
              "\n",
              "                                                  Top17  \\\n",
              "1984  boris johnson says the uk will continue to int...   \n",
              "1985  there is increasing evidence that australia is...   \n",
              "1986  the land under beijing is sinking by as much a...   \n",
              "1987  mounting evidence suggests hobbits were wiped ...   \n",
              "1988  s&amp;p revises european union credit rating t...   \n",
              "\n",
              "                                                  Top18  \\\n",
              "1984  richard branson is calling on the uk governmen...   \n",
              "1985  richard branson, the founder of virgin group, ...   \n",
              "1986  car bomb and anti-islamic attack on mosque in ...   \n",
              "1987  the men who carried out tuesdays terror attack...   \n",
              "1988  india gets $1 billion loan from world bank for...   \n",
              "\n",
              "                                                  Top19  \\\n",
              "1984               turkey sorry for downing russian jet   \n",
              "1985  37,000-yr-old skull from borneo reveals surpri...   \n",
              "1986  emaciated lions in taiz zoo are trapped in blo...   \n",
              "1987  calls to suspend saudi arabia from un human ri...   \n",
              "1988  u.s. sailors detained by iran spoke too much u...   \n",
              "\n",
              "                                                  Top20  \\\n",
              "1984  edward snowden lawyer vows new push for pardon...   \n",
              "1985  palestinians stone western wall worshipers; po...   \n",
              "1986  rupert murdoch describes brexit as wonderful. ...   \n",
              "1987  more than 100 nobel laureates call out greenpe...   \n",
              "1988  mass fish kill in vietnam solved as taiwan ste...   \n",
              "\n",
              "                                                  Top21  \\\n",
              "1984  brexit opinion poll reveals majority dont want...   \n",
              "1985  jean-claude juncker asks farage: why are you h...   \n",
              "1986       more than 40 killed in yemen suicide attacks   \n",
              "1987  british pedophile sentenced to 85 years in us ...   \n",
              "1988  philippines president rodrigo duterte urges pe...   \n",
              "\n",
              "                                                  Top22  \\\n",
              "1984  conservative mp leave campaigner: the leave ca...   \n",
              "1985  romanians for remainians offering a new home t...   \n",
              "1986  google found disastrous symantec and norton vu...   \n",
              "1987  us permitted 1,200 offshore fracks in gulf of ...   \n",
              "1988  spain arrests three pakistanis accused of prom...   \n",
              "\n",
              "                                                  Top23  \\\n",
              "1984  economists predict uk recession, further weake...   \n",
              "1985  brexit: gibraltar in talks with scotland to st...   \n",
              "1986  extremist violence on the rise in germany: dom...   \n",
              "1987  we will be swimming in ridicule - french beach...   \n",
              "1988  venezuela, where anger over food shortages is ...   \n",
              "\n",
              "                                                  Top24  \\\n",
              "1984  new eu superstate plan by france, germany: cre...   \n",
              "1985                   8 suicide bombers strike lebanon   \n",
              "1986  bbc news: labour mps pass corbyn no-confidence...   \n",
              "1987  uefa says no minutes of silence for istanbul v...   \n",
              "1988  a hindu temple worker has been killed by three...   \n",
              "\n",
              "                                                  Top25  \\\n",
              "1984  pakistani clerics declare transgender marriage...   \n",
              "1985  mexicos security forces routinely use sexual t...   \n",
              "1986  tiny new zealand town with too many jobs launc...   \n",
              "1987  law enforcement sources: gun used in paris ter...   \n",
              "1988  ozone layer hole seems to be healing - us &amp...   \n",
              "\n",
              "                                          combined_news  \n",
              "1984  barclays and rbs shares suspended from trading...  \n",
              "1985  2,500 scientists to australia: if you want to ...  \n",
              "1986  explosion at airport in istanbul yemeni former...  \n",
              "1987  jamaica proposes marijuana dispensers for tour...  \n",
              "1988  a 117-year-old woman in mexico city finally re...  \n",
              "\n",
              "[5 rows x 28 columns]"
            ]
          },
          "execution_count": 25,
          "metadata": {},
          "output_type": "execute_result"
        }
      ],
      "source": [
        "news_data.tail()"
      ]
    },
    {
      "cell_type": "code",
      "execution_count": 29,
      "metadata": {},
      "outputs": [
        {
          "name": "stdout",
          "output_type": "stream",
          "text": [
            "georgia downs two russian warplanes as countries move to brink of war breaking: musharraf to be impeached. russia today: columns of troops roll into south ossetia; footage from fighting (youtube) russian tanks are moving towards the capital of south ossetia, which has reportedly been completely destroyed by georgian artillery fire afghan children raped with impunity, u.n. official says - this is sick, a three year old was raped and they do nothing 150 russian tanks have entered south ossetia whilst georgia shoots down two russian jets. breaking: georgia invades south ossetia, russia warned it would intervene on sos side the enemy combatent trials are nothing but a sham: salim haman has been sentenced to 5 1/2 years, but will be kept longer anyway just because they feel like it. georgian troops retreat from s. osettain capital, presumably leaving several hundred people killed. [video] did the u.s. prep georgia for war with russia? rice gives green light for israel to attack iran: says u.s. has no veto over israeli military ops announcing:class action lawsuit on behalf of american public against the fbi so---russia and georgia are at war and the nyts top story is opening ceremonies of the olympics?  what a fucking disgrace and yet further proof of the decline of journalism. china tells bush to stay out of other countries affairs did world war iii start today? georgia invades south ossetia - if russia gets involved, will nato absorb georgia and unleash a full scale war? al-qaeda faces islamist backlash condoleezza rice: the us would not act to prevent an israeli strike on iran. israeli defense minister ehud barak: israel is prepared for uncompromising victory in the case of military hostilities. this is a busy day:  the european union has approved new sanctions against iran in protest at its nuclear programme. georgia will withdraw 1,000 soldiers from iraq to help fight off russian forces in georgias breakaway region of south ossetia why the pentagon thinks attacking iran is a bad idea - us news &amp; world report caucasus in crisis: georgia invades south ossetia indian shoe manufactory  - and again in a series of you do not like your work? visitors suffering from mental illnesses banned from olympics no help for mexicos kidnapping surge\n"
          ]
        }
      ],
      "source": [
        "print(news_data.loc[0, 'combined_news'])"
      ]
    },
    {
      "cell_type": "code",
      "execution_count": 30,
      "metadata": {},
      "outputs": [
        {
          "name": "stdout",
          "output_type": "stream",
          "text": [
            "eu vice-president luisa morgantini and the irish nobel laureate, mairead corrigan, have been tear gased and injured by the idf while attending the international conference on non-violent resistance\n"
          ]
        }
      ],
      "source": [
        "print(reddit_data.loc[3, 'News'])"
      ]
    },
    {
      "cell_type": "code",
      "execution_count": 31,
      "metadata": {
        "colab": {
          "base_uri": "https://localhost:8080/"
        },
        "id": "DkV9kM3NPtHb",
        "outputId": "577ba0dd-c20d-4668-9ab4-b87715519578"
      },
      "outputs": [
        {
          "data": {
            "text/plain": [
              "np.int64(0)"
            ]
          },
          "execution_count": 31,
          "metadata": {},
          "output_type": "execute_result"
        }
      ],
      "source": [
        "news_data.duplicated().sum()\n",
        "reddit_data.duplicated().sum()\n",
        "stock_data.duplicated().sum()\n",
        "news_data['Date'].duplicated().sum()"
      ]
    },
    {
      "cell_type": "code",
      "execution_count": 32,
      "metadata": {
        "colab": {
          "base_uri": "https://localhost:8080/",
          "height": 565
        },
        "id": "j9iWiAj1vbu6",
        "outputId": "99d41877-06a4-4fef-9caa-eb4afbf72fb8"
      },
      "outputs": [
        {
          "data": {
            "image/png": "[encoded data removed]",
            "text/plain": [
              "<Figure size 1200x600 with 1 Axes>"
            ]
          },
          "metadata": {},
          "output_type": "display_data"
        }
      ],
      "source": [
        "# Closing Price over time\n",
        "plt.figure(figsize=(12,6))\n",
        "plt.plot(stock_data['Date'], stock_data['Close'])\n",
        "plt.title('DJIA Close Price Over Time')\n",
        "plt.xticks(rotation=45)\n",
        "plt.show()"
      ]
    },
    {
      "cell_type": "code",
      "execution_count": 33,
      "metadata": {
        "colab": {
          "base_uri": "https://localhost:8080/",
          "height": 565
        },
        "id": "te6-ANIov57o",
        "outputId": "c5028857-f630-4495-a3a7-0e7fbe671877"
      },
      "outputs": [
        {
          "data": {
            "image/png": "[encoded data removed]",
            "text/plain": [
              "<Figure size 1200x600 with 1 Axes>"
            ]
          },
          "metadata": {},
          "output_type": "display_data"
        }
      ],
      "source": [
        "plt.figure(figsize=(12,6))\n",
        "plt.plot(stock_data['Date'], stock_data['Volume'])\n",
        "plt.title('Trading Volume Over Time')\n",
        "plt.xticks(rotation=45)\n",
        "plt.show()"
      ]
    },
    {
      "cell_type": "code",
      "execution_count": 34,
      "metadata": {
        "colab": {
          "base_uri": "https://localhost:8080/",
          "height": 565
        },
        "id": "uEHyCzdWwD32",
        "outputId": "eff59b97-109b-40e0-b06f-189c287ee4a8"
      },
      "outputs": [
        {
          "data": {
            "image/png": "[encoded data removed]",
            "text/plain": [
              "<Figure size 1200x600 with 1 Axes>"
            ]
          },
          "metadata": {},
          "output_type": "display_data"
        }
      ],
      "source": [
        "# stock_data['Volatility'] = stock_data['Close'].rolling(window=10).std()\n",
        "stock_data['Log_Returns'] = np.log(stock_data['Close'] / stock_data['Close'].shift(1))\n",
        "stock_data['Volatility_Log_10'] = stock_data['Log_Returns'].rolling(window=10).std() * np.sqrt(252)\n",
        "stock_data['cl-op'] = stock_data['Close'] - stock_data['Open']\n",
        "stock_data['hi-lo'] = stock_data['High'] - stock_data['Low']\n",
        "\n",
        "plt.figure(figsize=(12,6))\n",
        "plt.plot(stock_data['Date'], stock_data['Log_Returns'], label='Log Returns')\n",
        "plt.title('Log_Returns Over Time Volatility')\n",
        "plt.xlabel('Date')\n",
        "plt.ylabel('Log Returns')\n",
        "plt.xticks(rotation=45)\n",
        "plt.show()"
      ]
    },
    {
      "cell_type": "code",
      "execution_count": 35,
      "metadata": {
        "colab": {
          "base_uri": "https://localhost:8080/",
          "height": 467
        },
        "id": "iPwBF8E-wVFC",
        "outputId": "a049e0bc-71d5-4ae4-f96c-7950185ea5a8"
      },
      "outputs": [
        {
          "data": {
            "image/png": "[encoded data removed]",
            "text/plain": [
              "<Figure size 640x480 with 1 Axes>"
            ]
          },
          "metadata": {},
          "output_type": "display_data"
        }
      ],
      "source": [
        "news_data['Label'].value_counts().plot(kind='bar')\n",
        "plt.title('Count of Up vs Down Days')\n",
        "plt.show()"
      ]
    },
    {
      "cell_type": "code",
      "execution_count": 36,
      "metadata": {
        "colab": {
          "base_uri": "https://localhost:8080/"
        },
        "id": "oH0h3twqbHnT",
        "outputId": "99c67666-4698-44b4-e964-8fcf280d7d86"
      },
      "outputs": [
        {
          "name": "stdout",
          "output_type": "stream",
          "text": [
            "            Open      High       Low     Close    Volume\n",
            "Open    1.000000  0.999592  0.999436  0.998991 -0.691621\n",
            "High    0.999592  1.000000  0.999373  0.999546 -0.686997\n",
            "Low     0.999436  0.999373  1.000000  0.999595 -0.699572\n",
            "Close   0.998991  0.999546  0.999595  1.000000 -0.694281\n",
            "Volume -0.691621 -0.686997 -0.699572 -0.694281  1.000000\n"
          ]
        }
      ],
      "source": [
        "stock_features = stock_data[['Open', 'High', 'Low', 'Close', 'Volume']]\n",
        "\n",
        "correlation_matrix = stock_features.corr() # type: ignore\n",
        "\n",
        "print(correlation_matrix)"
      ]
    },
    {
      "cell_type": "code",
      "execution_count": 37,
      "metadata": {
        "colab": {
          "base_uri": "https://localhost:8080/"
        },
        "id": "ioo8u1rGbljR",
        "outputId": "ff0b98c8-d838-4a64-8fb8-2783bd829384"
      },
      "outputs": [
        {
          "name": "stdout",
          "output_type": "stream",
          "text": [
            "                Open          High           Low         Close        Volume\n",
            "Open    9.880219e+06  9.854163e+06  9.897074e+06  9.872527e+06 -2.041858e+11\n",
            "High    9.854163e+06  9.836200e+06  9.874379e+06  9.855979e+06 -2.023682e+11\n",
            "Low     9.897074e+06  9.874379e+06  9.925152e+06  9.900935e+06 -2.070022e+11\n",
            "Close   9.872527e+06  9.855979e+06  9.900935e+06  9.884780e+06 -2.050184e+11\n",
            "Volume -2.041858e+11 -2.023682e+11 -2.070022e+11 -2.050184e+11  8.821610e+15\n"
          ]
        }
      ],
      "source": [
        "stock_features = stock_data[['Open', 'High', 'Low', 'Close', 'Volume']]\n",
        "\n",
        "covariance_matrix = stock_features.cov() # type: ignore\n",
        "\n",
        "print(covariance_matrix)"
      ]
    },
    {
      "cell_type": "markdown",
      "metadata": {},
      "source": [
        "### Sentiment Analysis"
      ]
    },
    {
      "cell_type": "code",
      "execution_count": 39,
      "metadata": {},
      "outputs": [],
      "source": [
        "nltk.download('vader_lexicon', quiet=True)\n",
        "\n",
        "# Initialize VADER sentiment analyzer\n",
        "sia = SentimentIntensityAnalyzer()"
      ]
    },
    {
      "cell_type": "code",
      "execution_count": 40,
      "metadata": {},
      "outputs": [],
      "source": [
        "def get_vader_sentiment(text):\n",
        "    if pd.isna(text) or text == '' or text == 'nan':\n",
        "        return 0.0\n",
        "\n",
        "    try:\n",
        "        scores = sia.polarity_scores(str(text))\n",
        "        return scores['compound']\n",
        "    except:\n",
        "        return 0.0"
      ]
    },
    {
      "cell_type": "code",
      "execution_count": 41,
      "metadata": {},
      "outputs": [
        {
          "name": "stdout",
          "output_type": "stream",
          "text": [
            "Computing VADER sentiment for news data...\n",
            "Processing 1989 rows...\n"
          ]
        },
        {
          "name": "stderr",
          "output_type": "stream",
          "text": [
            "News VADER Sentiment: 100%|██████████| 1989/1989 [00:06<00:00, 300.53it/s]"
          ]
        },
        {
          "name": "stdout",
          "output_type": "stream",
          "text": [
            "Sentiment range: -0.9996 to 0.9910\n",
            "Mean sentiment: -0.9602\n"
          ]
        },
        {
          "name": "stderr",
          "output_type": "stream",
          "text": [
            "\n"
          ]
        }
      ],
      "source": [
        "# VADER to news data\n",
        "print(\"Computing VADER sentiment for news data...\")\n",
        "print(f\"Processing {len(news_data)} rows...\")\n",
        "\n",
        "tqdm.pandas(desc=\"News VADER Sentiment\")\n",
        "\n",
        "news_data['vader_news_sentiment'] = news_data['combined_news'].progress_apply(get_vader_sentiment)\n",
        "\n",
        "print(f\"Sentiment range: {news_data['vader_news_sentiment'].min():.4f} to {news_data['vader_news_sentiment'].max():.4f}\")\n",
        "print(f\"Mean sentiment: {news_data['vader_news_sentiment'].mean():.4f}\")"
      ]
    },
    {
      "cell_type": "code",
      "execution_count": 42,
      "metadata": {},
      "outputs": [
        {
          "data": {
            "text/plain": [
              "Index(['Date', 'Combined_Reddit_News'], dtype='object')"
            ]
          },
          "execution_count": 42,
          "metadata": {},
          "output_type": "execute_result"
        }
      ],
      "source": [
        "reddit_grouped.columns"
      ]
    },
    {
      "cell_type": "code",
      "execution_count": 43,
      "metadata": {},
      "outputs": [
        {
          "name": "stdout",
          "output_type": "stream",
          "text": [
            "Computing VADER sentiment for reddit data...\n",
            "Processing 2943 rows...\n"
          ]
        },
        {
          "name": "stderr",
          "output_type": "stream",
          "text": [
            "Reddit VADER Sentiment: 100%|██████████| 2943/2943 [00:09<00:00, 304.85it/s]\n"
          ]
        },
        {
          "name": "stdout",
          "output_type": "stream",
          "text": [
            "Sentiment range: -0.9996 to 0.9736\n",
            "Mean sentiment: -0.9583\n"
          ]
        }
      ],
      "source": [
        "# VADER to reddit_data\n",
        "print(\"Computing VADER sentiment for reddit data...\")\n",
        "print(f\"Processing {len(reddit_grouped)} rows...\")\n",
        "\n",
        "tqdm.pandas(desc=\"Reddit VADER Sentiment\")\n",
        "\n",
        "reddit_grouped['vader_reddit_sentiment'] = reddit_grouped['Combined_Reddit_News'].progress_apply(get_vader_sentiment)\n",
        "\n",
        "print(f\"Sentiment range: {reddit_grouped['vader_reddit_sentiment'].min():.4f} to {reddit_grouped['vader_reddit_sentiment'].max():.4f}\")\n",
        "print(f\"Mean sentiment: {reddit_grouped['vader_reddit_sentiment'].mean():.4f}\")"
      ]
    },
    {
      "cell_type": "code",
      "execution_count": 44,
      "metadata": {},
      "outputs": [
        {
          "name": "stdout",
          "output_type": "stream",
          "text": [
            "\n",
            "News Data - First 5 sentiment scores:\n",
            "        Date  vader_news_sentiment\n",
            "0 2008-08-08               -0.9978\n",
            "1 2008-08-11               -0.9814\n",
            "2 2008-08-12               -0.9778\n",
            "3 2008-08-13               -0.9809\n",
            "4 2008-08-14               -0.9899\n",
            "\n",
            "Reddit Data - First 5 sentiment scores:\n",
            "        Date  vader_reddit_sentiment\n",
            "0 2008-06-08                 -0.9975\n",
            "1 2008-06-09                 -0.9968\n",
            "2 2008-06-10                 -0.9962\n",
            "3 2008-06-11                 -0.9901\n",
            "4 2008-06-12                 -0.8840\n",
            "\n",
            "Missing values in vader_news_sentiment: 0\n",
            "Missing values in vader_reddit_sentiment: 0\n"
          ]
        }
      ],
      "source": [
        "# Verify the results\n",
        "print(\"\\nNews Data - First 5 sentiment scores:\")\n",
        "print(news_data[['Date', 'vader_news_sentiment']].head())\n",
        "\n",
        "print(\"\\nReddit Data - First 5 sentiment scores:\")\n",
        "print(reddit_grouped[['Date', 'vader_reddit_sentiment']].head())\n",
        "\n",
        "print(f\"\\nMissing values in vader_news_sentiment: {news_data['vader_news_sentiment'].isnull().sum()}\")\n",
        "print(f\"Missing values in vader_reddit_sentiment: {reddit_grouped['vader_reddit_sentiment'].isnull().sum()}\")"
      ]
    },
    {
      "cell_type": "code",
      "execution_count": 45,
      "metadata": {},
      "outputs": [
        {
          "name": "stdout",
          "output_type": "stream",
          "text": [
            "Reddit data date distribution:\n",
            "Unique dates in reddit_data: 2943\n",
            "Total rows in reddit_data: 2943\n",
            "Average posts per date: 1.0\n"
          ]
        }
      ],
      "source": [
        "# Check the date distribution in reddit_data\n",
        "print(\"Reddit data date distribution:\")\n",
        "print(f\"Unique dates in reddit_data: {reddit_grouped['Date'].nunique()}\")\n",
        "print(f\"Total rows in reddit_data: {len(reddit_grouped)}\")\n",
        "print(f\"Average posts per date: {len(reddit_grouped) / reddit_grouped['Date'].nunique():.1f}\")"
      ]
    },
    {
      "cell_type": "code",
      "execution_count": 46,
      "metadata": {},
      "outputs": [
        {
          "name": "stdout",
          "output_type": "stream",
          "text": [
            "Reddit data date distribution:\n",
            "Unique dates in vader_news_data: 1989\n",
            "Total rows in vader_news_data: 1989\n",
            "Average posts per date: 1.0\n"
          ]
        }
      ],
      "source": [
        "# Check the date distribution in news_data\n",
        "print(\"Reddit data date distribution:\")\n",
        "print(f\"Unique dates in vader_news_data: {news_data['Date'].nunique()}\")\n",
        "print(f\"Total rows in vader_news_data: {len(news_data)}\")\n",
        "print(f\"Average posts per date: {len(news_data) / news_data['Date'].nunique():.1f}\")"
      ]
    },
    {
      "cell_type": "markdown",
      "metadata": {},
      "source": [
        "## FinBERT"
      ]
    },
    {
      "cell_type": "code",
      "execution_count": 47,
      "metadata": {},
      "outputs": [],
      "source": [
        "tokenizer = AutoTokenizer.from_pretrained(\"ProsusAI/finbert\")\n",
        "model = AutoModelForSequenceClassification.from_pretrained(\"ProsusAI/finbert\")"
      ]
    },
    {
      "cell_type": "code",
      "execution_count": 49,
      "metadata": {},
      "outputs": [],
      "source": [
        "def get_finbert_sentiment_with_label(text):\n",
        "    inputs = tokenizer(text, return_tensors=\"pt\", truncation=True, max_length=512)\n",
        "    with torch.no_grad():\n",
        "        outputs = model(**inputs)\n",
        "        probs = softmax(outputs.logits, dim=1)\n",
        "\n",
        "        negative = probs[0][0].item()\n",
        "        neutral = probs[0][1].item()\n",
        "        positive = probs[0][2].item()\n",
        "\n",
        "        # Improved Neutral Handling\n",
        "        if 0.2 < neutral < 0.6:\n",
        "          sentiment_score = 0.0\n",
        "          label = 'Neutral'\n",
        "        else:\n",
        "          sentiment_score = positive - negative\n",
        "          # Avoid extreme +1.0 or -0.5 scores\n",
        "          sentiment_score = max(min(sentiment_score, 0.9), -0.4)\n",
        "          # Basic label assignment\n",
        "          label = 'Positive' if sentiment_score > 0 else 'Negative'\n",
        "\n",
        "\n",
        "    return sentiment_score, label"
      ]
    },
    {
      "cell_type": "code",
      "execution_count": 50,
      "metadata": {},
      "outputs": [
        {
          "data": {
            "text/plain": [
              "Index(['Date', 'Label', 'Top1', 'Top2', 'Top3', 'Top4', 'Top5', 'Top6', 'Top7',\n",
              "       'Top8', 'Top9', 'Top10', 'Top11', 'Top12', 'Top13', 'Top14', 'Top15',\n",
              "       'Top16', 'Top17', 'Top18', 'Top19', 'Top20', 'Top21', 'Top22', 'Top23',\n",
              "       'Top24', 'Top25', 'combined_news', 'vader_news_sentiment'],\n",
              "      dtype='object')"
            ]
          },
          "execution_count": 50,
          "metadata": {},
          "output_type": "execute_result"
        }
      ],
      "source": [
        "news_data.columns"
      ]
    },
    {
      "cell_type": "code",
      "execution_count": 51,
      "metadata": {},
      "outputs": [
        {
          "name": "stderr",
          "output_type": "stream",
          "text": [
            "100%|██████████| 1989/1989 [13:57<00:00,  2.37it/s]"
          ]
        },
        {
          "name": "stdout",
          "output_type": "stream",
          "text": [
            "        Date                                      combined_news  \\\n",
            "0 2008-08-08  georgia downs two russian warplanes as countri...   \n",
            "1 2008-08-11  why wont america and nato help us? if they won...   \n",
            "2 2008-08-12  remember that adorable 9-year-old who sang at ...   \n",
            "3 2008-08-13  u.s. refuses israel weapons to attack iran: re...   \n",
            "4 2008-08-14  all the experts admit that we should legalise ...   \n",
            "\n",
            "   FinBERT_news_sentiment FinBERT_news_label  \n",
            "0                0.190408           Positive  \n",
            "1                0.255340           Positive  \n",
            "2                0.000000            Neutral  \n",
            "3                0.000000            Neutral  \n",
            "4                0.142573           Positive  \n"
          ]
        },
        {
          "name": "stderr",
          "output_type": "stream",
          "text": [
            "\n"
          ]
        }
      ],
      "source": [
        "tqdm.pandas()\n",
        "\n",
        "news_data[['FinBERT_news_sentiment', 'FinBERT_news_label']] = news_data['combined_news'].progress_apply(\n",
        "    lambda x: pd.Series(get_finbert_sentiment_with_label(x))\n",
        ")\n",
        "print(news_data[['Date', 'combined_news', 'FinBERT_news_sentiment', 'FinBERT_news_label']].head())"
      ]
    },
    {
      "cell_type": "code",
      "execution_count": 52,
      "metadata": {},
      "outputs": [
        {
          "name": "stderr",
          "output_type": "stream",
          "text": [
            "100%|██████████| 2943/2943 [22:07<00:00,  2.22it/s]"
          ]
        },
        {
          "name": "stdout",
          "output_type": "stream",
          "text": [
            "        Date                               Combined_Reddit_News  \\\n",
            "0 2008-06-08  marriage, they said, was reduced to the status...   \n",
            "1 2008-06-09  chew qat: in yemen, 72 per cent of men and 32 ...   \n",
            "2 2008-06-10  31 year old beats 3 year old to death: worst c...   \n",
            "3 2008-06-11  pakistan blames u.s. coalition for troops deat...   \n",
            "4 2008-06-12  marine mean motari gets expelled, another puni...   \n",
            "\n",
            "   FinBERT_reddit_sentiment FinBERT_reddit_label  \n",
            "0                  0.305556             Positive  \n",
            "1                  0.268858             Positive  \n",
            "2                  0.312289             Positive  \n",
            "3                  0.000000              Neutral  \n",
            "4                  0.000000              Neutral  \n"
          ]
        },
        {
          "name": "stderr",
          "output_type": "stream",
          "text": [
            "\n"
          ]
        }
      ],
      "source": [
        "tqdm.pandas()\n",
        "\n",
        "reddit_grouped[['FinBERT_reddit_sentiment', 'FinBERT_reddit_label']] = reddit_grouped['Combined_Reddit_News'].progress_apply(\n",
        "    lambda x: pd.Series(get_finbert_sentiment_with_label(x))\n",
        ")\n",
        "print(reddit_grouped[['Date', 'Combined_Reddit_News', 'FinBERT_reddit_sentiment', 'FinBERT_reddit_label']].head())"
      ]
    },
    {
      "cell_type": "code",
      "execution_count": 53,
      "metadata": {},
      "outputs": [
        {
          "name": "stdout",
          "output_type": "stream",
          "text": [
            "\n",
            "News Data - First 5 sentiment scores:\n",
            "        Date  FinBERT_news_sentiment\n",
            "0 2008-08-08                0.190408\n",
            "1 2008-08-11                0.255340\n",
            "2 2008-08-12                0.000000\n",
            "3 2008-08-13                0.000000\n",
            "4 2008-08-14                0.142573\n",
            "\n",
            "Reddit Data - First 5 sentiment scores:\n",
            "        Date  FinBERT_reddit_sentiment\n",
            "0 2008-06-08                  0.305556\n",
            "1 2008-06-09                  0.268858\n",
            "2 2008-06-10                  0.312289\n",
            "3 2008-06-11                  0.000000\n",
            "4 2008-06-12                  0.000000\n",
            "\n",
            "Missing values in FinBERT_news_sentiment: 0\n",
            "Missing values in FinBERT_reddit_sentiment: 0\n",
            "Sentiment range: -0.0197 to 0.8869\n",
            "Mean sentiment: 0.1401\n",
            "Sentiment range: -0.4000 to 0.8561\n",
            "Mean sentiment: 0.1364\n"
          ]
        }
      ],
      "source": [
        "# Verify the results\n",
        "print(\"\\nNews Data - First 5 sentiment scores:\")\n",
        "print(news_data[['Date', 'FinBERT_news_sentiment']].head())\n",
        "\n",
        "print(\"\\nReddit Data - First 5 sentiment scores:\")\n",
        "print(reddit_grouped[['Date', 'FinBERT_reddit_sentiment']].head())\n",
        "\n",
        "print(f\"\\nMissing values in FinBERT_news_sentiment: {news_data['FinBERT_news_sentiment'].isnull().sum()}\")\n",
        "print(f\"Missing values in FinBERT_reddit_sentiment: {reddit_grouped['FinBERT_reddit_sentiment'].isnull().sum()}\")\n",
        "\n",
        "print(f\"Sentiment range: {news_data['FinBERT_news_sentiment'].min():.4f} to {news_data['FinBERT_news_sentiment'].max():.4f}\")\n",
        "print(f\"Mean sentiment: {news_data['FinBERT_news_sentiment'].mean():.4f}\")\n",
        "\n",
        "print(f\"Sentiment range: {reddit_grouped['FinBERT_reddit_sentiment'].min():.4f} to {reddit_grouped['FinBERT_reddit_sentiment'].max():.4f}\")\n",
        "print(f\"Mean sentiment: {reddit_grouped['FinBERT_reddit_sentiment'].mean():.4f}\")"
      ]
    },
    {
      "cell_type": "markdown",
      "metadata": {},
      "source": [
        "## Smart Sentiment"
      ]
    },
    {
      "cell_type": "code",
      "execution_count": 54,
      "metadata": {},
      "outputs": [],
      "source": [
        "def smart_sentiment(text):\n",
        "    score, label = get_finbert_sentiment_with_label(text)\n",
        "\n",
        "    # Keyword lists\n",
        "    extreme_negative_words = ['crash', 'collapse', 'plummet', 'wipeout', 'bankruptcy', 'liquidation', 'massive loss', 'wipe out']\n",
        "    negative_words = ['fall', 'down', 'drop', 'loss', 'bearish', 'sell', 'breakdown', 'decline']\n",
        "    positive_words = ['rise', 'gain', 'soar', 'up', 'surge', 'bullish', 'profit', 'growth', 'buy', 'record high']\n",
        "    neutral_words = ['neutral', 'flat', 'no change', 'unchanged', 'stable', 'steady']\n",
        "\n",
        "    text_lower = text.lower()\n",
        "\n",
        "    # Apply Extreme Negative Penalty (Higher)\n",
        "    if any(word in text_lower for word in extreme_negative_words):\n",
        "        score -= 0.7\n",
        "        label = 'Negative'\n",
        "\n",
        "    # Apply Regular Negative Penalty\n",
        "    elif any(word in text_lower for word in negative_words):\n",
        "        score -= 0.4\n",
        "        label = 'Negative'\n",
        "\n",
        "    # Apply Positive Boost\n",
        "    elif any(word in text_lower for word in positive_words):\n",
        "        score += 0.4\n",
        "        label = 'Positive'\n",
        "\n",
        "    # Set Explicit Neutral Handling\n",
        "    elif any(word in text_lower for word in neutral_words):\n",
        "        score = 0.0\n",
        "        label = 'Neutral'\n",
        "\n",
        "    # Clip score between -1 and 1\n",
        "    score = max(min(score, 0.9), -0.7)\n",
        "\n",
        "    # Final Label Assignment (Refined Thresholds)\n",
        "    if score > 0.3:\n",
        "        label = 'Positive'\n",
        "    elif score < -0.3:\n",
        "        label = 'Negative'\n",
        "    else:\n",
        "        label = 'Neutral'\n",
        "\n",
        "    return score, label"
      ]
    },
    {
      "cell_type": "code",
      "execution_count": 55,
      "metadata": {},
      "outputs": [
        {
          "name": "stderr",
          "output_type": "stream",
          "text": [
            "100%|██████████| 1989/1989 [14:31<00:00,  2.28it/s]"
          ]
        },
        {
          "name": "stdout",
          "output_type": "stream",
          "text": [
            "        Date                                      combined_news  \\\n",
            "0 2008-08-08  georgia downs two russian warplanes as countri...   \n",
            "1 2008-08-11  why wont america and nato help us? if they won...   \n",
            "2 2008-08-12  remember that adorable 9-year-old who sang at ...   \n",
            "3 2008-08-13  u.s. refuses israel weapons to attack iran: re...   \n",
            "4 2008-08-14  all the experts admit that we should legalise ...   \n",
            "\n",
            "   Smart_news_sentiment Smart_news_label  \n",
            "0             -0.209592          Neutral  \n",
            "1             -0.144660          Neutral  \n",
            "2             -0.400000         Negative  \n",
            "3              0.400000         Positive  \n",
            "4              0.542573         Positive  \n"
          ]
        },
        {
          "name": "stderr",
          "output_type": "stream",
          "text": [
            "\n"
          ]
        }
      ],
      "source": [
        "tqdm.pandas()\n",
        "\n",
        "news_data[['Smart_news_sentiment', 'Smart_news_label']] = news_data['combined_news'].progress_apply(\n",
        "    lambda x: pd.Series(smart_sentiment(x))\n",
        ")\n",
        "print(news_data[['Date', 'combined_news', 'Smart_news_sentiment', 'Smart_news_label']].head())"
      ]
    },
    {
      "cell_type": "code",
      "execution_count": 56,
      "metadata": {},
      "outputs": [
        {
          "name": "stderr",
          "output_type": "stream",
          "text": [
            "100%|██████████| 2943/2943 [20:49<00:00,  2.35it/s]"
          ]
        },
        {
          "name": "stdout",
          "output_type": "stream",
          "text": [
            "        Date                               Combined_Reddit_News  \\\n",
            "0 2008-06-08  marriage, they said, was reduced to the status...   \n",
            "1 2008-06-09  chew qat: in yemen, 72 per cent of men and 32 ...   \n",
            "2 2008-06-10  31 year old beats 3 year old to death: worst c...   \n",
            "3 2008-06-11  pakistan blames u.s. coalition for troops deat...   \n",
            "4 2008-06-12  marine mean motari gets expelled, another puni...   \n",
            "\n",
            "   Smart_reddit_sentiment Smart_reddit_label  \n",
            "0                0.705556           Positive  \n",
            "1               -0.131142            Neutral  \n",
            "2               -0.087711            Neutral  \n",
            "3               -0.400000           Negative  \n",
            "4               -0.400000           Negative  \n"
          ]
        },
        {
          "name": "stderr",
          "output_type": "stream",
          "text": [
            "\n"
          ]
        }
      ],
      "source": [
        "tqdm.pandas()\n",
        "\n",
        "reddit_grouped[['Smart_reddit_sentiment', 'Smart_reddit_label']] = reddit_grouped['Combined_Reddit_News'].progress_apply(\n",
        "    lambda x: pd.Series(smart_sentiment(x))\n",
        ")\n",
        "print(reddit_grouped[['Date', 'Combined_Reddit_News', 'Smart_reddit_sentiment', 'Smart_reddit_label']].head())"
      ]
    },
    {
      "cell_type": "code",
      "execution_count": 57,
      "metadata": {},
      "outputs": [
        {
          "name": "stdout",
          "output_type": "stream",
          "text": [
            "\n",
            "News Data - First 5 sentiment scores:\n",
            "        Date  Smart_news_sentiment\n",
            "0 2008-08-08             -0.209592\n",
            "1 2008-08-11             -0.144660\n",
            "2 2008-08-12             -0.400000\n",
            "3 2008-08-13              0.400000\n",
            "4 2008-08-14              0.542573\n",
            "\n",
            "Reddit Data - First 5 sentiment scores:\n",
            "        Date  Smart_reddit_sentiment\n",
            "0 2008-06-08                0.705556\n",
            "1 2008-06-09               -0.131142\n",
            "2 2008-06-10               -0.087711\n",
            "3 2008-06-11               -0.400000\n",
            "4 2008-06-12               -0.400000\n",
            "\n",
            "Missing values in Smart_news_sentiment: 0\n",
            "Missing values in Smart_reddit_sentiment: 0\n",
            "Sentiment range: -0.7000 to 0.9000\n",
            "Mean sentiment: -0.1374\n",
            "Sentiment range: -0.7000 to 0.9000\n",
            "Mean sentiment: -0.1291\n"
          ]
        }
      ],
      "source": [
        "# Verify the results\n",
        "print(\"\\nNews Data - First 5 sentiment scores:\")\n",
        "print(news_data[['Date', 'Smart_news_sentiment']].head())\n",
        "\n",
        "print(\"\\nReddit Data - First 5 sentiment scores:\")\n",
        "print(reddit_grouped[['Date', 'Smart_reddit_sentiment']].head())\n",
        "\n",
        "print(f\"\\nMissing values in Smart_news_sentiment: {news_data['Smart_news_sentiment'].isnull().sum()}\")\n",
        "print(f\"Missing values in Smart_reddit_sentiment: {reddit_grouped['Smart_reddit_sentiment'].isnull().sum()}\")\n",
        "\n",
        "print(f\"Sentiment range: {news_data['Smart_news_sentiment'].min():.4f} to {news_data['Smart_news_sentiment'].max():.4f}\")\n",
        "print(f\"Mean sentiment: {news_data['Smart_news_sentiment'].mean():.4f}\")\n",
        "\n",
        "print(f\"Sentiment range: {reddit_grouped['Smart_reddit_sentiment'].min():.4f} to {reddit_grouped['Smart_reddit_sentiment'].max():.4f}\")\n",
        "print(f\"Mean sentiment: {reddit_grouped['Smart_reddit_sentiment'].mean():.4f}\")"
      ]
    },
    {
      "cell_type": "code",
      "execution_count": 58,
      "metadata": {},
      "outputs": [],
      "source": [
        "# Intent\n",
        "def extract_intent_features(text):\n",
        "    if pd.isna(text) or text == '' or text == 'nan':\n",
        "        return {\n",
        "            'buying_intent': 0, 'selling_intent': 0, 'uncertainty_intent': 0,\n",
        "            'urgency_intent': 0, 'prediction_intent': 0, 'fear_intent': 0,\n",
        "            'greed_intent': 0, 'question_intent': 0, 'action_intent': 0\n",
        "        }\n",
        "\n",
        "    text = str(text).lower()\n",
        "\n",
        "    # intent keywords\n",
        "    buying_keywords = ['buy', 'purchase', 'invest', 'bull', 'bullish', 'long', 'growth', 'rise', 'gain', 'up', 'increase', 'rally', 'boom', 'positive', 'optimistic']\n",
        "    selling_keywords = ['sell', 'short', 'bear', 'bearish', 'dump', 'crash', 'fall', 'decline', 'drop', 'down', 'decrease', 'plunge', 'collapse', 'negative', 'pessimistic']\n",
        "    uncertainty_keywords = ['maybe', 'might', 'could', 'uncertain', 'unclear', 'confused', 'doubt', 'unsure', 'possibly', 'perhaps', 'volatility', 'unpredictable']\n",
        "    urgency_keywords = ['urgent', 'immediately', 'asap', 'quick', 'fast', 'now', 'breaking', 'alert', 'rush', 'emergency', 'critical', 'instant']\n",
        "    prediction_keywords = ['predict', 'forecast', 'expect', 'anticipate', 'will', 'going to', 'likely', 'estimate', 'project', 'outlook', 'future', 'target']\n",
        "    fear_keywords = ['fear', 'panic', 'worry', 'scared', 'anxious', 'concern', 'risk', 'danger', 'threat', 'crisis', 'disaster', 'trouble']\n",
        "    greed_keywords = ['profit', 'money', 'rich', 'wealth', 'fortune', 'jackpot', 'windfall', 'earnings', 'revenue', 'income', 'gains', 'returns']\n",
        "    question_keywords = ['?', 'what', 'how', 'when', 'where', 'why', 'should', 'would', 'could', 'can', 'who', 'which']\n",
        "    action_keywords = ['action', 'move', 'decision', 'strategy', 'plan', 'execute', 'implement', 'act', 'do', 'trade', 'invest', 'position']\n",
        "\n",
        "    # Count occurrences\n",
        "    buying_count = sum(1 for word in buying_keywords if word in text)\n",
        "    selling_count = sum(1 for word in selling_keywords if word in text)\n",
        "    uncertainty_count = sum(1 for word in uncertainty_keywords if word in text)\n",
        "    urgency_count = sum(1 for word in urgency_keywords if word in text)\n",
        "    prediction_count = sum(1 for word in prediction_keywords if word in text)\n",
        "    fear_count = sum(1 for word in fear_keywords if word in text)\n",
        "    greed_count = sum(1 for word in greed_keywords if word in text)\n",
        "    question_count = sum(1 for word in question_keywords if word in text)\n",
        "    action_count = sum(1 for word in action_keywords if word in text)\n",
        "\n",
        "    return {\n",
        "        'buying_intent': buying_count,\n",
        "        'selling_intent': selling_count,\n",
        "        'uncertainty_intent': uncertainty_count,\n",
        "        'urgency_intent': urgency_count,\n",
        "        'prediction_intent': prediction_count,\n",
        "        'fear_intent': fear_count,\n",
        "        'greed_intent': greed_count,\n",
        "        'question_intent': question_count,\n",
        "        'action_intent': action_count\n",
        "    }"
      ]
    },
    {
      "cell_type": "code",
      "execution_count": 59,
      "metadata": {},
      "outputs": [
        {
          "name": "stdout",
          "output_type": "stream",
          "text": [
            "Computing intent features for news data...\n",
            "Processing 1989 rows...\n"
          ]
        },
        {
          "name": "stderr",
          "output_type": "stream",
          "text": [
            "News Intent Analysis: 100%|██████████| 1989/1989 [00:00<00:00, 4810.68it/s]"
          ]
        },
        {
          "name": "stdout",
          "output_type": "stream",
          "text": [
            "News intent analysis completed!\n",
            "Intent features added: ['buying_intent', 'selling_intent', 'uncertainty_intent', 'urgency_intent', 'prediction_intent', 'fear_intent', 'greed_intent', 'question_intent', 'action_intent']\n"
          ]
        },
        {
          "name": "stderr",
          "output_type": "stream",
          "text": [
            "\n"
          ]
        }
      ],
      "source": [
        "# Apply intent analysis to news_data\n",
        "print(\"Computing intent features for news data...\")\n",
        "print(f\"Processing {len(news_data)} rows...\")\n",
        "\n",
        "tqdm.pandas(desc=\"News Intent Analysis\")\n",
        "news_intent_features = news_data['combined_news'].progress_apply(extract_intent_features)\n",
        "\n",
        "# Convert to DataFrame and add to news_data\n",
        "news_intent_df = pd.DataFrame(news_intent_features.tolist())\n",
        "news_data = pd.concat([news_data, news_intent_df], axis=1)\n",
        "\n",
        "print(\"News intent analysis completed!\")\n",
        "print(\"Intent features added:\", list(news_intent_df.columns))"
      ]
    },
    {
      "cell_type": "code",
      "execution_count": 60,
      "metadata": {},
      "outputs": [
        {
          "name": "stdout",
          "output_type": "stream",
          "text": [
            "Computing intent features for reddit data...\n",
            "Processing 2943 rows...\n"
          ]
        },
        {
          "name": "stderr",
          "output_type": "stream",
          "text": [
            "Reddit Intent Analysis: 100%|██████████| 2943/2943 [00:00<00:00, 4818.56it/s]"
          ]
        },
        {
          "name": "stdout",
          "output_type": "stream",
          "text": [
            "Reddit intent analysis completed!\n",
            "Intent features added: ['buying_intent', 'selling_intent', 'uncertainty_intent', 'urgency_intent', 'prediction_intent', 'fear_intent', 'greed_intent', 'question_intent', 'action_intent']\n"
          ]
        },
        {
          "name": "stderr",
          "output_type": "stream",
          "text": [
            "\n"
          ]
        }
      ],
      "source": [
        "# Apply intent analysis to reddit_data\n",
        "print(\"Computing intent features for reddit data...\")\n",
        "print(f\"Processing {len(reddit_grouped)} rows...\")\n",
        "\n",
        "tqdm.pandas(desc=\"Reddit Intent Analysis\")\n",
        "reddit_intent_features = reddit_grouped['Combined_Reddit_News'].progress_apply(extract_intent_features)\n",
        "\n",
        "# Convert to DataFrame and add to reddit_data\n",
        "reddit_intent_df = pd.DataFrame(reddit_intent_features.tolist())\n",
        "reddit_grouped = pd.concat([reddit_grouped, reddit_intent_df], axis=1)\n",
        "\n",
        "print(\"Reddit intent analysis completed!\")\n",
        "print(\"Intent features added:\", list(reddit_intent_df.columns))"
      ]
    },
    {
      "cell_type": "code",
      "execution_count": 61,
      "metadata": {},
      "outputs": [
        {
          "name": "stdout",
          "output_type": "stream",
          "text": [
            "\n",
            "News Data Intent\n",
            "buying_intent: Mean=2.86, Max=7, Sum=5698\n",
            "selling_intent: Mean=1.38, Max=6, Sum=2748\n",
            "uncertainty_intent: Mean=0.56, Max=3, Sum=1106\n",
            "urgency_intent: Mean=1.08, Max=4, Sum=2151\n",
            "prediction_intent: Mean=1.43, Max=6, Sum=2850\n",
            "fear_intent: Mean=1.28, Max=6, Sum=2546\n",
            "greed_intent: Mean=1.11, Max=4, Sum=2201\n",
            "question_intent: Mean=4.84, Max=11, Sum=9623\n",
            "action_intent: Mean=3.60, Max=8, Sum=7163\n"
          ]
        }
      ],
      "source": [
        "# Display intent statistics for news_data\n",
        "print(\"\\nNews Data Intent\")\n",
        "intent_cols = ['buying_intent', 'selling_intent', 'uncertainty_intent', 'urgency_intent',\n",
        "               'prediction_intent', 'fear_intent', 'greed_intent', 'question_intent', 'action_intent']\n",
        "\n",
        "for col in intent_cols:\n",
        "    print(f\"{col}: Mean={news_data[col].mean():.2f}, Max={news_data[col].max()}, Sum={news_data[col].sum()}\")"
      ]
    },
    {
      "cell_type": "code",
      "execution_count": 62,
      "metadata": {},
      "outputs": [
        {
          "name": "stdout",
          "output_type": "stream",
          "text": [
            "\n",
            "Reddit Data Intent\n",
            "buying_intent: Mean=2.87, Max=7, Sum=8457\n",
            "selling_intent: Mean=1.36, Max=6, Sum=4002\n",
            "uncertainty_intent: Mean=0.56, Max=3, Sum=1636\n",
            "urgency_intent: Mean=1.07, Max=4, Sum=3138\n",
            "prediction_intent: Mean=1.42, Max=6, Sum=4193\n",
            "fear_intent: Mean=1.29, Max=6, Sum=3801\n",
            "greed_intent: Mean=1.11, Max=4, Sum=3277\n",
            "question_intent: Mean=4.81, Max=11, Sum=14154\n",
            "action_intent: Mean=3.60, Max=9, Sum=10592\n"
          ]
        }
      ],
      "source": [
        "# Display intent statistics for reddit_data\n",
        "print(\"\\nReddit Data Intent\")\n",
        "for col in intent_cols:\n",
        "    print(f\"{col}: Mean={reddit_grouped[col].mean():.2f}, Max={reddit_grouped[col].max()}, Sum={reddit_grouped[col].sum()}\")"
      ]
    },
    {
      "cell_type": "code",
      "execution_count": 63,
      "metadata": {},
      "outputs": [
        {
          "data": {
            "text/plain": [
              "Index(['Date', 'Label', 'Top1', 'Top2', 'Top3', 'Top4', 'Top5', 'Top6', 'Top7',\n",
              "       'Top8', 'Top9', 'Top10', 'Top11', 'Top12', 'Top13', 'Top14', 'Top15',\n",
              "       'Top16', 'Top17', 'Top18', 'Top19', 'Top20', 'Top21', 'Top22', 'Top23',\n",
              "       'Top24', 'Top25', 'combined_news', 'vader_news_sentiment',\n",
              "       'FinBERT_news_sentiment', 'FinBERT_news_label', 'Smart_news_sentiment',\n",
              "       'Smart_news_label', 'buying_intent', 'selling_intent',\n",
              "       'uncertainty_intent', 'urgency_intent', 'prediction_intent',\n",
              "       'fear_intent', 'greed_intent', 'question_intent', 'action_intent'],\n",
              "      dtype='object')"
            ]
          },
          "execution_count": 63,
          "metadata": {},
          "output_type": "execute_result"
        }
      ],
      "source": [
        "news_data.columns"
      ]
    },
    {
      "cell_type": "code",
      "execution_count": 64,
      "metadata": {},
      "outputs": [
        {
          "data": {
            "text/plain": [
              "Index(['Date', 'Combined_Reddit_News', 'vader_reddit_sentiment',\n",
              "       'FinBERT_reddit_sentiment', 'FinBERT_reddit_label',\n",
              "       'Smart_reddit_sentiment', 'Smart_reddit_label', 'buying_intent',\n",
              "       'selling_intent', 'uncertainty_intent', 'urgency_intent',\n",
              "       'prediction_intent', 'fear_intent', 'greed_intent', 'question_intent',\n",
              "       'action_intent'],\n",
              "      dtype='object')"
            ]
          },
          "execution_count": 64,
          "metadata": {},
          "output_type": "execute_result"
        }
      ],
      "source": [
        "reddit_grouped.columns"
      ]
    },
    {
      "cell_type": "code",
      "execution_count": 65,
      "metadata": {},
      "outputs": [
        {
          "name": "stdout",
          "output_type": "stream",
          "text": [
            "\n",
            "News data with sentiment and intent:\n",
            "        Date  vader_news_sentiment  FinBERT_news_sentiment  \\\n",
            "0 2008-08-08               -0.9978                0.190408   \n",
            "1 2008-08-11               -0.9814                0.255340   \n",
            "2 2008-08-12               -0.9778                0.000000   \n",
            "3 2008-08-13               -0.9809                0.000000   \n",
            "4 2008-08-14               -0.9899                0.142573   \n",
            "\n",
            "   Smart_news_sentiment  buying_intent  selling_intent  uncertainty_intent  \\\n",
            "0             -0.209592              2               2                   0   \n",
            "1             -0.144660              1               1                   1   \n",
            "2             -0.400000              3               2                   1   \n",
            "3              0.400000              2               0                   0   \n",
            "4              0.542573              1               0                   1   \n",
            "\n",
            "   urgency_intent  prediction_intent  fear_intent  greed_intent  \\\n",
            "0               1                  1            1             1   \n",
            "1               1                  0            1             0   \n",
            "2               1                  0            0             0   \n",
            "3               0                  1            0             1   \n",
            "4               2                  3            2             1   \n",
            "\n",
            "   question_intent  action_intent  \n",
            "0                6              5  \n",
            "1                4              3  \n",
            "2                6              3  \n",
            "3                5              5  \n",
            "4                5              3  \n",
            "\n",
            "Reddit data with sentiment and intent:\n",
            "        Date  vader_reddit_sentiment  FinBERT_reddit_sentiment  \\\n",
            "0 2008-06-08                 -0.9975                  0.305556   \n",
            "1 2008-06-09                 -0.9968                  0.268858   \n",
            "2 2008-06-10                 -0.9962                  0.312289   \n",
            "3 2008-06-11                 -0.9901                  0.000000   \n",
            "4 2008-06-12                 -0.8840                  0.000000   \n",
            "\n",
            "   Smart_reddit_sentiment  buying_intent  selling_intent  uncertainty_intent  \\\n",
            "0                0.705556              3               1                   1   \n",
            "1               -0.131142              2               1                   0   \n",
            "2               -0.087711              2               2                   0   \n",
            "3               -0.400000              2               1                   0   \n",
            "4               -0.400000              2               2                   0   \n",
            "\n",
            "   urgency_intent  prediction_intent  fear_intent  greed_intent  \\\n",
            "0               1                  3            3             1   \n",
            "1               1                  2            4             1   \n",
            "2               0                  0            3             1   \n",
            "3               0                  1            2             1   \n",
            "4               1                  2            1             0   \n",
            "\n",
            "   question_intent  action_intent  \n",
            "0                6              5  \n",
            "1                6              1  \n",
            "2                4              3  \n",
            "3                3              3  \n",
            "4                5              3  \n"
          ]
        }
      ],
      "source": [
        "print(\"\\nNews data with sentiment and intent:\")\n",
        "sample_cols = ['Date', 'vader_news_sentiment',\n",
        "       'FinBERT_news_sentiment', 'Smart_news_sentiment'] + intent_cols\n",
        "print(news_data[sample_cols].head())\n",
        "\n",
        "print(\"\\nReddit data with sentiment and intent:\")\n",
        "sample_cols = ['Date', 'vader_reddit_sentiment',\n",
        "       'FinBERT_reddit_sentiment',\n",
        "       'Smart_reddit_sentiment'] + intent_cols\n",
        "print(reddit_grouped[sample_cols].head())"
      ]
    },
    {
      "cell_type": "code",
      "execution_count": 66,
      "metadata": {},
      "outputs": [],
      "source": [
        "news_data.rename(\n",
        "    columns={col: f'news_{col}' for col in news_data.columns if 'intent' in col and not col.startswith('news_')},\n",
        "    inplace=True\n",
        ")"
      ]
    },
    {
      "cell_type": "code",
      "execution_count": 67,
      "metadata": {},
      "outputs": [],
      "source": [
        "reddit_grouped.rename(\n",
        "    columns={col: f'reddit_{col}' for col in reddit_grouped.columns if 'intent' in col and not col.startswith('reddit_')},\n",
        "    inplace=True\n",
        ")"
      ]
    },
    {
      "cell_type": "code",
      "execution_count": 68,
      "metadata": {},
      "outputs": [
        {
          "data": {
            "text/plain": [
              "Index(['Date', 'Combined_Reddit_News', 'vader_reddit_sentiment',\n",
              "       'FinBERT_reddit_sentiment', 'FinBERT_reddit_label',\n",
              "       'Smart_reddit_sentiment', 'Smart_reddit_label', 'reddit_buying_intent',\n",
              "       'reddit_selling_intent', 'reddit_uncertainty_intent',\n",
              "       'reddit_urgency_intent', 'reddit_prediction_intent',\n",
              "       'reddit_fear_intent', 'reddit_greed_intent', 'reddit_question_intent',\n",
              "       'reddit_action_intent'],\n",
              "      dtype='object')"
            ]
          },
          "execution_count": 68,
          "metadata": {},
          "output_type": "execute_result"
        }
      ],
      "source": [
        "reddit_grouped.columns\n"
      ]
    },
    {
      "cell_type": "code",
      "execution_count": 69,
      "metadata": {},
      "outputs": [
        {
          "data": {
            "text/plain": [
              "Index(['Date', 'Label', 'Top1', 'Top2', 'Top3', 'Top4', 'Top5', 'Top6', 'Top7',\n",
              "       'Top8', 'Top9', 'Top10', 'Top11', 'Top12', 'Top13', 'Top14', 'Top15',\n",
              "       'Top16', 'Top17', 'Top18', 'Top19', 'Top20', 'Top21', 'Top22', 'Top23',\n",
              "       'Top24', 'Top25', 'combined_news', 'vader_news_sentiment',\n",
              "       'FinBERT_news_sentiment', 'FinBERT_news_label', 'Smart_news_sentiment',\n",
              "       'Smart_news_label', 'news_buying_intent', 'news_selling_intent',\n",
              "       'news_uncertainty_intent', 'news_urgency_intent',\n",
              "       'news_prediction_intent', 'news_fear_intent', 'news_greed_intent',\n",
              "       'news_question_intent', 'news_action_intent'],\n",
              "      dtype='object')"
            ]
          },
          "execution_count": 69,
          "metadata": {},
          "output_type": "execute_result"
        }
      ],
      "source": [
        "news_data.columns"
      ]
    },
    {
      "cell_type": "code",
      "execution_count": 70,
      "metadata": {},
      "outputs": [
        {
          "name": "stdout",
          "output_type": "stream",
          "text": [
            "\n",
            "News Data Intent\n",
            "news_buying_intent: Mean=2.86, Max=7, Sum=5698\n",
            "news_selling_intent: Mean=1.38, Max=6, Sum=2748\n",
            "news_uncertainty_intent: Mean=0.56, Max=3, Sum=1106\n",
            "news_urgency_intent: Mean=1.08, Max=4, Sum=2151\n",
            "news_prediction_intent: Mean=1.43, Max=6, Sum=2850\n",
            "news_fear_intent: Mean=1.28, Max=6, Sum=2546\n",
            "news_greed_intent: Mean=1.11, Max=4, Sum=2201\n",
            "news_question_intent: Mean=4.84, Max=11, Sum=9623\n",
            "news_action_intent: Mean=3.60, Max=8, Sum=7163\n"
          ]
        }
      ],
      "source": [
        "# Display intent statistics for news_data\n",
        "print(\"\\nNews Data Intent\")\n",
        "intent_cols_news = ['news_buying_intent', 'news_selling_intent',\n",
        "       'news_uncertainty_intent', 'news_urgency_intent',\n",
        "       'news_prediction_intent', 'news_fear_intent', 'news_greed_intent',\n",
        "       'news_question_intent', 'news_action_intent']\n",
        "\n",
        "for col in intent_cols_news:\n",
        "    print(f\"{col}: Mean={news_data[col].mean():.2f}, Max={news_data[col].max()}, Sum={news_data[col].sum()}\")"
      ]
    },
    {
      "cell_type": "code",
      "execution_count": 71,
      "metadata": {},
      "outputs": [
        {
          "name": "stdout",
          "output_type": "stream",
          "text": [
            "\n",
            "Reddit Data Intent\n",
            "reddit_buying_intent: Mean=2.87, Max=7, Sum=8457\n",
            "reddit_selling_intent: Mean=1.36, Max=6, Sum=4002\n",
            "reddit_uncertainty_intent: Mean=0.56, Max=3, Sum=1636\n",
            "reddit_urgency_intent: Mean=1.07, Max=4, Sum=3138\n",
            "reddit_prediction_intent: Mean=1.42, Max=6, Sum=4193\n",
            "reddit_fear_intent: Mean=1.29, Max=6, Sum=3801\n",
            "reddit_greed_intent: Mean=1.11, Max=4, Sum=3277\n",
            "reddit_question_intent: Mean=4.81, Max=11, Sum=14154\n",
            "reddit_action_intent: Mean=3.60, Max=9, Sum=10592\n"
          ]
        }
      ],
      "source": [
        "# Display intent statistics for reddit_data\n",
        "print(\"\\nReddit Data Intent\")\n",
        "intent_cols_reddit = ['reddit_buying_intent',\n",
        "       'reddit_selling_intent', 'reddit_uncertainty_intent',\n",
        "       'reddit_urgency_intent', 'reddit_prediction_intent',\n",
        "       'reddit_fear_intent', 'reddit_greed_intent', 'reddit_question_intent',\n",
        "       'reddit_action_intent']\n",
        "\n",
        "for col in intent_cols_reddit:\n",
        "    print(f\"{col}: Mean={reddit_grouped[col].mean():.2f}, Max={reddit_grouped[col].max()}, Sum={reddit_grouped[col].sum()}\")"
      ]
    },
    {
      "cell_type": "code",
      "execution_count": 72,
      "metadata": {},
      "outputs": [
        {
          "name": "stdout",
          "output_type": "stream",
          "text": [
            "\n",
            "News data shape: (1989, 42)\n",
            "Reddit data shape: (2943, 16)\n",
            "\n",
            "Missing values in news intent features:\n",
            "news_buying_intent: 0\n",
            "news_selling_intent: 0\n",
            "news_uncertainty_intent: 0\n",
            "news_urgency_intent: 0\n",
            "news_prediction_intent: 0\n",
            "news_fear_intent: 0\n",
            "news_greed_intent: 0\n",
            "news_question_intent: 0\n",
            "news_action_intent: 0\n",
            "\n",
            "Missing values in reddit intent features:\n",
            "reddit_buying_intent: 0\n",
            "reddit_selling_intent: 0\n",
            "reddit_uncertainty_intent: 0\n",
            "reddit_urgency_intent: 0\n",
            "reddit_prediction_intent: 0\n",
            "reddit_fear_intent: 0\n",
            "reddit_greed_intent: 0\n",
            "reddit_question_intent: 0\n",
            "reddit_action_intent: 0\n"
          ]
        }
      ],
      "source": [
        "print(f\"\\nNews data shape: {news_data.shape}\")\n",
        "print(f\"Reddit data shape: {reddit_grouped.shape}\")\n",
        "\n",
        "print(f\"\\nMissing values in news intent features:\")\n",
        "for col in intent_cols_news:\n",
        "    missing = news_data[col].isnull().sum()\n",
        "    print(f\"{col}: {missing}\")\n",
        "\n",
        "print(f\"\\nMissing values in reddit intent features:\")\n",
        "for col in intent_cols_reddit:\n",
        "    missing = reddit_grouped[col].isnull().sum()\n",
        "    print(f\"{col}: {missing}\")"
      ]
    },
    {
      "cell_type": "code",
      "execution_count": 73,
      "metadata": {
        "id": "Wr8zOEGfZgr9"
      },
      "outputs": [],
      "source": [
        "merged_data = stock_data.merge(\n",
        "    news_data[['Date', 'Label', 'combined_news', 'vader_news_sentiment',\n",
        "       'FinBERT_news_sentiment', 'FinBERT_news_label', 'Smart_news_sentiment',\n",
        "       'Smart_news_label', 'news_buying_intent', 'news_selling_intent',\n",
        "       'news_uncertainty_intent', 'news_urgency_intent',\n",
        "       'news_prediction_intent', 'news_fear_intent', 'news_greed_intent',\n",
        "       'news_question_intent', 'news_action_intent']],\n",
        "    on='Date',\n",
        "    how='inner'\n",
        ")\n",
        "\n",
        "merged_data = merged_data.merge(\n",
        "    reddit_grouped[['Date','Combined_Reddit_News', 'vader_reddit_sentiment',\n",
        "       'FinBERT_reddit_sentiment', 'FinBERT_reddit_label',\n",
        "       'Smart_reddit_sentiment', 'Smart_reddit_label', 'reddit_buying_intent',\n",
        "       'reddit_selling_intent', 'reddit_uncertainty_intent',\n",
        "       'reddit_urgency_intent', 'reddit_prediction_intent',\n",
        "       'reddit_fear_intent', 'reddit_greed_intent', 'reddit_question_intent',\n",
        "       'reddit_action_intent']],\n",
        "    on='Date',\n",
        "    how='inner'\n",
        ")"
      ]
    },
    {
      "cell_type": "code",
      "execution_count": 74,
      "metadata": {
        "id": "XHRhQWUIZjcu"
      },
      "outputs": [],
      "source": [
        "merged_data['Target'] = (merged_data['Close'].shift(-1) > merged_data['Close']).astype(int)"
      ]
    },
    {
      "cell_type": "code",
      "execution_count": 75,
      "metadata": {
        "id": "2LQhV8MmZjN2"
      },
      "outputs": [],
      "source": [
        "merged_data['pct_change'] = merged_data['Close'].pct_change()"
      ]
    },
    {
      "cell_type": "code",
      "execution_count": 76,
      "metadata": {},
      "outputs": [
        {
          "data": {
            "text/plain": [
              "Index(['Date', 'Label', 'Top1', 'Top2', 'Top3', 'Top4', 'Top5', 'Top6', 'Top7',\n",
              "       'Top8', 'Top9', 'Top10', 'Top11', 'Top12', 'Top13', 'Top14', 'Top15',\n",
              "       'Top16', 'Top17', 'Top18', 'Top19', 'Top20', 'Top21', 'Top22', 'Top23',\n",
              "       'Top24', 'Top25', 'combined_news', 'vader_news_sentiment',\n",
              "       'FinBERT_news_sentiment', 'FinBERT_news_label', 'Smart_news_sentiment',\n",
              "       'Smart_news_label', 'news_buying_intent', 'news_selling_intent',\n",
              "       'news_uncertainty_intent', 'news_urgency_intent',\n",
              "       'news_prediction_intent', 'news_fear_intent', 'news_greed_intent',\n",
              "       'news_question_intent', 'news_action_intent'],\n",
              "      dtype='object')"
            ]
          },
          "execution_count": 76,
          "metadata": {},
          "output_type": "execute_result"
        }
      ],
      "source": [
        "news_data.columns"
      ]
    },
    {
      "cell_type": "code",
      "execution_count": 77,
      "metadata": {},
      "outputs": [
        {
          "data": {
            "text/plain": [
              "Index(['Date', 'Combined_Reddit_News', 'vader_reddit_sentiment',\n",
              "       'FinBERT_reddit_sentiment', 'FinBERT_reddit_label',\n",
              "       'Smart_reddit_sentiment', 'Smart_reddit_label', 'reddit_buying_intent',\n",
              "       'reddit_selling_intent', 'reddit_uncertainty_intent',\n",
              "       'reddit_urgency_intent', 'reddit_prediction_intent',\n",
              "       'reddit_fear_intent', 'reddit_greed_intent', 'reddit_question_intent',\n",
              "       'reddit_action_intent'],\n",
              "      dtype='object')"
            ]
          },
          "execution_count": 77,
          "metadata": {},
          "output_type": "execute_result"
        }
      ],
      "source": [
        "reddit_grouped.columns"
      ]
    },
    {
      "cell_type": "code",
      "execution_count": 78,
      "metadata": {},
      "outputs": [
        {
          "data": {
            "text/plain": [
              "Index(['Date', 'Open', 'High', 'Low', 'Close', 'Volume', 'Adj Close',\n",
              "       'Log_Returns', 'Volatility_Log_10', 'cl-op', 'hi-lo', 'Label',\n",
              "       'combined_news', 'vader_news_sentiment', 'FinBERT_news_sentiment',\n",
              "       'FinBERT_news_label', 'Smart_news_sentiment', 'Smart_news_label',\n",
              "       'news_buying_intent', 'news_selling_intent', 'news_uncertainty_intent',\n",
              "       'news_urgency_intent', 'news_prediction_intent', 'news_fear_intent',\n",
              "       'news_greed_intent', 'news_question_intent', 'news_action_intent',\n",
              "       'Combined_Reddit_News', 'vader_reddit_sentiment',\n",
              "       'FinBERT_reddit_sentiment', 'FinBERT_reddit_label',\n",
              "       'Smart_reddit_sentiment', 'Smart_reddit_label', 'reddit_buying_intent',\n",
              "       'reddit_selling_intent', 'reddit_uncertainty_intent',\n",
              "       'reddit_urgency_intent', 'reddit_prediction_intent',\n",
              "       'reddit_fear_intent', 'reddit_greed_intent', 'reddit_question_intent',\n",
              "       'reddit_action_intent', 'Target', 'pct_change'],\n",
              "      dtype='object')"
            ]
          },
          "execution_count": 78,
          "metadata": {},
          "output_type": "execute_result"
        }
      ],
      "source": [
        "merged_data.columns"
      ]
    },
    {
      "cell_type": "code",
      "execution_count": 79,
      "metadata": {},
      "outputs": [],
      "source": [
        "merged_data['finbert_final_sentiment'] = (\n",
        "    0.6 * merged_data['FinBERT_news_sentiment'] +\n",
        "    0.4 * merged_data['FinBERT_reddit_sentiment']\n",
        ")"
      ]
    },
    {
      "cell_type": "code",
      "execution_count": 80,
      "metadata": {
        "id": "e_F6Z4V2Zlfp"
      },
      "outputs": [],
      "source": [
        "# List of base intent types\n",
        "intent_types = [\n",
        "    'buying', 'selling', 'uncertainty', 'urgency',\n",
        "    'prediction', 'fear', 'greed', 'question', 'action'\n",
        "]\n",
        "\n",
        "# 1. Total intent score per type (news + reddit)\n",
        "for intent in intent_types:\n",
        "    merged_data[f'total_{intent}_intent'] = (\n",
        "        merged_data[f'news_{intent}_intent'] + merged_data[f'reddit_{intent}_intent']\n",
        "    )\n",
        "\n",
        "# 2. Sentiment-adjusted intent interaction (FinBERT sentiment minus intents)\n",
        "for intent in ['uncertainty', 'fear', 'action', 'urgency', 'prediction']:\n",
        "    merged_data[f'sentiment_minus_{intent}'] = (\n",
        "        merged_data['finbert_final_sentiment'] -\n",
        "        merged_data[f'news_{intent}_intent'] -\n",
        "        merged_data[f'reddit_{intent}_intent']\n",
        "    )"
      ]
    },
    {
      "cell_type": "code",
      "execution_count": 81,
      "metadata": {},
      "outputs": [
        {
          "data": {
            "text/plain": [
              "Index(['Date', 'Open', 'High', 'Low', 'Close', 'Volume', 'Adj Close',\n",
              "       'Log_Returns', 'Volatility_Log_10', 'cl-op', 'hi-lo', 'Label',\n",
              "       'combined_news', 'vader_news_sentiment', 'FinBERT_news_sentiment',\n",
              "       'FinBERT_news_label', 'Smart_news_sentiment', 'Smart_news_label',\n",
              "       'news_buying_intent', 'news_selling_intent', 'news_uncertainty_intent',\n",
              "       'news_urgency_intent', 'news_prediction_intent', 'news_fear_intent',\n",
              "       'news_greed_intent', 'news_question_intent', 'news_action_intent',\n",
              "       'Combined_Reddit_News', 'vader_reddit_sentiment',\n",
              "       'FinBERT_reddit_sentiment', 'FinBERT_reddit_label',\n",
              "       'Smart_reddit_sentiment', 'Smart_reddit_label', 'reddit_buying_intent',\n",
              "       'reddit_selling_intent', 'reddit_uncertainty_intent',\n",
              "       'reddit_urgency_intent', 'reddit_prediction_intent',\n",
              "       'reddit_fear_intent', 'reddit_greed_intent', 'reddit_question_intent',\n",
              "       'reddit_action_intent', 'Target', 'pct_change',\n",
              "       'finbert_final_sentiment', 'total_buying_intent',\n",
              "       'total_selling_intent', 'total_uncertainty_intent',\n",
              "       'total_urgency_intent', 'total_prediction_intent', 'total_fear_intent',\n",
              "       'total_greed_intent', 'total_question_intent', 'total_action_intent',\n",
              "       'sentiment_minus_uncertainty', 'sentiment_minus_fear',\n",
              "       'sentiment_minus_action', 'sentiment_minus_urgency',\n",
              "       'sentiment_minus_prediction'],\n",
              "      dtype='object')"
            ]
          },
          "execution_count": 81,
          "metadata": {},
          "output_type": "execute_result"
        }
      ],
      "source": [
        "merged_data.columns"
      ]
    },
    {
      "cell_type": "code",
      "execution_count": 82,
      "metadata": {},
      "outputs": [
        {
          "data": {
            "text/plain": [
              "(1989, 59)"
            ]
          },
          "execution_count": 82,
          "metadata": {},
          "output_type": "execute_result"
        }
      ],
      "source": [
        "merged_data.shape"
      ]
    },
    {
      "cell_type": "markdown",
      "metadata": {},
      "source": [
        "`sentiment_minus_fear = finbert_final_sentiment - news_fear_intent - reddit_fear_intent`\n",
        "\n",
        "This tells us:  \n",
        "Even if sentiment seems positive, is it being dragged down by fear-driven context?  \n",
        "Or: If sentiment is already negative and there's also high fear, this difference gets more negative — stronger bearish signal.\n",
        "\n",
        "| Feature                   | Interpretation                                                | \n",
        "|---------------------------|----------------------------------------------------------------|\n",
        "| sentiment_minus_fear      | Net market tone after accounting for fear-driven language      |\n",
        "| sentiment_minus_uncertainty | Is the sentiment confident, or overshadowed by uncertainty?    |\n",
        "| sentiment_minus_action    | Is sentiment just talk, or accompanied by strong “action” language? |\n",
        "| sentiment_minus_urgency   | Is market tone rushed or calm despite the sentiment?           |\n",
        "| sentiment_minus_prediction | Is there a concrete outlook or just speculative mood?          |\n",
        "\n",
        "`sentiment_minus_<intent>` features help measure how pure sentiment is affected by deeper psychological tones like fear, uncertainty, urgency, etc.  \n",
        "They're designed to make your model more aware of contextual market signals that drive price moves."
      ]
    },
    {
      "cell_type": "code",
      "execution_count": 83,
      "metadata": {
        "colab": {
          "base_uri": "https://localhost:8080/"
        },
        "id": "ZlivB1MNZneT",
        "outputId": "77921c76-ab72-4585-91fb-dc439734739b"
      },
      "outputs": [
        {
          "data": {
            "text/plain": [
              "np.float64(0.0015082956259426848)"
            ]
          },
          "execution_count": 83,
          "metadata": {},
          "output_type": "execute_result"
        }
      ],
      "source": [
        "(merged_data['Target'] == merged_data['Label']).mean()"
      ]
    },
    {
      "cell_type": "code",
      "execution_count": 84,
      "metadata": {
        "id": "HrSRO-7ic7fV"
      },
      "outputs": [],
      "source": [
        "merged_data.to_csv('multimodal_dataset_final2.csv', index=False)"
      ]
    },
    {
      "cell_type": "code",
      "execution_count": 86,
      "metadata": {
        "id": "UbMnbZEUdAmR"
      },
      "outputs": [],
      "source": [
        "merged_data.to_csv('B:/Dublin City University/Practicum/Proj/Dataset/main/processed/multimodal_dataset_final3.csv', index=False)"
      ]
    },
    {
      "cell_type": "code",
      "execution_count": 87,
      "metadata": {},
      "outputs": [
        {
          "data": {
            "text/plain": [
              "(1989, 59)"
            ]
          },
          "execution_count": 87,
          "metadata": {},
          "output_type": "execute_result"
        }
      ],
      "source": [
        "merged_data.shape"
      ]
    }
  ],
  "metadata": {
    "colab": {
      "provenance": []
    },
    "kernelspec": {
      "display_name": "Python 3",
      "name": "python3"
    },
    "language_info": {
      "codemirror_mode": {
        "name": "ipython",
        "version": 3
      },
      "file_extension": ".py",
      "mimetype": "text/x-python",
      "name": "python",
      "nbconvert_exporter": "python",
      "pygments_lexer": "ipython3",
      "version": "3.13.3"
    },
    "widgets": {
      "application/vnd.jupyter.widget-state+json": {
        "0033d39afeda4671bb87db77b3e8b6e2": {
          "model_module": "@jupyter-widgets/base",
          "model_module_version": "1.2.0",
          "model_name": "LayoutModel",
          "state": {
            "_model_module": "@jupyter-widgets/base",
            "_model_module_version": "1.2.0",
            "_model_name": "LayoutModel",
            "_view_count": null,
            "_view_module": "@jupyter-widgets/base",
            "_view_module_version": "1.2.0",
            "_view_name": "LayoutView",
            "align_content": null,
            "align_items": null,
            "align_self": null,
            "border": null,
            "bottom": null,
            "display": null,
            "flex": null,
            "flex_flow": null,
            "grid_area": null,
            "grid_auto_columns": null,
            "grid_auto_flow": null,
            "grid_auto_rows": null,
            "grid_column": null,
            "grid_gap": null,
            "grid_row": null,
            "grid_template_areas": null,
            "grid_template_columns": null,
            "grid_template_rows": null,
            "height": null,
            "justify_content": null,
            "justify_items": null,
            "left": null,
            "margin": null,
            "max_height": null,
            "max_width": null,
            "min_height": null,
            "min_width": null,
            "object_fit": null,
            "object_position": null,
            "order": null,
            "overflow": null,
            "overflow_x": null,
            "overflow_y": null,
            "padding": null,
            "right": null,
            "top": null,
            "visibility": null,
            "width": null
          }
        },
        "0172e5f129204730a911c9e984786bc7": {
          "model_module": "@jupyter-widgets/base",
          "model_module_version": "1.2.0",
          "model_name": "LayoutModel",
          "state": {
            "_model_module": "@jupyter-widgets/base",
            "_model_module_version": "1.2.0",
            "_model_name": "LayoutModel",
            "_view_count": null,
            "_view_module": "@jupyter-widgets/base",
            "_view_module_version": "1.2.0",
            "_view_name": "LayoutView",
            "align_content": null,
            "align_items": null,
            "align_self": null,
            "border": null,
            "bottom": null,
            "display": null,
            "flex": null,
            "flex_flow": null,
            "grid_area": null,
            "grid_auto_columns": null,
            "grid_auto_flow": null,
            "grid_auto_rows": null,
            "grid_column": null,
            "grid_gap": null,
            "grid_row": null,
            "grid_template_areas": null,
            "grid_template_columns": null,
            "grid_template_rows": null,
            "height": null,
            "justify_content": null,
            "justify_items": null,
            "left": null,
            "margin": null,
            "max_height": null,
            "max_width": null,
            "min_height": null,
            "min_width": null,
            "object_fit": null,
            "object_position": null,
            "order": null,
            "overflow": null,
            "overflow_x": null,
            "overflow_y": null,
            "padding": null,
            "right": null,
            "top": null,
            "visibility": null,
            "width": null
          }
        },
        "055a5e7b8e654fbcb897a6912e3fbf57": {
          "model_module": "@jupyter-widgets/controls",
          "model_module_version": "1.5.0",
          "model_name": "ProgressStyleModel",
          "state": {
            "_model_module": "@jupyter-widgets/controls",
            "_model_module_version": "1.5.0",
            "_model_name": "ProgressStyleModel",
            "_view_count": null,
            "_view_module": "@jupyter-widgets/base",
            "_view_module_version": "1.2.0",
            "_view_name": "StyleView",
            "bar_color": null,
            "description_width": ""
          }
        },
        "07ca58a12bd142ce82047171637fdd24": {
          "model_module": "@jupyter-widgets/controls",
          "model_module_version": "1.5.0",
          "model_name": "HTMLModel",
          "state": {
            "_dom_classes": [],
            "_model_module": "@jupyter-widgets/controls",
            "_model_module_version": "1.5.0",
            "_model_name": "HTMLModel",
            "_view_count": null,
            "_view_module": "@jupyter-widgets/controls",
            "_view_module_version": "1.5.0",
            "_view_name": "HTMLView",
            "description": "",
            "description_tooltip": null,
            "layout": "IPY_MODEL_a1ca477ac6a84ed59cf6f8c6fd229114",
            "placeholder": "​",
            "style": "IPY_MODEL_181fac6d6cbd4381acdbd48484dbe159",
            "value": "pytorch_model.bin: 100%"
          }
        },
        "0b79edb9812541e3aaacf748c1e28c1a": {
          "model_module": "@jupyter-widgets/controls",
          "model_module_version": "1.5.0",
          "model_name": "DescriptionStyleModel",
          "state": {
            "_model_module": "@jupyter-widgets/controls",
            "_model_module_version": "1.5.0",
            "_model_name": "DescriptionStyleModel",
            "_view_count": null,
            "_view_module": "@jupyter-widgets/base",
            "_view_module_version": "1.2.0",
            "_view_name": "StyleView",
            "description_width": ""
          }
        },
        "0f20ece1b416456dbe2240f977539255": {
          "model_module": "@jupyter-widgets/controls",
          "model_module_version": "1.5.0",
          "model_name": "HBoxModel",
          "state": {
            "_dom_classes": [],
            "_model_module": "@jupyter-widgets/controls",
            "_model_module_version": "1.5.0",
            "_model_name": "HBoxModel",
            "_view_count": null,
            "_view_module": "@jupyter-widgets/controls",
            "_view_module_version": "1.5.0",
            "_view_name": "HBoxView",
            "box_style": "",
            "children": [
              "IPY_MODEL_44d4cdf1ce9a4f78a4bc953b5cfd1f3c",
              "IPY_MODEL_dbcf66dd290d4faaa20313ff3a88e089",
              "IPY_MODEL_4fec4fc71ae5423ba63e27e7382028db"
            ],
            "layout": "IPY_MODEL_af870a450ab0432680a50041202c5a7a"
          }
        },
        "0f2375f6bbe54479a4dd4ffec60f3f82": {
          "model_module": "@jupyter-widgets/controls",
          "model_module_version": "1.5.0",
          "model_name": "FloatProgressModel",
          "state": {
            "_dom_classes": [],
            "_model_module": "@jupyter-widgets/controls",
            "_model_module_version": "1.5.0",
            "_model_name": "FloatProgressModel",
            "_view_count": null,
            "_view_module": "@jupyter-widgets/controls",
            "_view_module_version": "1.5.0",
            "_view_name": "ProgressView",
            "bar_style": "success",
            "description": "",
            "description_tooltip": null,
            "layout": "IPY_MODEL_e0fb366d1ec9491ebed5fcdff57e96d4",
            "max": 112,
            "min": 0,
            "orientation": "horizontal",
            "style": "IPY_MODEL_73f0a80d31da438cb141178a26f38fa9",
            "value": 112
          }
        },
        "125012222d9b4106bd5deef85d6ca9cf": {
          "model_module": "@jupyter-widgets/base",
          "model_module_version": "1.2.0",
          "model_name": "LayoutModel",
          "state": {
            "_model_module": "@jupyter-widgets/base",
            "_model_module_version": "1.2.0",
            "_model_name": "LayoutModel",
            "_view_count": null,
            "_view_module": "@jupyter-widgets/base",
            "_view_module_version": "1.2.0",
            "_view_name": "LayoutView",
            "align_content": null,
            "align_items": null,
            "align_self": null,
            "border": null,
            "bottom": null,
            "display": null,
            "flex": null,
            "flex_flow": null,
            "grid_area": null,
            "grid_auto_columns": null,
            "grid_auto_flow": null,
            "grid_auto_rows": null,
            "grid_column": null,
            "grid_gap": null,
            "grid_row": null,
            "grid_template_areas": null,
            "grid_template_columns": null,
            "grid_template_rows": null,
            "height": null,
            "justify_content": null,
            "justify_items": null,
            "left": null,
            "margin": null,
            "max_height": null,
            "max_width": null,
            "min_height": null,
            "min_width": null,
            "object_fit": null,
            "object_position": null,
            "order": null,
            "overflow": null,
            "overflow_x": null,
            "overflow_y": null,
            "padding": null,
            "right": null,
            "top": null,
            "visibility": null,
            "width": null
          }
        },
        "16a711179b3643a8ae40cf6621c5425a": {
          "model_module": "@jupyter-widgets/base",
          "model_module_version": "1.2.0",
          "model_name": "LayoutModel",
          "state": {
            "_model_module": "@jupyter-widgets/base",
            "_model_module_version": "1.2.0",
            "_model_name": "LayoutModel",
            "_view_count": null,
            "_view_module": "@jupyter-widgets/base",
            "_view_module_version": "1.2.0",
            "_view_name": "LayoutView",
            "align_content": null,
            "align_items": null,
            "align_self": null,
            "border": null,
            "bottom": null,
            "display": null,
            "flex": null,
            "flex_flow": null,
            "grid_area": null,
            "grid_auto_columns": null,
            "grid_auto_flow": null,
            "grid_auto_rows": null,
            "grid_column": null,
            "grid_gap": null,
            "grid_row": null,
            "grid_template_areas": null,
            "grid_template_columns": null,
            "grid_template_rows": null,
            "height": null,
            "justify_content": null,
            "justify_items": null,
            "left": null,
            "margin": null,
            "max_height": null,
            "max_width": null,
            "min_height": null,
            "min_width": null,
            "object_fit": null,
            "object_position": null,
            "order": null,
            "overflow": null,
            "overflow_x": null,
            "overflow_y": null,
            "padding": null,
            "right": null,
            "top": null,
            "visibility": null,
            "width": null
          }
        },
        "181fac6d6cbd4381acdbd48484dbe159": {
          "model_module": "@jupyter-widgets/controls",
          "model_module_version": "1.5.0",
          "model_name": "DescriptionStyleModel",
          "state": {
            "_model_module": "@jupyter-widgets/controls",
            "_model_module_version": "1.5.0",
            "_model_name": "DescriptionStyleModel",
            "_view_count": null,
            "_view_module": "@jupyter-widgets/base",
            "_view_module_version": "1.2.0",
            "_view_name": "StyleView",
            "description_width": ""
          }
        },
        "1eff02be9e53443c891876eb350b18a4": {
          "model_module": "@jupyter-widgets/controls",
          "model_module_version": "1.5.0",
          "model_name": "DescriptionStyleModel",
          "state": {
            "_model_module": "@jupyter-widgets/controls",
            "_model_module_version": "1.5.0",
            "_model_name": "DescriptionStyleModel",
            "_view_count": null,
            "_view_module": "@jupyter-widgets/base",
            "_view_module_version": "1.2.0",
            "_view_name": "StyleView",
            "description_width": ""
          }
        },
        "2617d93c4668470a9e6a82988b657ca0": {
          "model_module": "@jupyter-widgets/controls",
          "model_module_version": "1.5.0",
          "model_name": "HBoxModel",
          "state": {
            "_dom_classes": [],
            "_model_module": "@jupyter-widgets/controls",
            "_model_module_version": "1.5.0",
            "_model_name": "HBoxModel",
            "_view_count": null,
            "_view_module": "@jupyter-widgets/controls",
            "_view_module_version": "1.5.0",
            "_view_name": "HBoxView",
            "box_style": "",
            "children": [
              "IPY_MODEL_3288e1999bbd49f6a12daa8c12535326",
              "IPY_MODEL_7e5ea65b6d3247fe898836f542972a8b",
              "IPY_MODEL_c54ee5da456c4eeb821b81efa204c8fa"
            ],
            "layout": "IPY_MODEL_8864df53c01a4278b32016d4e28bf008"
          }
        },
        "2741c173cd0a48679dc0b405b7807f02": {
          "model_module": "@jupyter-widgets/base",
          "model_module_version": "1.2.0",
          "model_name": "LayoutModel",
          "state": {
            "_model_module": "@jupyter-widgets/base",
            "_model_module_version": "1.2.0",
            "_model_name": "LayoutModel",
            "_view_count": null,
            "_view_module": "@jupyter-widgets/base",
            "_view_module_version": "1.2.0",
            "_view_name": "LayoutView",
            "align_content": null,
            "align_items": null,
            "align_self": null,
            "border": null,
            "bottom": null,
            "display": null,
            "flex": null,
            "flex_flow": null,
            "grid_area": null,
            "grid_auto_columns": null,
            "grid_auto_flow": null,
            "grid_auto_rows": null,
            "grid_column": null,
            "grid_gap": null,
            "grid_row": null,
            "grid_template_areas": null,
            "grid_template_columns": null,
            "grid_template_rows": null,
            "height": null,
            "justify_content": null,
            "justify_items": null,
            "left": null,
            "margin": null,
            "max_height": null,
            "max_width": null,
            "min_height": null,
            "min_width": null,
            "object_fit": null,
            "object_position": null,
            "order": null,
            "overflow": null,
            "overflow_x": null,
            "overflow_y": null,
            "padding": null,
            "right": null,
            "top": null,
            "visibility": null,
            "width": null
          }
        },
        "28acd1040ada46c49444612fc7403fc4": {
          "model_module": "@jupyter-widgets/base",
          "model_module_version": "1.2.0",
          "model_name": "LayoutModel",
          "state": {
            "_model_module": "@jupyter-widgets/base",
            "_model_module_version": "1.2.0",
            "_model_name": "LayoutModel",
            "_view_count": null,
            "_view_module": "@jupyter-widgets/base",
            "_view_module_version": "1.2.0",
            "_view_name": "LayoutView",
            "align_content": null,
            "align_items": null,
            "align_self": null,
            "border": null,
            "bottom": null,
            "display": null,
            "flex": null,
            "flex_flow": null,
            "grid_area": null,
            "grid_auto_columns": null,
            "grid_auto_flow": null,
            "grid_auto_rows": null,
            "grid_column": null,
            "grid_gap": null,
            "grid_row": null,
            "grid_template_areas": null,
            "grid_template_columns": null,
            "grid_template_rows": null,
            "height": null,
            "justify_content": null,
            "justify_items": null,
            "left": null,
            "margin": null,
            "max_height": null,
            "max_width": null,
            "min_height": null,
            "min_width": null,
            "object_fit": null,
            "object_position": null,
            "order": null,
            "overflow": null,
            "overflow_x": null,
            "overflow_y": null,
            "padding": null,
            "right": null,
            "top": null,
            "visibility": null,
            "width": null
          }
        },
        "2a6f738044734d42afd8cf4cb6b10065": {
          "model_module": "@jupyter-widgets/controls",
          "model_module_version": "1.5.0",
          "model_name": "HBoxModel",
          "state": {
            "_dom_classes": [],
            "_model_module": "@jupyter-widgets/controls",
            "_model_module_version": "1.5.0",
            "_model_name": "HBoxModel",
            "_view_count": null,
            "_view_module": "@jupyter-widgets/controls",
            "_view_module_version": "1.5.0",
            "_view_name": "HBoxView",
            "box_style": "",
            "children": [
              "IPY_MODEL_07ca58a12bd142ce82047171637fdd24",
              "IPY_MODEL_7ec56db4262a4a979f01aaedd06401d5",
              "IPY_MODEL_8278323543b74fcfa8e28b2d793344b8"
            ],
            "layout": "IPY_MODEL_a88504650d8644298e9a4884867e4bf3"
          }
        },
        "2b50cac108a24624b6987899e4d76c81": {
          "model_module": "@jupyter-widgets/controls",
          "model_module_version": "1.5.0",
          "model_name": "DescriptionStyleModel",
          "state": {
            "_model_module": "@jupyter-widgets/controls",
            "_model_module_version": "1.5.0",
            "_model_name": "DescriptionStyleModel",
            "_view_count": null,
            "_view_module": "@jupyter-widgets/base",
            "_view_module_version": "1.2.0",
            "_view_name": "StyleView",
            "description_width": ""
          }
        },
        "3288e1999bbd49f6a12daa8c12535326": {
          "model_module": "@jupyter-widgets/controls",
          "model_module_version": "1.5.0",
          "model_name": "HTMLModel",
          "state": {
            "_dom_classes": [],
            "_model_module": "@jupyter-widgets/controls",
            "_model_module_version": "1.5.0",
            "_model_name": "HTMLModel",
            "_view_count": null,
            "_view_module": "@jupyter-widgets/controls",
            "_view_module_version": "1.5.0",
            "_view_name": "HTMLView",
            "description": "",
            "description_tooltip": null,
            "layout": "IPY_MODEL_372c9dae41ac4ed0aa5d17fbaa868094",
            "placeholder": "​",
            "style": "IPY_MODEL_0b79edb9812541e3aaacf748c1e28c1a",
            "value": "vocab.txt: 100%"
          }
        },
        "372c9dae41ac4ed0aa5d17fbaa868094": {
          "model_module": "@jupyter-widgets/base",
          "model_module_version": "1.2.0",
          "model_name": "LayoutModel",
          "state": {
            "_model_module": "@jupyter-widgets/base",
            "_model_module_version": "1.2.0",
            "_model_name": "LayoutModel",
            "_view_count": null,
            "_view_module": "@jupyter-widgets/base",
            "_view_module_version": "1.2.0",
            "_view_name": "LayoutView",
            "align_content": null,
            "align_items": null,
            "align_self": null,
            "border": null,
            "bottom": null,
            "display": null,
            "flex": null,
            "flex_flow": null,
            "grid_area": null,
            "grid_auto_columns": null,
            "grid_auto_flow": null,
            "grid_auto_rows": null,
            "grid_column": null,
            "grid_gap": null,
            "grid_row": null,
            "grid_template_areas": null,
            "grid_template_columns": null,
            "grid_template_rows": null,
            "height": null,
            "justify_content": null,
            "justify_items": null,
            "left": null,
            "margin": null,
            "max_height": null,
            "max_width": null,
            "min_height": null,
            "min_width": null,
            "object_fit": null,
            "object_position": null,
            "order": null,
            "overflow": null,
            "overflow_x": null,
            "overflow_y": null,
            "padding": null,
            "right": null,
            "top": null,
            "visibility": null,
            "width": null
          }
        },
        "3c5e2ecf23d54ea8936d2de1c0560296": {
          "model_module": "@jupyter-widgets/base",
          "model_module_version": "1.2.0",
          "model_name": "LayoutModel",
          "state": {
            "_model_module": "@jupyter-widgets/base",
            "_model_module_version": "1.2.0",
            "_model_name": "LayoutModel",
            "_view_count": null,
            "_view_module": "@jupyter-widgets/base",
            "_view_module_version": "1.2.0",
            "_view_name": "LayoutView",
            "align_content": null,
            "align_items": null,
            "align_self": null,
            "border": null,
            "bottom": null,
            "display": null,
            "flex": null,
            "flex_flow": null,
            "grid_area": null,
            "grid_auto_columns": null,
            "grid_auto_flow": null,
            "grid_auto_rows": null,
            "grid_column": null,
            "grid_gap": null,
            "grid_row": null,
            "grid_template_areas": null,
            "grid_template_columns": null,
            "grid_template_rows": null,
            "height": null,
            "justify_content": null,
            "justify_items": null,
            "left": null,
            "margin": null,
            "max_height": null,
            "max_width": null,
            "min_height": null,
            "min_width": null,
            "object_fit": null,
            "object_position": null,
            "order": null,
            "overflow": null,
            "overflow_x": null,
            "overflow_y": null,
            "padding": null,
            "right": null,
            "top": null,
            "visibility": null,
            "width": null
          }
        },
        "44d4cdf1ce9a4f78a4bc953b5cfd1f3c": {
          "model_module": "@jupyter-widgets/controls",
          "model_module_version": "1.5.0",
          "model_name": "HTMLModel",
          "state": {
            "_dom_classes": [],
            "_model_module": "@jupyter-widgets/controls",
            "_model_module_version": "1.5.0",
            "_model_name": "HTMLModel",
            "_view_count": null,
            "_view_module": "@jupyter-widgets/controls",
            "_view_module_version": "1.5.0",
            "_view_name": "HTMLView",
            "description": "",
            "description_tooltip": null,
            "layout": "IPY_MODEL_3c5e2ecf23d54ea8936d2de1c0560296",
            "placeholder": "​",
            "style": "IPY_MODEL_e15c4700d66d417a8f665ddd2af34907",
            "value": "model.safetensors: 100%"
          }
        },
        "4d9f412065834b3b959c421e3e319baf": {
          "model_module": "@jupyter-widgets/controls",
          "model_module_version": "1.5.0",
          "model_name": "HTMLModel",
          "state": {
            "_dom_classes": [],
            "_model_module": "@jupyter-widgets/controls",
            "_model_module_version": "1.5.0",
            "_model_name": "HTMLModel",
            "_view_count": null,
            "_view_module": "@jupyter-widgets/controls",
            "_view_module_version": "1.5.0",
            "_view_name": "HTMLView",
            "description": "",
            "description_tooltip": null,
            "layout": "IPY_MODEL_6ac2172de6044f13ab1d3e7ddacc0ca4",
            "placeholder": "​",
            "style": "IPY_MODEL_e9223c7d893e4158890cb2e36fd6d5dd",
            "value": "config.json: 100%"
          }
        },
        "4fec4fc71ae5423ba63e27e7382028db": {
          "model_module": "@jupyter-widgets/controls",
          "model_module_version": "1.5.0",
          "model_name": "HTMLModel",
          "state": {
            "_dom_classes": [],
            "_model_module": "@jupyter-widgets/controls",
            "_model_module_version": "1.5.0",
            "_model_name": "HTMLModel",
            "_view_count": null,
            "_view_module": "@jupyter-widgets/controls",
            "_view_module_version": "1.5.0",
            "_view_name": "HTMLView",
            "description": "",
            "description_tooltip": null,
            "layout": "IPY_MODEL_e7325254f27847fa9b2b03bb8690953b",
            "placeholder": "​",
            "style": "IPY_MODEL_6f60540813cf4578b8ebd68184824b34",
            "value": " 438M/438M [00:05&lt;00:00, 118MB/s]"
          }
        },
        "5d0bfff982ab4591bfb6161da90b9648": {
          "model_module": "@jupyter-widgets/controls",
          "model_module_version": "1.5.0",
          "model_name": "DescriptionStyleModel",
          "state": {
            "_model_module": "@jupyter-widgets/controls",
            "_model_module_version": "1.5.0",
            "_model_name": "DescriptionStyleModel",
            "_view_count": null,
            "_view_module": "@jupyter-widgets/base",
            "_view_module_version": "1.2.0",
            "_view_name": "StyleView",
            "description_width": ""
          }
        },
        "5ef045ff32e64e85a33acbe1218c0f58": {
          "model_module": "@jupyter-widgets/base",
          "model_module_version": "1.2.0",
          "model_name": "LayoutModel",
          "state": {
            "_model_module": "@jupyter-widgets/base",
            "_model_module_version": "1.2.0",
            "_model_name": "LayoutModel",
            "_view_count": null,
            "_view_module": "@jupyter-widgets/base",
            "_view_module_version": "1.2.0",
            "_view_name": "LayoutView",
            "align_content": null,
            "align_items": null,
            "align_self": null,
            "border": null,
            "bottom": null,
            "display": null,
            "flex": null,
            "flex_flow": null,
            "grid_area": null,
            "grid_auto_columns": null,
            "grid_auto_flow": null,
            "grid_auto_rows": null,
            "grid_column": null,
            "grid_gap": null,
            "grid_row": null,
            "grid_template_areas": null,
            "grid_template_columns": null,
            "grid_template_rows": null,
            "height": null,
            "justify_content": null,
            "justify_items": null,
            "left": null,
            "margin": null,
            "max_height": null,
            "max_width": null,
            "min_height": null,
            "min_width": null,
            "object_fit": null,
            "object_position": null,
            "order": null,
            "overflow": null,
            "overflow_x": null,
            "overflow_y": null,
            "padding": null,
            "right": null,
            "top": null,
            "visibility": null,
            "width": null
          }
        },
        "62e269ca8aec41a1a5e0dc42e3d89502": {
          "model_module": "@jupyter-widgets/controls",
          "model_module_version": "1.5.0",
          "model_name": "HTMLModel",
          "state": {
            "_dom_classes": [],
            "_model_module": "@jupyter-widgets/controls",
            "_model_module_version": "1.5.0",
            "_model_name": "HTMLModel",
            "_view_count": null,
            "_view_module": "@jupyter-widgets/controls",
            "_view_module_version": "1.5.0",
            "_view_name": "HTMLView",
            "description": "",
            "description_tooltip": null,
            "layout": "IPY_MODEL_cf3b10695611457a94c33f081dad7e5f",
            "placeholder": "​",
            "style": "IPY_MODEL_1eff02be9e53443c891876eb350b18a4",
            "value": " 758/758 [00:00&lt;00:00, 91.1kB/s]"
          }
        },
        "64fc6bcbe9024fb0a84db79fbe8a7b2f": {
          "model_module": "@jupyter-widgets/controls",
          "model_module_version": "1.5.0",
          "model_name": "HTMLModel",
          "state": {
            "_dom_classes": [],
            "_model_module": "@jupyter-widgets/controls",
            "_model_module_version": "1.5.0",
            "_model_name": "HTMLModel",
            "_view_count": null,
            "_view_module": "@jupyter-widgets/controls",
            "_view_module_version": "1.5.0",
            "_view_name": "HTMLView",
            "description": "",
            "description_tooltip": null,
            "layout": "IPY_MODEL_0033d39afeda4671bb87db77b3e8b6e2",
            "placeholder": "​",
            "style": "IPY_MODEL_5d0bfff982ab4591bfb6161da90b9648",
            "value": " 112/112 [00:00&lt;00:00, 4.56kB/s]"
          }
        },
        "671b17282c574c40a8479847331597d8": {
          "model_module": "@jupyter-widgets/base",
          "model_module_version": "1.2.0",
          "model_name": "LayoutModel",
          "state": {
            "_model_module": "@jupyter-widgets/base",
            "_model_module_version": "1.2.0",
            "_model_name": "LayoutModel",
            "_view_count": null,
            "_view_module": "@jupyter-widgets/base",
            "_view_module_version": "1.2.0",
            "_view_name": "LayoutView",
            "align_content": null,
            "align_items": null,
            "align_self": null,
            "border": null,
            "bottom": null,
            "display": null,
            "flex": null,
            "flex_flow": null,
            "grid_area": null,
            "grid_auto_columns": null,
            "grid_auto_flow": null,
            "grid_auto_rows": null,
            "grid_column": null,
            "grid_gap": null,
            "grid_row": null,
            "grid_template_areas": null,
            "grid_template_columns": null,
            "grid_template_rows": null,
            "height": null,
            "justify_content": null,
            "justify_items": null,
            "left": null,
            "margin": null,
            "max_height": null,
            "max_width": null,
            "min_height": null,
            "min_width": null,
            "object_fit": null,
            "object_position": null,
            "order": null,
            "overflow": null,
            "overflow_x": null,
            "overflow_y": null,
            "padding": null,
            "right": null,
            "top": null,
            "visibility": null,
            "width": null
          }
        },
        "6ac2172de6044f13ab1d3e7ddacc0ca4": {
          "model_module": "@jupyter-widgets/base",
          "model_module_version": "1.2.0",
          "model_name": "LayoutModel",
          "state": {
            "_model_module": "@jupyter-widgets/base",
            "_model_module_version": "1.2.0",
            "_model_name": "LayoutModel",
            "_view_count": null,
            "_view_module": "@jupyter-widgets/base",
            "_view_module_version": "1.2.0",
            "_view_name": "LayoutView",
            "align_content": null,
            "align_items": null,
            "align_self": null,
            "border": null,
            "bottom": null,
            "display": null,
            "flex": null,
            "flex_flow": null,
            "grid_area": null,
            "grid_auto_columns": null,
            "grid_auto_flow": null,
            "grid_auto_rows": null,
            "grid_column": null,
            "grid_gap": null,
            "grid_row": null,
            "grid_template_areas": null,
            "grid_template_columns": null,
            "grid_template_rows": null,
            "height": null,
            "justify_content": null,
            "justify_items": null,
            "left": null,
            "margin": null,
            "max_height": null,
            "max_width": null,
            "min_height": null,
            "min_width": null,
            "object_fit": null,
            "object_position": null,
            "order": null,
            "overflow": null,
            "overflow_x": null,
            "overflow_y": null,
            "padding": null,
            "right": null,
            "top": null,
            "visibility": null,
            "width": null
          }
        },
        "6b82d215e54644d2b088e80849e30af0": {
          "model_module": "@jupyter-widgets/controls",
          "model_module_version": "1.5.0",
          "model_name": "HTMLModel",
          "state": {
            "_dom_classes": [],
            "_model_module": "@jupyter-widgets/controls",
            "_model_module_version": "1.5.0",
            "_model_name": "HTMLModel",
            "_view_count": null,
            "_view_module": "@jupyter-widgets/controls",
            "_view_module_version": "1.5.0",
            "_view_name": "HTMLView",
            "description": "",
            "description_tooltip": null,
            "layout": "IPY_MODEL_671b17282c574c40a8479847331597d8",
            "placeholder": "​",
            "style": "IPY_MODEL_bed5f41e66c04475a6e660e1127fab81",
            "value": " 252/252 [00:00&lt;00:00, 19.3kB/s]"
          }
        },
        "6f60540813cf4578b8ebd68184824b34": {
          "model_module": "@jupyter-widgets/controls",
          "model_module_version": "1.5.0",
          "model_name": "DescriptionStyleModel",
          "state": {
            "_model_module": "@jupyter-widgets/controls",
            "_model_module_version": "1.5.0",
            "_model_name": "DescriptionStyleModel",
            "_view_count": null,
            "_view_module": "@jupyter-widgets/base",
            "_view_module_version": "1.2.0",
            "_view_name": "StyleView",
            "description_width": ""
          }
        },
        "73f0a80d31da438cb141178a26f38fa9": {
          "model_module": "@jupyter-widgets/controls",
          "model_module_version": "1.5.0",
          "model_name": "ProgressStyleModel",
          "state": {
            "_model_module": "@jupyter-widgets/controls",
            "_model_module_version": "1.5.0",
            "_model_name": "ProgressStyleModel",
            "_view_count": null,
            "_view_module": "@jupyter-widgets/base",
            "_view_module_version": "1.2.0",
            "_view_name": "StyleView",
            "bar_color": null,
            "description_width": ""
          }
        },
        "7496803252924161ba4070aabd746bcd": {
          "model_module": "@jupyter-widgets/controls",
          "model_module_version": "1.5.0",
          "model_name": "FloatProgressModel",
          "state": {
            "_dom_classes": [],
            "_model_module": "@jupyter-widgets/controls",
            "_model_module_version": "1.5.0",
            "_model_name": "FloatProgressModel",
            "_view_count": null,
            "_view_module": "@jupyter-widgets/controls",
            "_view_module_version": "1.5.0",
            "_view_name": "ProgressView",
            "bar_style": "success",
            "description": "",
            "description_tooltip": null,
            "layout": "IPY_MODEL_28acd1040ada46c49444612fc7403fc4",
            "max": 252,
            "min": 0,
            "orientation": "horizontal",
            "style": "IPY_MODEL_84b39f38d2d44975a1e96d310e4095f6",
            "value": 252
          }
        },
        "76c676b156c24433ae1e624806821b4c": {
          "model_module": "@jupyter-widgets/controls",
          "model_module_version": "1.5.0",
          "model_name": "ProgressStyleModel",
          "state": {
            "_model_module": "@jupyter-widgets/controls",
            "_model_module_version": "1.5.0",
            "_model_name": "ProgressStyleModel",
            "_view_count": null,
            "_view_module": "@jupyter-widgets/base",
            "_view_module_version": "1.2.0",
            "_view_name": "StyleView",
            "bar_color": null,
            "description_width": ""
          }
        },
        "7c55fea7189243259cf59d4999ce04ba": {
          "model_module": "@jupyter-widgets/base",
          "model_module_version": "1.2.0",
          "model_name": "LayoutModel",
          "state": {
            "_model_module": "@jupyter-widgets/base",
            "_model_module_version": "1.2.0",
            "_model_name": "LayoutModel",
            "_view_count": null,
            "_view_module": "@jupyter-widgets/base",
            "_view_module_version": "1.2.0",
            "_view_name": "LayoutView",
            "align_content": null,
            "align_items": null,
            "align_self": null,
            "border": null,
            "bottom": null,
            "display": null,
            "flex": null,
            "flex_flow": null,
            "grid_area": null,
            "grid_auto_columns": null,
            "grid_auto_flow": null,
            "grid_auto_rows": null,
            "grid_column": null,
            "grid_gap": null,
            "grid_row": null,
            "grid_template_areas": null,
            "grid_template_columns": null,
            "grid_template_rows": null,
            "height": null,
            "justify_content": null,
            "justify_items": null,
            "left": null,
            "margin": null,
            "max_height": null,
            "max_width": null,
            "min_height": null,
            "min_width": null,
            "object_fit": null,
            "object_position": null,
            "order": null,
            "overflow": null,
            "overflow_x": null,
            "overflow_y": null,
            "padding": null,
            "right": null,
            "top": null,
            "visibility": null,
            "width": null
          }
        },
        "7e5ea65b6d3247fe898836f542972a8b": {
          "model_module": "@jupyter-widgets/controls",
          "model_module_version": "1.5.0",
          "model_name": "FloatProgressModel",
          "state": {
            "_dom_classes": [],
            "_model_module": "@jupyter-widgets/controls",
            "_model_module_version": "1.5.0",
            "_model_name": "FloatProgressModel",
            "_view_count": null,
            "_view_module": "@jupyter-widgets/controls",
            "_view_module_version": "1.5.0",
            "_view_name": "ProgressView",
            "bar_style": "success",
            "description": "",
            "description_tooltip": null,
            "layout": "IPY_MODEL_c3a0d9ba91064642856f02081cc02997",
            "max": 231508,
            "min": 0,
            "orientation": "horizontal",
            "style": "IPY_MODEL_055a5e7b8e654fbcb897a6912e3fbf57",
            "value": 231508
          }
        },
        "7ec56db4262a4a979f01aaedd06401d5": {
          "model_module": "@jupyter-widgets/controls",
          "model_module_version": "1.5.0",
          "model_name": "FloatProgressModel",
          "state": {
            "_dom_classes": [],
            "_model_module": "@jupyter-widgets/controls",
            "_model_module_version": "1.5.0",
            "_model_name": "FloatProgressModel",
            "_view_count": null,
            "_view_module": "@jupyter-widgets/controls",
            "_view_module_version": "1.5.0",
            "_view_name": "ProgressView",
            "bar_style": "success",
            "description": "",
            "description_tooltip": null,
            "layout": "IPY_MODEL_2741c173cd0a48679dc0b405b7807f02",
            "max": 437992753,
            "min": 0,
            "orientation": "horizontal",
            "style": "IPY_MODEL_ea35eecffd354349ab2b2f50893494c3",
            "value": 437992753
          }
        },
        "8278323543b74fcfa8e28b2d793344b8": {
          "model_module": "@jupyter-widgets/controls",
          "model_module_version": "1.5.0",
          "model_name": "HTMLModel",
          "state": {
            "_dom_classes": [],
            "_model_module": "@jupyter-widgets/controls",
            "_model_module_version": "1.5.0",
            "_model_name": "HTMLModel",
            "_view_count": null,
            "_view_module": "@jupyter-widgets/controls",
            "_view_module_version": "1.5.0",
            "_view_name": "HTMLView",
            "description": "",
            "description_tooltip": null,
            "layout": "IPY_MODEL_0172e5f129204730a911c9e984786bc7",
            "placeholder": "​",
            "style": "IPY_MODEL_e9a1f94f78894adcb82bac20cff440f8",
            "value": " 438M/438M [00:06&lt;00:00, 82.2MB/s]"
          }
        },
        "84b39f38d2d44975a1e96d310e4095f6": {
          "model_module": "@jupyter-widgets/controls",
          "model_module_version": "1.5.0",
          "model_name": "ProgressStyleModel",
          "state": {
            "_model_module": "@jupyter-widgets/controls",
            "_model_module_version": "1.5.0",
            "_model_name": "ProgressStyleModel",
            "_view_count": null,
            "_view_module": "@jupyter-widgets/base",
            "_view_module_version": "1.2.0",
            "_view_name": "StyleView",
            "bar_color": null,
            "description_width": ""
          }
        },
        "86d0968cbd6844bf8865a013ca349038": {
          "model_module": "@jupyter-widgets/controls",
          "model_module_version": "1.5.0",
          "model_name": "HTMLModel",
          "state": {
            "_dom_classes": [],
            "_model_module": "@jupyter-widgets/controls",
            "_model_module_version": "1.5.0",
            "_model_name": "HTMLModel",
            "_view_count": null,
            "_view_module": "@jupyter-widgets/controls",
            "_view_module_version": "1.5.0",
            "_view_name": "HTMLView",
            "description": "",
            "description_tooltip": null,
            "layout": "IPY_MODEL_5ef045ff32e64e85a33acbe1218c0f58",
            "placeholder": "​",
            "style": "IPY_MODEL_b12ed58553ae41a5a4b012c3ee2873e4",
            "value": "special_tokens_map.json: 100%"
          }
        },
        "8864df53c01a4278b32016d4e28bf008": {
          "model_module": "@jupyter-widgets/base",
          "model_module_version": "1.2.0",
          "model_name": "LayoutModel",
          "state": {
            "_model_module": "@jupyter-widgets/base",
            "_model_module_version": "1.2.0",
            "_model_name": "LayoutModel",
            "_view_count": null,
            "_view_module": "@jupyter-widgets/base",
            "_view_module_version": "1.2.0",
            "_view_name": "LayoutView",
            "align_content": null,
            "align_items": null,
            "align_self": null,
            "border": null,
            "bottom": null,
            "display": null,
            "flex": null,
            "flex_flow": null,
            "grid_area": null,
            "grid_auto_columns": null,
            "grid_auto_flow": null,
            "grid_auto_rows": null,
            "grid_column": null,
            "grid_gap": null,
            "grid_row": null,
            "grid_template_areas": null,
            "grid_template_columns": null,
            "grid_template_rows": null,
            "height": null,
            "justify_content": null,
            "justify_items": null,
            "left": null,
            "margin": null,
            "max_height": null,
            "max_width": null,
            "min_height": null,
            "min_width": null,
            "object_fit": null,
            "object_position": null,
            "order": null,
            "overflow": null,
            "overflow_x": null,
            "overflow_y": null,
            "padding": null,
            "right": null,
            "top": null,
            "visibility": null,
            "width": null
          }
        },
        "9a08bc76d3484ac29f749d28503bdc15": {
          "model_module": "@jupyter-widgets/controls",
          "model_module_version": "1.5.0",
          "model_name": "DescriptionStyleModel",
          "state": {
            "_model_module": "@jupyter-widgets/controls",
            "_model_module_version": "1.5.0",
            "_model_name": "DescriptionStyleModel",
            "_view_count": null,
            "_view_module": "@jupyter-widgets/base",
            "_view_module_version": "1.2.0",
            "_view_name": "StyleView",
            "description_width": ""
          }
        },
        "9db37e3a632b483fa62af01ad5b97831": {
          "model_module": "@jupyter-widgets/base",
          "model_module_version": "1.2.0",
          "model_name": "LayoutModel",
          "state": {
            "_model_module": "@jupyter-widgets/base",
            "_model_module_version": "1.2.0",
            "_model_name": "LayoutModel",
            "_view_count": null,
            "_view_module": "@jupyter-widgets/base",
            "_view_module_version": "1.2.0",
            "_view_name": "LayoutView",
            "align_content": null,
            "align_items": null,
            "align_self": null,
            "border": null,
            "bottom": null,
            "display": null,
            "flex": null,
            "flex_flow": null,
            "grid_area": null,
            "grid_auto_columns": null,
            "grid_auto_flow": null,
            "grid_auto_rows": null,
            "grid_column": null,
            "grid_gap": null,
            "grid_row": null,
            "grid_template_areas": null,
            "grid_template_columns": null,
            "grid_template_rows": null,
            "height": null,
            "justify_content": null,
            "justify_items": null,
            "left": null,
            "margin": null,
            "max_height": null,
            "max_width": null,
            "min_height": null,
            "min_width": null,
            "object_fit": null,
            "object_position": null,
            "order": null,
            "overflow": null,
            "overflow_x": null,
            "overflow_y": null,
            "padding": null,
            "right": null,
            "top": null,
            "visibility": null,
            "width": null
          }
        },
        "a1ca477ac6a84ed59cf6f8c6fd229114": {
          "model_module": "@jupyter-widgets/base",
          "model_module_version": "1.2.0",
          "model_name": "LayoutModel",
          "state": {
            "_model_module": "@jupyter-widgets/base",
            "_model_module_version": "1.2.0",
            "_model_name": "LayoutModel",
            "_view_count": null,
            "_view_module": "@jupyter-widgets/base",
            "_view_module_version": "1.2.0",
            "_view_name": "LayoutView",
            "align_content": null,
            "align_items": null,
            "align_self": null,
            "border": null,
            "bottom": null,
            "display": null,
            "flex": null,
            "flex_flow": null,
            "grid_area": null,
            "grid_auto_columns": null,
            "grid_auto_flow": null,
            "grid_auto_rows": null,
            "grid_column": null,
            "grid_gap": null,
            "grid_row": null,
            "grid_template_areas": null,
            "grid_template_columns": null,
            "grid_template_rows": null,
            "height": null,
            "justify_content": null,
            "justify_items": null,
            "left": null,
            "margin": null,
            "max_height": null,
            "max_width": null,
            "min_height": null,
            "min_width": null,
            "object_fit": null,
            "object_position": null,
            "order": null,
            "overflow": null,
            "overflow_x": null,
            "overflow_y": null,
            "padding": null,
            "right": null,
            "top": null,
            "visibility": null,
            "width": null
          }
        },
        "a88504650d8644298e9a4884867e4bf3": {
          "model_module": "@jupyter-widgets/base",
          "model_module_version": "1.2.0",
          "model_name": "LayoutModel",
          "state": {
            "_model_module": "@jupyter-widgets/base",
            "_model_module_version": "1.2.0",
            "_model_name": "LayoutModel",
            "_view_count": null,
            "_view_module": "@jupyter-widgets/base",
            "_view_module_version": "1.2.0",
            "_view_name": "LayoutView",
            "align_content": null,
            "align_items": null,
            "align_self": null,
            "border": null,
            "bottom": null,
            "display": null,
            "flex": null,
            "flex_flow": null,
            "grid_area": null,
            "grid_auto_columns": null,
            "grid_auto_flow": null,
            "grid_auto_rows": null,
            "grid_column": null,
            "grid_gap": null,
            "grid_row": null,
            "grid_template_areas": null,
            "grid_template_columns": null,
            "grid_template_rows": null,
            "height": null,
            "justify_content": null,
            "justify_items": null,
            "left": null,
            "margin": null,
            "max_height": null,
            "max_width": null,
            "min_height": null,
            "min_width": null,
            "object_fit": null,
            "object_position": null,
            "order": null,
            "overflow": null,
            "overflow_x": null,
            "overflow_y": null,
            "padding": null,
            "right": null,
            "top": null,
            "visibility": null,
            "width": null
          }
        },
        "af870a450ab0432680a50041202c5a7a": {
          "model_module": "@jupyter-widgets/base",
          "model_module_version": "1.2.0",
          "model_name": "LayoutModel",
          "state": {
            "_model_module": "@jupyter-widgets/base",
            "_model_module_version": "1.2.0",
            "_model_name": "LayoutModel",
            "_view_count": null,
            "_view_module": "@jupyter-widgets/base",
            "_view_module_version": "1.2.0",
            "_view_name": "LayoutView",
            "align_content": null,
            "align_items": null,
            "align_self": null,
            "border": null,
            "bottom": null,
            "display": null,
            "flex": null,
            "flex_flow": null,
            "grid_area": null,
            "grid_auto_columns": null,
            "grid_auto_flow": null,
            "grid_auto_rows": null,
            "grid_column": null,
            "grid_gap": null,
            "grid_row": null,
            "grid_template_areas": null,
            "grid_template_columns": null,
            "grid_template_rows": null,
            "height": null,
            "justify_content": null,
            "justify_items": null,
            "left": null,
            "margin": null,
            "max_height": null,
            "max_width": null,
            "min_height": null,
            "min_width": null,
            "object_fit": null,
            "object_position": null,
            "order": null,
            "overflow": null,
            "overflow_x": null,
            "overflow_y": null,
            "padding": null,
            "right": null,
            "top": null,
            "visibility": null,
            "width": null
          }
        },
        "b12ed58553ae41a5a4b012c3ee2873e4": {
          "model_module": "@jupyter-widgets/controls",
          "model_module_version": "1.5.0",
          "model_name": "DescriptionStyleModel",
          "state": {
            "_model_module": "@jupyter-widgets/controls",
            "_model_module_version": "1.5.0",
            "_model_name": "DescriptionStyleModel",
            "_view_count": null,
            "_view_module": "@jupyter-widgets/base",
            "_view_module_version": "1.2.0",
            "_view_name": "StyleView",
            "description_width": ""
          }
        },
        "b3368e81b2904f3b9733999ab3be2d0e": {
          "model_module": "@jupyter-widgets/controls",
          "model_module_version": "1.5.0",
          "model_name": "HBoxModel",
          "state": {
            "_dom_classes": [],
            "_model_module": "@jupyter-widgets/controls",
            "_model_module_version": "1.5.0",
            "_model_name": "HBoxModel",
            "_view_count": null,
            "_view_module": "@jupyter-widgets/controls",
            "_view_module_version": "1.5.0",
            "_view_name": "HBoxView",
            "box_style": "",
            "children": [
              "IPY_MODEL_e73adb0d4503414cbbf7db8e055c66b3",
              "IPY_MODEL_7496803252924161ba4070aabd746bcd",
              "IPY_MODEL_6b82d215e54644d2b088e80849e30af0"
            ],
            "layout": "IPY_MODEL_e9fd67be76f543298eed215ded6c9265"
          }
        },
        "b412bc29d95641c7bc05c1a91cd0d572": {
          "model_module": "@jupyter-widgets/base",
          "model_module_version": "1.2.0",
          "model_name": "LayoutModel",
          "state": {
            "_model_module": "@jupyter-widgets/base",
            "_model_module_version": "1.2.0",
            "_model_name": "LayoutModel",
            "_view_count": null,
            "_view_module": "@jupyter-widgets/base",
            "_view_module_version": "1.2.0",
            "_view_name": "LayoutView",
            "align_content": null,
            "align_items": null,
            "align_self": null,
            "border": null,
            "bottom": null,
            "display": null,
            "flex": null,
            "flex_flow": null,
            "grid_area": null,
            "grid_auto_columns": null,
            "grid_auto_flow": null,
            "grid_auto_rows": null,
            "grid_column": null,
            "grid_gap": null,
            "grid_row": null,
            "grid_template_areas": null,
            "grid_template_columns": null,
            "grid_template_rows": null,
            "height": null,
            "justify_content": null,
            "justify_items": null,
            "left": null,
            "margin": null,
            "max_height": null,
            "max_width": null,
            "min_height": null,
            "min_width": null,
            "object_fit": null,
            "object_position": null,
            "order": null,
            "overflow": null,
            "overflow_x": null,
            "overflow_y": null,
            "padding": null,
            "right": null,
            "top": null,
            "visibility": null,
            "width": null
          }
        },
        "bed5f41e66c04475a6e660e1127fab81": {
          "model_module": "@jupyter-widgets/controls",
          "model_module_version": "1.5.0",
          "model_name": "DescriptionStyleModel",
          "state": {
            "_model_module": "@jupyter-widgets/controls",
            "_model_module_version": "1.5.0",
            "_model_name": "DescriptionStyleModel",
            "_view_count": null,
            "_view_module": "@jupyter-widgets/base",
            "_view_module_version": "1.2.0",
            "_view_name": "StyleView",
            "description_width": ""
          }
        },
        "c3a0d9ba91064642856f02081cc02997": {
          "model_module": "@jupyter-widgets/base",
          "model_module_version": "1.2.0",
          "model_name": "LayoutModel",
          "state": {
            "_model_module": "@jupyter-widgets/base",
            "_model_module_version": "1.2.0",
            "_model_name": "LayoutModel",
            "_view_count": null,
            "_view_module": "@jupyter-widgets/base",
            "_view_module_version": "1.2.0",
            "_view_name": "LayoutView",
            "align_content": null,
            "align_items": null,
            "align_self": null,
            "border": null,
            "bottom": null,
            "display": null,
            "flex": null,
            "flex_flow": null,
            "grid_area": null,
            "grid_auto_columns": null,
            "grid_auto_flow": null,
            "grid_auto_rows": null,
            "grid_column": null,
            "grid_gap": null,
            "grid_row": null,
            "grid_template_areas": null,
            "grid_template_columns": null,
            "grid_template_rows": null,
            "height": null,
            "justify_content": null,
            "justify_items": null,
            "left": null,
            "margin": null,
            "max_height": null,
            "max_width": null,
            "min_height": null,
            "min_width": null,
            "object_fit": null,
            "object_position": null,
            "order": null,
            "overflow": null,
            "overflow_x": null,
            "overflow_y": null,
            "padding": null,
            "right": null,
            "top": null,
            "visibility": null,
            "width": null
          }
        },
        "c54ee5da456c4eeb821b81efa204c8fa": {
          "model_module": "@jupyter-widgets/controls",
          "model_module_version": "1.5.0",
          "model_name": "HTMLModel",
          "state": {
            "_dom_classes": [],
            "_model_module": "@jupyter-widgets/controls",
            "_model_module_version": "1.5.0",
            "_model_name": "HTMLModel",
            "_view_count": null,
            "_view_module": "@jupyter-widgets/controls",
            "_view_module_version": "1.5.0",
            "_view_name": "HTMLView",
            "description": "",
            "description_tooltip": null,
            "layout": "IPY_MODEL_9db37e3a632b483fa62af01ad5b97831",
            "placeholder": "​",
            "style": "IPY_MODEL_2b50cac108a24624b6987899e4d76c81",
            "value": " 232k/232k [00:00&lt;00:00, 3.60MB/s]"
          }
        },
        "cf3b10695611457a94c33f081dad7e5f": {
          "model_module": "@jupyter-widgets/base",
          "model_module_version": "1.2.0",
          "model_name": "LayoutModel",
          "state": {
            "_model_module": "@jupyter-widgets/base",
            "_model_module_version": "1.2.0",
            "_model_name": "LayoutModel",
            "_view_count": null,
            "_view_module": "@jupyter-widgets/base",
            "_view_module_version": "1.2.0",
            "_view_name": "LayoutView",
            "align_content": null,
            "align_items": null,
            "align_self": null,
            "border": null,
            "bottom": null,
            "display": null,
            "flex": null,
            "flex_flow": null,
            "grid_area": null,
            "grid_auto_columns": null,
            "grid_auto_flow": null,
            "grid_auto_rows": null,
            "grid_column": null,
            "grid_gap": null,
            "grid_row": null,
            "grid_template_areas": null,
            "grid_template_columns": null,
            "grid_template_rows": null,
            "height": null,
            "justify_content": null,
            "justify_items": null,
            "left": null,
            "margin": null,
            "max_height": null,
            "max_width": null,
            "min_height": null,
            "min_width": null,
            "object_fit": null,
            "object_position": null,
            "order": null,
            "overflow": null,
            "overflow_x": null,
            "overflow_y": null,
            "padding": null,
            "right": null,
            "top": null,
            "visibility": null,
            "width": null
          }
        },
        "d48f56d4d5b548388de6dbf548b8d796": {
          "model_module": "@jupyter-widgets/controls",
          "model_module_version": "1.5.0",
          "model_name": "HBoxModel",
          "state": {
            "_dom_classes": [],
            "_model_module": "@jupyter-widgets/controls",
            "_model_module_version": "1.5.0",
            "_model_name": "HBoxModel",
            "_view_count": null,
            "_view_module": "@jupyter-widgets/controls",
            "_view_module_version": "1.5.0",
            "_view_name": "HBoxView",
            "box_style": "",
            "children": [
              "IPY_MODEL_4d9f412065834b3b959c421e3e319baf",
              "IPY_MODEL_ee214f305c6e45c3b4863f8a443c78f9",
              "IPY_MODEL_62e269ca8aec41a1a5e0dc42e3d89502"
            ],
            "layout": "IPY_MODEL_125012222d9b4106bd5deef85d6ca9cf"
          }
        },
        "d7f3eff90c2b4cc5bb3403649b13df68": {
          "model_module": "@jupyter-widgets/controls",
          "model_module_version": "1.5.0",
          "model_name": "HBoxModel",
          "state": {
            "_dom_classes": [],
            "_model_module": "@jupyter-widgets/controls",
            "_model_module_version": "1.5.0",
            "_model_name": "HBoxModel",
            "_view_count": null,
            "_view_module": "@jupyter-widgets/controls",
            "_view_module_version": "1.5.0",
            "_view_name": "HBoxView",
            "box_style": "",
            "children": [
              "IPY_MODEL_86d0968cbd6844bf8865a013ca349038",
              "IPY_MODEL_0f2375f6bbe54479a4dd4ffec60f3f82",
              "IPY_MODEL_64fc6bcbe9024fb0a84db79fbe8a7b2f"
            ],
            "layout": "IPY_MODEL_7c55fea7189243259cf59d4999ce04ba"
          }
        },
        "dbcf66dd290d4faaa20313ff3a88e089": {
          "model_module": "@jupyter-widgets/controls",
          "model_module_version": "1.5.0",
          "model_name": "FloatProgressModel",
          "state": {
            "_dom_classes": [],
            "_model_module": "@jupyter-widgets/controls",
            "_model_module_version": "1.5.0",
            "_model_name": "FloatProgressModel",
            "_view_count": null,
            "_view_module": "@jupyter-widgets/controls",
            "_view_module_version": "1.5.0",
            "_view_name": "ProgressView",
            "bar_style": "success",
            "description": "",
            "description_tooltip": null,
            "layout": "IPY_MODEL_f7be7caf5ae3488d9aad3adebbde98cc",
            "max": 437965908,
            "min": 0,
            "orientation": "horizontal",
            "style": "IPY_MODEL_76c676b156c24433ae1e624806821b4c",
            "value": 437965908
          }
        },
        "e0fb366d1ec9491ebed5fcdff57e96d4": {
          "model_module": "@jupyter-widgets/base",
          "model_module_version": "1.2.0",
          "model_name": "LayoutModel",
          "state": {
            "_model_module": "@jupyter-widgets/base",
            "_model_module_version": "1.2.0",
            "_model_name": "LayoutModel",
            "_view_count": null,
            "_view_module": "@jupyter-widgets/base",
            "_view_module_version": "1.2.0",
            "_view_name": "LayoutView",
            "align_content": null,
            "align_items": null,
            "align_self": null,
            "border": null,
            "bottom": null,
            "display": null,
            "flex": null,
            "flex_flow": null,
            "grid_area": null,
            "grid_auto_columns": null,
            "grid_auto_flow": null,
            "grid_auto_rows": null,
            "grid_column": null,
            "grid_gap": null,
            "grid_row": null,
            "grid_template_areas": null,
            "grid_template_columns": null,
            "grid_template_rows": null,
            "height": null,
            "justify_content": null,
            "justify_items": null,
            "left": null,
            "margin": null,
            "max_height": null,
            "max_width": null,
            "min_height": null,
            "min_width": null,
            "object_fit": null,
            "object_position": null,
            "order": null,
            "overflow": null,
            "overflow_x": null,
            "overflow_y": null,
            "padding": null,
            "right": null,
            "top": null,
            "visibility": null,
            "width": null
          }
        },
        "e15c4700d66d417a8f665ddd2af34907": {
          "model_module": "@jupyter-widgets/controls",
          "model_module_version": "1.5.0",
          "model_name": "DescriptionStyleModel",
          "state": {
            "_model_module": "@jupyter-widgets/controls",
            "_model_module_version": "1.5.0",
            "_model_name": "DescriptionStyleModel",
            "_view_count": null,
            "_view_module": "@jupyter-widgets/base",
            "_view_module_version": "1.2.0",
            "_view_name": "StyleView",
            "description_width": ""
          }
        },
        "e7325254f27847fa9b2b03bb8690953b": {
          "model_module": "@jupyter-widgets/base",
          "model_module_version": "1.2.0",
          "model_name": "LayoutModel",
          "state": {
            "_model_module": "@jupyter-widgets/base",
            "_model_module_version": "1.2.0",
            "_model_name": "LayoutModel",
            "_view_count": null,
            "_view_module": "@jupyter-widgets/base",
            "_view_module_version": "1.2.0",
            "_view_name": "LayoutView",
            "align_content": null,
            "align_items": null,
            "align_self": null,
            "border": null,
            "bottom": null,
            "display": null,
            "flex": null,
            "flex_flow": null,
            "grid_area": null,
            "grid_auto_columns": null,
            "grid_auto_flow": null,
            "grid_auto_rows": null,
            "grid_column": null,
            "grid_gap": null,
            "grid_row": null,
            "grid_template_areas": null,
            "grid_template_columns": null,
            "grid_template_rows": null,
            "height": null,
            "justify_content": null,
            "justify_items": null,
            "left": null,
            "margin": null,
            "max_height": null,
            "max_width": null,
            "min_height": null,
            "min_width": null,
            "object_fit": null,
            "object_position": null,
            "order": null,
            "overflow": null,
            "overflow_x": null,
            "overflow_y": null,
            "padding": null,
            "right": null,
            "top": null,
            "visibility": null,
            "width": null
          }
        },
        "e73adb0d4503414cbbf7db8e055c66b3": {
          "model_module": "@jupyter-widgets/controls",
          "model_module_version": "1.5.0",
          "model_name": "HTMLModel",
          "state": {
            "_dom_classes": [],
            "_model_module": "@jupyter-widgets/controls",
            "_model_module_version": "1.5.0",
            "_model_name": "HTMLModel",
            "_view_count": null,
            "_view_module": "@jupyter-widgets/controls",
            "_view_module_version": "1.5.0",
            "_view_name": "HTMLView",
            "description": "",
            "description_tooltip": null,
            "layout": "IPY_MODEL_b412bc29d95641c7bc05c1a91cd0d572",
            "placeholder": "​",
            "style": "IPY_MODEL_9a08bc76d3484ac29f749d28503bdc15",
            "value": "tokenizer_config.json: 100%"
          }
        },
        "e9223c7d893e4158890cb2e36fd6d5dd": {
          "model_module": "@jupyter-widgets/controls",
          "model_module_version": "1.5.0",
          "model_name": "DescriptionStyleModel",
          "state": {
            "_model_module": "@jupyter-widgets/controls",
            "_model_module_version": "1.5.0",
            "_model_name": "DescriptionStyleModel",
            "_view_count": null,
            "_view_module": "@jupyter-widgets/base",
            "_view_module_version": "1.2.0",
            "_view_name": "StyleView",
            "description_width": ""
          }
        },
        "e9a1f94f78894adcb82bac20cff440f8": {
          "model_module": "@jupyter-widgets/controls",
          "model_module_version": "1.5.0",
          "model_name": "DescriptionStyleModel",
          "state": {
            "_model_module": "@jupyter-widgets/controls",
            "_model_module_version": "1.5.0",
            "_model_name": "DescriptionStyleModel",
            "_view_count": null,
            "_view_module": "@jupyter-widgets/base",
            "_view_module_version": "1.2.0",
            "_view_name": "StyleView",
            "description_width": ""
          }
        },
        "e9fd67be76f543298eed215ded6c9265": {
          "model_module": "@jupyter-widgets/base",
          "model_module_version": "1.2.0",
          "model_name": "LayoutModel",
          "state": {
            "_model_module": "@jupyter-widgets/base",
            "_model_module_version": "1.2.0",
            "_model_name": "LayoutModel",
            "_view_count": null,
            "_view_module": "@jupyter-widgets/base",
            "_view_module_version": "1.2.0",
            "_view_name": "LayoutView",
            "align_content": null,
            "align_items": null,
            "align_self": null,
            "border": null,
            "bottom": null,
            "display": null,
            "flex": null,
            "flex_flow": null,
            "grid_area": null,
            "grid_auto_columns": null,
            "grid_auto_flow": null,
            "grid_auto_rows": null,
            "grid_column": null,
            "grid_gap": null,
            "grid_row": null,
            "grid_template_areas": null,
            "grid_template_columns": null,
            "grid_template_rows": null,
            "height": null,
            "justify_content": null,
            "justify_items": null,
            "left": null,
            "margin": null,
            "max_height": null,
            "max_width": null,
            "min_height": null,
            "min_width": null,
            "object_fit": null,
            "object_position": null,
            "order": null,
            "overflow": null,
            "overflow_x": null,
            "overflow_y": null,
            "padding": null,
            "right": null,
            "top": null,
            "visibility": null,
            "width": null
          }
        },
        "ea35eecffd354349ab2b2f50893494c3": {
          "model_module": "@jupyter-widgets/controls",
          "model_module_version": "1.5.0",
          "model_name": "ProgressStyleModel",
          "state": {
            "_model_module": "@jupyter-widgets/controls",
            "_model_module_version": "1.5.0",
            "_model_name": "ProgressStyleModel",
            "_view_count": null,
            "_view_module": "@jupyter-widgets/base",
            "_view_module_version": "1.2.0",
            "_view_name": "StyleView",
            "bar_color": null,
            "description_width": ""
          }
        },
        "ee214f305c6e45c3b4863f8a443c78f9": {
          "model_module": "@jupyter-widgets/controls",
          "model_module_version": "1.5.0",
          "model_name": "FloatProgressModel",
          "state": {
            "_dom_classes": [],
            "_model_module": "@jupyter-widgets/controls",
            "_model_module_version": "1.5.0",
            "_model_name": "FloatProgressModel",
            "_view_count": null,
            "_view_module": "@jupyter-widgets/controls",
            "_view_module_version": "1.5.0",
            "_view_name": "ProgressView",
            "bar_style": "success",
            "description": "",
            "description_tooltip": null,
            "layout": "IPY_MODEL_16a711179b3643a8ae40cf6621c5425a",
            "max": 758,
            "min": 0,
            "orientation": "horizontal",
            "style": "IPY_MODEL_f1edf9abfe634cb7911a5373256ff377",
            "value": 758
          }
        },
        "f1edf9abfe634cb7911a5373256ff377": {
          "model_module": "@jupyter-widgets/controls",
          "model_module_version": "1.5.0",
          "model_name": "ProgressStyleModel",
          "state": {
            "_model_module": "@jupyter-widgets/controls",
            "_model_module_version": "1.5.0",
            "_model_name": "ProgressStyleModel",
            "_view_count": null,
            "_view_module": "@jupyter-widgets/base",
            "_view_module_version": "1.2.0",
            "_view_name": "StyleView",
            "bar_color": null,
            "description_width": ""
          }
        },
        "f7be7caf5ae3488d9aad3adebbde98cc": {
          "model_module": "@jupyter-widgets/base",
          "model_module_version": "1.2.0",
          "model_name": "LayoutModel",
          "state": {
            "_model_module": "@jupyter-widgets/base",
            "_model_module_version": "1.2.0",
            "_model_name": "LayoutModel",
            "_view_count": null,
            "_view_module": "@jupyter-widgets/base",
            "_view_module_version": "1.2.0",
            "_view_name": "LayoutView",
            "align_content": null,
            "align_items": null,
            "align_self": null,
            "border": null,
            "bottom": null,
            "display": null,
            "flex": null,
            "flex_flow": null,
            "grid_area": null,
            "grid_auto_columns": null,
            "grid_auto_flow": null,
            "grid_auto_rows": null,
            "grid_column": null,
            "grid_gap": null,
            "grid_row": null,
            "grid_template_areas": null,
            "grid_template_columns": null,
            "grid_template_rows": null,
            "height": null,
            "justify_content": null,
            "justify_items": null,
            "left": null,
            "margin": null,
            "max_height": null,
            "max_width": null,
            "min_height": null,
            "min_width": null,
            "object_fit": null,
            "object_position": null,
            "order": null,
            "overflow": null,
            "overflow_x": null,
            "overflow_y": null,
            "padding": null,
            "right": null,
            "top": null,
            "visibility": null,
            "width": null
          }
        }
      }
    }
  },
  "nbformat": 4,
  "nbformat_minor": 0
}
