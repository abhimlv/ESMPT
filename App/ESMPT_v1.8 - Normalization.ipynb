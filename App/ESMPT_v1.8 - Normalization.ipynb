{
 "cells": [
  {
   "cell_type": "code",
   "execution_count": 1,
   "id": "ddd7deef",
   "metadata": {},
   "outputs": [],
   "source": [
    "import pandas as pd\n",
    "import numpy as np\n",
    "\n",
    "from sklearn.preprocessing import MinMaxScaler\n",
    "\n",
    "import warnings\n",
    "warnings.filterwarnings('ignore')"
   ]
  },
  {
   "cell_type": "code",
   "execution_count": 2,
   "id": "b68485a9",
   "metadata": {},
   "outputs": [
    {
     "name": "stdout",
     "output_type": "stream",
     "text": [
      "Dataset loaded: 1,989 rows × 59 columns\n"
     ]
    }
   ],
   "source": [
    "# Load the dataset\n",
    "df = pd.read_csv('B:/DCU/Practicum/Proj/Dataset/main/processed/multimodal_dataset_final3.csv')\n",
    "print(f\"Dataset loaded: {df.shape[0]:,} rows × {df.shape[1]} columns\")"
   ]
  },
  {
   "cell_type": "code",
   "execution_count": 3,
   "id": "a2dcdd8b",
   "metadata": {},
   "outputs": [
    {
     "name": "stdout",
     "output_type": "stream",
     "text": [
      "Column: news_buying_intent\n",
      "  Max: 7\n",
      "  Min: 0\n",
      "\n",
      "Column: news_selling_intent\n",
      "  Max: 6\n",
      "  Min: 0\n",
      "\n",
      "Column: news_uncertainty_intent\n",
      "  Max: 3\n",
      "  Min: 0\n",
      "\n",
      "Column: news_urgency_intent\n",
      "  Max: 4\n",
      "  Min: 0\n",
      "\n",
      "Column: news_prediction_intent\n",
      "  Max: 6\n",
      "  Min: 0\n",
      "\n",
      "Column: news_fear_intent\n",
      "  Max: 6\n",
      "  Min: 0\n",
      "\n",
      "Column: news_greed_intent\n",
      "  Max: 4\n",
      "  Min: 0\n",
      "\n",
      "Column: news_question_intent\n",
      "  Max: 11\n",
      "  Min: 0\n",
      "\n",
      "Column: news_action_intent\n",
      "  Max: 8\n",
      "  Min: 0\n",
      "\n",
      "Column: reddit_buying_intent\n",
      "  Max: 7\n",
      "  Min: 0\n",
      "\n",
      "Column: reddit_selling_intent\n",
      "  Max: 6\n",
      "  Min: 0\n",
      "\n",
      "Column: reddit_uncertainty_intent\n",
      "  Max: 3\n",
      "  Min: 0\n",
      "\n",
      "Column: reddit_urgency_intent\n",
      "  Max: 4\n",
      "  Min: 0\n",
      "\n",
      "Column: reddit_prediction_intent\n",
      "  Max: 6\n",
      "  Min: 0\n",
      "\n",
      "Column: reddit_fear_intent\n",
      "  Max: 6\n",
      "  Min: 0\n",
      "\n",
      "Column: reddit_greed_intent\n",
      "  Max: 4\n",
      "  Min: 0\n",
      "\n",
      "Column: reddit_question_intent\n",
      "  Max: 11\n",
      "  Min: 0\n",
      "\n",
      "Column: reddit_action_intent\n",
      "  Max: 8\n",
      "  Min: 0\n",
      "\n",
      "Column: total_buying_intent\n",
      "  Max: 14\n",
      "  Min: 0\n",
      "\n",
      "Column: total_selling_intent\n",
      "  Max: 12\n",
      "  Min: 0\n",
      "\n",
      "Column: total_uncertainty_intent\n",
      "  Max: 6\n",
      "  Min: 0\n",
      "\n",
      "Column: total_urgency_intent\n",
      "  Max: 8\n",
      "  Min: 0\n",
      "\n",
      "Column: total_prediction_intent\n",
      "  Max: 12\n",
      "  Min: 0\n",
      "\n",
      "Column: total_fear_intent\n",
      "  Max: 12\n",
      "  Min: 0\n",
      "\n",
      "Column: total_greed_intent\n",
      "  Max: 8\n",
      "  Min: 0\n",
      "\n",
      "Column: total_question_intent\n",
      "  Max: 22\n",
      "  Min: 0\n",
      "\n",
      "Column: total_action_intent\n",
      "  Max: 16\n",
      "  Min: 0\n",
      "\n"
     ]
    }
   ],
   "source": [
    "intent_columns = [col for col in df.columns if '_intent' in col]\n",
    "for col in intent_columns:\n",
    "    print(f\"Column: {col}\")\n",
    "    print(f\"  Max: {df[col].max()}\")\n",
    "    print(f\"  Min: {df[col].min()}\")\n",
    "    print()"
   ]
  },
  {
   "cell_type": "code",
   "execution_count": 4,
   "id": "e6630466",
   "metadata": {},
   "outputs": [
    {
     "name": "stdout",
     "output_type": "stream",
     "text": [
      "Column: sentiment_minus_uncertainty\n",
      "  Max: 0.8709523916244506\n",
      "  Min: -6.0\n",
      "\n",
      "Column: sentiment_minus_fear\n",
      "  Max: 0.8709523916244506\n",
      "  Min: -12.0\n",
      "\n",
      "Column: sentiment_minus_action\n",
      "  Max: 0.1421094663441181\n",
      "  Min: -16.0\n",
      "\n",
      "Column: sentiment_minus_urgency\n",
      "  Max: 0.8446768168359995\n",
      "  Min: -8.0\n",
      "\n",
      "Column: sentiment_minus_prediction\n",
      "  Max: 0.811383741348982\n",
      "  Min: -12.0\n",
      "\n"
     ]
    }
   ],
   "source": [
    "sentiment_columns = [col for col in df.columns if 'sentiment_minus' in col]\n",
    "for col in sentiment_columns:\n",
    "    print(f\"Column: {col}\")\n",
    "    print(f\"  Max: {df[col].max()}\")\n",
    "    print(f\"  Min: {df[col].min()}\")\n",
    "    print()"
   ]
  },
  {
   "cell_type": "code",
   "execution_count": 5,
   "id": "55299f74",
   "metadata": {},
   "outputs": [],
   "source": [
    "# Since the min-max values of sentiment and intent were a mismatch, they had to be normalized\n",
    "# before feeding them to the models"
   ]
  },
  {
   "cell_type": "code",
   "execution_count": 6,
   "id": "5fd6caa0",
   "metadata": {},
   "outputs": [
    {
     "name": "stdout",
     "output_type": "stream",
     "text": [
      "Normalizing 27 intent columns\n",
      "Intent columns normalized to [0,1] range\n",
      "Dropped 6 columns\n",
      "Created Next_3_Close and Next_7_Close targets\n",
      "Recomputed all derived sentiment-intent features\n"
     ]
    }
   ],
   "source": [
    "# Normalize all intent columns\n",
    "intent_columns = [col for col in df.columns if col.endswith('_intent')]\n",
    "print(f\"Normalizing {len(intent_columns)} intent columns\")\n",
    "\n",
    "scaler = MinMaxScaler(feature_range=(0, 1))\n",
    "df[intent_columns] = scaler.fit_transform(df[intent_columns])\n",
    "print(\"Intent columns normalized to [0,1] range\")\n",
    "\n",
    "# Drop unnecessary columns\n",
    "text_columns = ['combined_news', 'Combined_Reddit_News']\n",
    "label_columns = [col for col in df.columns if col.endswith('_label')]\n",
    "columns_to_drop = text_columns + label_columns\n",
    "existing_columns_to_drop = [col for col in columns_to_drop if col in df.columns]\n",
    "\n",
    "df = df.drop(columns=existing_columns_to_drop)\n",
    "print(f\"Dropped {len(existing_columns_to_drop)} columns\")\n",
    "\n",
    "# Create new prediction targets\n",
    "df['Next_3_Close'] = df['Close'].shift(-3)\n",
    "df['Next_7_Close'] = df['Close'].shift(-7)\n",
    "print(\"Created Next_3_Close and Next_7_Close targets\")\n",
    "# ^ These prediction targets were dropped in the next versions of the code as\n",
    "# they were just shifted versions of existing columns whinch introduced data leakage.\n",
    "# Recompute derived sentiment-intent features\n",
    "df['finbert_final_sentiment'] = 0.6 * df['FinBERT_news_sentiment'] + 0.4 * df['FinBERT_reddit_sentiment']\n",
    "\n",
    "df['sentiment_minus_fear'] = df['finbert_final_sentiment'] - df['news_fear_intent'] - df['reddit_fear_intent']\n",
    "df['sentiment_minus_uncertainty'] = df['finbert_final_sentiment'] - df['news_uncertainty_intent'] - df['reddit_uncertainty_intent']\n",
    "df['sentiment_minus_urgency'] = df['finbert_final_sentiment'] - df['news_urgency_intent'] - df['reddit_urgency_intent']\n",
    "df['sentiment_minus_prediction'] = df['finbert_final_sentiment'] - df['news_prediction_intent'] - df['reddit_prediction_intent']\n",
    "df['sentiment_minus_action'] = df['finbert_final_sentiment'] - df['news_action_intent'] - df['reddit_action_intent']\n",
    "print(\"Recomputed all derived sentiment-intent features\")"
   ]
  },
  {
   "cell_type": "code",
   "execution_count": null,
   "id": "98142c48",
   "metadata": {},
   "outputs": [
    {
     "name": "stdout",
     "output_type": "stream",
     "text": [
      "Dataset v4.1 saved: 1,989 rows × 55 columns\n",
      "Intent columns range: [0.000, 1.000]\n"
     ]
    }
   ],
   "source": [
    "# Save the dataset\n",
    "df.to_csv('multimodal_dataset_final4.1.csv', index=False)\n",
    "print(f\"Dataset v4.1 saved: {df.shape[0]:,} rows × {df.shape[1]} columns\")\n",
    "\n",
    "# Quick validation\n",
    "intent_cols = [col for col in df.columns if col.endswith('_intent')]\n",
    "print(f\"Intent columns range: [{df[intent_cols].min().min():.3f}, {df[intent_cols].max().max():.3f}]\")"
   ]
  }
 ],
 "metadata": {
  "kernelspec": {
   "display_name": "venv_3_11",
   "language": "python",
   "name": "python3"
  },
  "language_info": {
   "codemirror_mode": {
    "name": "ipython",
    "version": 3
   },
   "file_extension": ".py",
   "mimetype": "text/x-python",
   "name": "python",
   "nbconvert_exporter": "python",
   "pygments_lexer": "ipython3",
   "version": "3.11.8"
  }
 },
 "nbformat": 4,
 "nbformat_minor": 5
}
