{
 "cells": [
  {
   "cell_type": "code",
   "execution_count": 1,
   "id": "c5f49525",
   "metadata": {},
   "outputs": [
    {
     "name": "stdout",
     "output_type": "stream",
     "text": [
      "Train shape: (1591, 56), Test shape: (398, 56)\n"
     ]
    }
   ],
   "source": [
    "import pandas as pd\n",
    "\n",
    "df = pd.read_csv(\"B:/Dublin City University/Practicum/Proj/Dataset/main/processed/multimodal_dataset_final_v4_1.csv\", parse_dates=[\"Date\"])\n",
    "\n",
    "df = df.sort_values(\"Date\").reset_index(drop=True)\n",
    "\n",
    "split_index = int(len(df) * 0.8)\n",
    "\n",
    "train_df = df.iloc[:split_index].copy()\n",
    "test_df = df.iloc[split_index:].copy()\n",
    "\n",
    "print(f\"Train shape: {train_df.shape}, Test shape: {test_df.shape}\")\n",
    "\n",
    "train_df.to_csv(\"train_dataset.csv\", index=False)\n",
    "test_df.to_csv(\"test_dataset.csv\", index=False)\n"
   ]
  }
 ],
 "metadata": {
  "kernelspec": {
   "display_name": "venv_311",
   "language": "python",
   "name": "python3"
  },
  "language_info": {
   "codemirror_mode": {
    "name": "ipython",
    "version": 3
   },
   "file_extension": ".py",
   "mimetype": "text/x-python",
   "name": "python",
   "nbconvert_exporter": "python",
   "pygments_lexer": "ipython3",
   "version": "3.11.8"
  }
 },
 "nbformat": 4,
 "nbformat_minor": 5
}
